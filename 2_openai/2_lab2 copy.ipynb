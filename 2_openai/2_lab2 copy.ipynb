{
 "cells": [
  {
   "cell_type": "markdown",
   "metadata": {},
   "source": [
    "## Semana 2 Día 2\n",
    "\n",
    "**Modificaciones a tener en cuenta**\n",
    "\n",
    "1. En lugar de usar SendGrid, he usado Gmail\n",
    "2. He cambiado el nombre y la función de la empresa.\n",
    "3. Las respuestas están al final del notebook"
   ]
  },
  {
   "cell_type": "code",
   "execution_count": null,
   "metadata": {},
   "outputs": [],
   "source": [
    "from dotenv import load_dotenv\n",
    "from agents import Agent, Runner, trace, function_tool\n",
    "from openai.types.responses import ResponseTextDeltaEvent\n",
    "from typing import Dict\n",
    "# import sendgrid # NO VOY A USAR SENDGRID, SINO GMAIL\n",
    "import os\n",
    "# from sendgrid.helpers.mail import Mail, Email, To, Content\n",
    "import asyncio\n",
    "\n",
    "import smtplib\n",
    "from email.mime.text import MIMEText\n",
    "from email.mime.multipart import MIMEMultipart\n",
    "\n"
   ]
  },
  {
   "cell_type": "code",
   "execution_count": 32,
   "metadata": {},
   "outputs": [
    {
     "data": {
      "text/plain": [
       "True"
      ]
     },
     "execution_count": 32,
     "metadata": {},
     "output_type": "execute_result"
    }
   ],
   "source": [
    "load_dotenv(override=True)"
   ]
  },
  {
   "cell_type": "code",
   "execution_count": null,
   "metadata": {},
   "outputs": [],
   "source": [
    "# Probando a enviar un email con Gmail\n",
    "\n",
    "gmail_user = os.getenv(\"GMAIL_USER\")\n",
    "gmail_password = os.getenv(\"GMAIL_APP_PASSWORD\")\n",
    "\n",
    "def send_email(subject, body):\n",
    "    to_list = [\"junytrece@gmail.com\", \"musicaconyuri@gmail.com\"]\n",
    "\n",
    "    msg = MIMEText(body)\n",
    "    msg['Subject'] = subject\n",
    "    msg['From'] = gmail_user\n",
    "    msg['To'] = \", \".join(to_list)\n",
    "\n",
    "    with smtplib.SMTP_SSL('smtp.gmail.com', 465) as server:\n",
    "        server.login(gmail_user, gmail_password)\n",
    "        server.sendmail(gmail_user, to_list, msg.as_string())\n",
    "\n",
    "send_email(\"Hola desde AI agent\", \"Este es un mensaje enviado por tu agente AI.\")"
   ]
  },
  {
   "cell_type": "markdown",
   "metadata": {},
   "source": [
    "## Paso 1: Flujo de trabajo del agente"
   ]
  },
  {
   "cell_type": "code",
   "execution_count": null,
   "metadata": {},
   "outputs": [],
   "source": [
    "# Definiendo los system prompts para 3 agentes. Cada uno va a redactar un correo electrónico de ventas frío de una manera diferente.\n",
    "\n",
    "instructions1 = \"Eres un agente de ventas que trabaja para PlanchasChulas, \\\n",
    "    una empresa que vende planchas de última generación de cerámica\\\n",
    "    y otros productos para el cuidado del pelo. Redactas correos electrónicos en frío profesionales y serios.\"\n",
    "\n",
    "instructions2 = \"Eres un agente de ventas con sentido del humor y atractivo \\\n",
    "    que trabaja para PlanchasChulas, una empresa que vende planchas de última generación de cerámica \\\n",
    "    y otros productos para el cuidado del pelo. \\\n",
    "    Redactas correos electrónicos en frío ingeniosos y atractivos que probablemente obtengan respuesta.\"\n",
    "\n",
    "instructions3 = \"Eres un agente de ventas muy activo que trabaja para PlanchasChulas, \\\n",
    "    una empresa que vende planchas de última generación de cerámica\\\n",
    "    y otros productos para el cuidado del pelo. Redactas correos electrónicos en frío, concisos y directos.\""
   ]
  },
  {
   "cell_type": "code",
   "execution_count": null,
   "metadata": {},
   "outputs": [],
   "source": [
    "# Creando los agentes de ventas con las instrucciones indicadas para caada uno. \n",
    "# Estos agentes simulan diferentes enfoques de ventas, desde profesional hasta humorístico y directo.\n",
    "\n",
    "sales_agent1 = Agent(\n",
    "        name=\"Agente de ventas profesional\",\n",
    "        instructions=instructions1,\n",
    "        model=\"gpt-4o-mini\"\n",
    ")\n",
    "\n",
    "sales_agent2 = Agent(\n",
    "        name=\"Agente de ventas atractivo\",\n",
    "        instructions=instructions2,\n",
    "        model=\"gpt-4o-mini\"\n",
    ")\n",
    "\n",
    "sales_agent3 = Agent(\n",
    "        name=\"Agente de ventas ocpado\",\n",
    "        instructions=instructions3,\n",
    "        model=\"gpt-4o-mini\"\n",
    ")\n",
    "\n",
    "print(\"Los tres agentes de ventas han sido creados con éxito.\")"
   ]
  },
  {
   "cell_type": "code",
   "execution_count": 35,
   "metadata": {},
   "outputs": [],
   "source": [
    "# Definiendo el mensaje\n",
    "\n",
    "nombre_empresa = \"PlanchasChulas\"\n",
    "mi_nombre = \"Ángela\"\n",
    "nombre_destinatario = \"cliente\"\n",
    "\n",
    "message = f\"Escribe un correo electrónico de ventas en frío. El nombre del destinatario es {nombre_destinatario}. \\\n",
    "    El nombre de la empresa es {nombre_empresa}. Mi nombre es {mi_nombre}.\""
   ]
  },
  {
   "cell_type": "code",
   "execution_count": 36,
   "metadata": {},
   "outputs": [
    {
     "name": "stdout",
     "output_type": "stream",
     "text": [
      "Asunto: Mejora la Experiencia de Cuidado del Cabello con PlanchasChulas\n",
      "\n",
      "Estimado Cliente,\n",
      "\n",
      "Espero que este mensaje le encuentre bien. Mi nombre es Ángela y formo parte del equipo de PlanchasChulas, una empresa dedicada a ofrecer planchas de última generación de cerámica y otros productos para el cuidado del cabello.\n",
      "\n",
      "En un mercado donde la calidad y la innovación son fundamentales, nuestras planchas han sido diseñadas para proporcionar una experiencia única. Con tecnología avanzada y un acabado de cerámica que garantiza un deslizamiento suave, nuestras planchas no solo cuidan su cabello, sino que también ahorran tiempo en la rutina diaria de peinado.\n",
      "\n",
      "Me encantaría explorar cómo PlanchasChulas puede ayudarle a mejorar su oferta de productos o a perfeccionar su experiencia de cuidado personal. ¿Podría agendar una llamada o una reunión breve para discutirlo? Estoy segura de que encontrará valor en nuestras propuestas.\n",
      "\n",
      "Agradezco de antemano su atención y quedo a la espera de su respuesta.\n",
      "\n",
      "Saludos cordiales,\n",
      "\n",
      "Ángela  \n",
      "PlanchasChulas  \n",
      "[Tu número de contacto]  \n",
      "[Tu dirección de correo electrónico]  \n",
      "[Web de la empresa]  "
     ]
    }
   ],
   "source": [
    "# Ejecutando el agente de ventas profesional para redactar un correo electrónico (el primero)\n",
    "\n",
    "result = Runner.run_streamed(sales_agent1, input=message)\n",
    "async for event in result.stream_events():\n",
    "    if event.type == \"raw_response_event\" and isinstance(event.data, ResponseTextDeltaEvent):\n",
    "        print(event.data.delta, end=\"\", flush=True)"
   ]
  },
  {
   "cell_type": "code",
   "execution_count": 12,
   "metadata": {},
   "outputs": [
    {
     "name": "stdout",
     "output_type": "stream",
     "text": [
      "Asunto: Mejora la rutina de cuidado de tu cabello con PlanchasChulas\n",
      "\n",
      "Estimado Cliente,\n",
      "\n",
      "Espero que este mensaje te encuentre bien. Mi nombre es Ángela y formo parte del equipo de PlanchasChulas, donde nos dedicamos a ofrecer productos innovadores para el cuidado del cabello, destacándonos especialmente por nuestras planchas de cerámica de última generación.\n",
      "\n",
      "Sabemos lo importante que es mantener un cabello saludable y estilizado, y nuestras planchas están diseñadas para proporcionar un alisado perfecto sin dañar la estructura del pelo. Gracias a su tecnología avanzada, te garantizan un acabado profesional desde la comodidad de tu hogar.\n",
      "\n",
      "Nos encantaría tener la oportunidad de presentarte nuestros productos y cómo pueden beneficiarte. Si estás interesado, estaré encantada de coordinar una breve llamada o enviarte más información sobre nuestras ofertas.\n",
      "\n",
      "Agradezco tu atención y espero poder atender tus necesidades de cuidado capilar. \n",
      "\n",
      "Saludos cordiales,\n",
      "\n",
      "Ángela  \n",
      "PlanchasChulas  \n",
      "[Tu número de teléfono]  \n",
      "[Tu dirección de correo electrónico]  \n",
      "[Tu sitio web]  \n",
      "\n",
      "\n",
      "Asunto: ¡Dale un toque de magia a tu cabello con PlanchasChulas! ✨\n",
      "\n",
      "Hola Cliente,\n",
      "\n",
      "Soy Ángela de PlanchasChulas, y tengo que confesar que me emociona más que encontrar el par de calcetines que siempre estaba perdido. ¿Sabías que la vida es demasiado corta para una plancha que no hace que tu cabello brille como una estrella en Hollywood? 🌟\n",
      "\n",
      "En PlanchasChulas, nos especializamos en planchas de cerámica de última generación que no solo alisan, sino que cuidan y miman tu cabello como si fuera un VIP en un spa. Imagina tener esa melena suave y sin frizz en solo unos minutos. ¡Es casi como tener superpoderes! 🦸‍♀️\n",
      "\n",
      "Además, tenemos otros productos que complementan perfectamente esta experiencia. Un cabello radiante no tiene por qué ser un sueño lejano.\n",
      "\n",
      "¿Te gustaría probar alguna de nuestras planchas? ¡Prometo que tu cabello me lo agradecerá más que tú!\n",
      "\n",
      "Si tienes preguntas, o simplemente quieres charlar sobre las últimas tendencias capilares (o cualquier otra cosa), ¡responde a este correo! Estoy aquí para ayudarte.\n",
      "\n",
      "Espero tu respuesta con más ansias que un niño esperando la hora de la merienda.\n",
      "\n",
      "¡Saludos brillosísimos!\n",
      "\n",
      "Ángela  \n",
      "PlanchasChulas  \n",
      "Tu socia en el camino a unas ondas perfectas. 🥳✂️\n",
      "\n",
      "\n",
      "Asunto: ¡Transforma tu rutina de cuidado del cabello con PlanchasChulas!\n",
      "\n",
      "Hola Cliente,\n",
      "\n",
      "Soy Ángela de PlanchasChulas. Quería presentarte nuestras planchas de cerámica de última generación, diseñadas para ofrecer un alisado perfecto y un cuidado óptimo de tu cabello.\n",
      "\n",
      "Con tecnología avanzada, nuestras planchas no solo estilizan, sino que también protegen tu pelo del daño por calor. \n",
      "\n",
      "¿Te gustaría conocer más? Estoy aquí para ayudarte a encontrar el producto ideal para ti.\n",
      "\n",
      "Quedo atenta a tu respuesta.\n",
      "\n",
      "Saludos,\n",
      "Ángela  \n",
      "PlanchasChulas\n",
      "\n",
      "\n"
     ]
    }
   ],
   "source": [
    "# Ejecutando los agentes de ventas en paralelo para redactar correos electrónicos\n",
    "\n",
    "# message = \"Escribe un correo electrónico de ventas en frío\" # Ya\n",
    "\n",
    "with trace(\"Correos electrónicos fríos en paralelo\"):\n",
    "    results = await asyncio.gather(\n",
    "        Runner.run(sales_agent1, message),\n",
    "        Runner.run(sales_agent2, message),\n",
    "        Runner.run(sales_agent3, message),\n",
    "    )\n",
    "\n",
    "outputs = [result.final_output for result in results]\n",
    "\n",
    "for output in outputs:\n",
    "    print(output + \"\\n\\n\")\n"
   ]
  },
  {
   "cell_type": "code",
   "execution_count": null,
   "metadata": {},
   "outputs": [],
   "source": [
    "# Definiendo el agente de selección de correos electrónicos de ventas. Este agente va a seleccionar el mejor correo electrónico de ventas en frío entre las opciones disponibles.\n",
    "\n",
    "sales_picker = Agent(\n",
    "    name=\"sales_picker\",\n",
    "    instructions=\"Elige el mejor correo electrónico de ventas en frío entre las opciones disponibles. \\\n",
    "        Imagina que eres un cliente y elige el que probablemente te responda. \\\n",
    "        No des explicaciones; responde solo con el correo electrónico seleccionado.\",\n",
    "    model=\"gpt-4o-mini\"\n",
    ")"
   ]
  },
  {
   "cell_type": "code",
   "execution_count": 15,
   "metadata": {},
   "outputs": [
    {
     "name": "stdout",
     "output_type": "stream",
     "text": [
      "El mejor email de ventas:\n",
      "Asunto: ¡Descubre el poder de nuestras planchas de cerámica!\n",
      "\n",
      "Hola Cliente,\n",
      "\n",
      "Soy Ángela de PlanchasChulas. Quiero presentarte nuestras planchas de cerámica de última generación, diseñadas para ofrecerte un styling impecable y saludable. Con tecnología avanzada y resultados profesionales, lograrás el look que deseas en minutos.\n",
      "\n",
      "Además, contamos con una variedad de productos para el cuidado del cabello que complementarán tu rutina de belleza.\n",
      "\n",
      "¿Te gustaría conocer más? Estoy aquí para responder tus preguntas y ayudarte a encontrar la mejor opción para ti.\n",
      "\n",
      "Saludos,  \n",
      "Ángela  \n",
      "PlanchasChulas  \n",
      "[Tu número de contacto]  \n",
      "[Tu correo electrónico]\n"
     ]
    }
   ],
   "source": [
    "# message = \"Escribe un correo electrónico de ventas en frío\" # ya definido arriba\n",
    "\n",
    "with trace(\"Selección del equipo de ventas\"):\n",
    "    results = await asyncio.gather(\n",
    "        Runner.run(sales_agent1, message),\n",
    "        Runner.run(sales_agent2, message),\n",
    "        Runner.run(sales_agent3, message),\n",
    "    )\n",
    "    outputs = [result.final_output for result in results]\n",
    "\n",
    "    emails = \"Emails de ventas en frío:\\n\\n\".join(outputs)\n",
    "\n",
    "    best = await Runner.run(sales_picker, emails)\n",
    "\n",
    "    print(f\"El mejor email de ventas:\\n{best.final_output}\")\n"
   ]
  },
  {
   "cell_type": "markdown",
   "metadata": {},
   "source": [
    "Vamos a revisar ahora la traza:\n",
    "\n",
    "https://platform.openai.com/traces"
   ]
  },
  {
   "cell_type": "markdown",
   "metadata": {},
   "source": [
    "## Parte 2: Uso de herramientas\n",
    "\n",
    "Ahora añadiremos una herramienta.\n",
    "\n",
    "Recuerda todo el código JSON repetitivo y la función `handle_tool_calls()` con la lógica `if`."
   ]
  },
  {
   "cell_type": "code",
   "execution_count": null,
   "metadata": {},
   "outputs": [],
   "source": [
    "# Creando los tools, que no dejan de ser agentes...\n",
    "# Esto ya estaba predefinido arriba, se repite para claridad\n",
    "\n",
    "sales_agent1 = Agent(\n",
    "        name=\"Agente de ventas profesional\",\n",
    "        instructions=instructions1,\n",
    "        model=\"gpt-4o-mini\"\n",
    ")\n",
    "\n",
    "sales_agent2 = Agent(\n",
    "        name=\"Agente de ventas atractivo\",\n",
    "        instructions=instructions2,\n",
    "        model=\"gpt-4o-mini\"\n",
    ")\n",
    "\n",
    "sales_agent3 = Agent(\n",
    "        name=\"Agente de ventas ocpado\",\n",
    "        instructions=instructions3,\n",
    "        model=\"gpt-4o-mini\"\n",
    ")"
   ]
  },
  {
   "cell_type": "code",
   "execution_count": 10,
   "metadata": {},
   "outputs": [
    {
     "data": {
      "text/plain": [
       "Agent(name='Agente de ventas profesional', instructions='Eres un agente de ventas que trabaja para ComplAI,     una empresa que ofrece una herramienta SaaS para garantizar el cumplimiento de SOC2    y prepararse para auditorías, impulsada por IA. Redactas correos electrónicos en frío profesionales y serios.', handoff_description=None, handoffs=[], model='gpt-4o-mini', model_settings=ModelSettings(temperature=None, top_p=None, frequency_penalty=None, presence_penalty=None, tool_choice=None, parallel_tool_calls=None, truncation=None, max_tokens=None, reasoning=None, metadata=None, store=None, include_usage=None, extra_query=None, extra_body=None, extra_headers=None), tools=[], mcp_servers=[], mcp_config={}, input_guardrails=[], output_guardrails=[], output_type=None, hooks=None, tool_use_behavior='run_llm_again', reset_tool_choice=True)"
      ]
     },
     "execution_count": 10,
     "metadata": {},
     "output_type": "execute_result"
    }
   ],
   "source": [
    "sales_agent1"
   ]
  },
  {
   "cell_type": "markdown",
   "metadata": {},
   "source": [
    "## Pasos 2 y 3: Interacción con herramientas y agentes\n",
    "\n",
    "¿Recuerdas todo ese JSON repetitivo?\n",
    "\n",
    "Simplemente encapsula tu función con el decorador `@function_tool`"
   ]
  },
  {
   "cell_type": "code",
   "execution_count": null,
   "metadata": {},
   "outputs": [],
   "source": [
    "# USO GMAIL MÁS ABAJO, por eso no voy a usar SendGrid\n",
    "\n",
    "# @function_tool\n",
    "# def send_email(body: str):\n",
    "#     \"\"\" Envía un correo electrónico con el cuerpo indicado a todos los clientes potenciales de ventas. \"\"\"\n",
    "#     sg = sendgrid.SendGridAPIClient(api_key=os.environ.get('SENDGRID_API_KEY'))\n",
    "#     from_email = Email(\"juangabriel@frogames.es\")  # Cambiar a tu remitente verificado\n",
    "#     to_email = To(\"juangabriel@frogames.es\")  # Cambiar a sureceptor\n",
    "#     content = Content(\"text/plain\", body)\n",
    "#     mail = Mail(from_email, to_email, \"Email de ventas\", content).get()\n",
    "#     response = sg.client.mail.send.post(request_body=mail)\n",
    "#     return {\"status\": \"success\"}"
   ]
  },
  {
   "cell_type": "code",
   "execution_count": null,
   "metadata": {},
   "outputs": [],
   "source": [
    "# Creando otra herramienta para enviar correos electrónicos. La diferencia aquí es que esta herramiento no es un agente, sino una función que envía un correo electrónico directamente.\n",
    "# Esta herramienta se va a usar para enviar el correo electrónico de ventas seleccionado por el agente sales_picker\n",
    "\n",
    "@function_tool\n",
    "def send_email(subject: str, body: str):\n",
    "    to_list = [\"angeladiaz1997@gmail.com\", \"junytrece@gmail.com\"]\n",
    "\n",
    "    msg = MIMEText(body)\n",
    "    msg['Subject'] = subject\n",
    "    msg['From'] = gmail_user\n",
    "    msg['To'] = \", \".join(to_list)\n",
    "\n",
    "    with smtplib.SMTP_SSL('smtp.gmail.com', 465) as server:\n",
    "        server.login(gmail_user, gmail_password)\n",
    "        server.sendmail(gmail_user, to_list, msg.as_string())\n",
    "    return {\"status\": \"success\"}"
   ]
  },
  {
   "cell_type": "markdown",
   "metadata": {},
   "source": [
    "### Esto se ha convertido automáticamente en una herramienta, con el json repetitivo creado"
   ]
  },
  {
   "cell_type": "code",
   "execution_count": 22,
   "metadata": {},
   "outputs": [
    {
     "data": {
      "text/plain": [
       "FunctionTool(name='send_email', description='Envía un correo electrónico con el cuerpo indicado a todos los clientes potenciales de ventas.', params_json_schema={'properties': {'subject': {'title': 'Subject', 'type': 'string'}, 'body': {'title': 'Body', 'type': 'string'}, 'to': {'title': 'To', 'type': 'string'}}, 'required': ['subject', 'body', 'to'], 'title': 'send_email_args', 'type': 'object', 'additionalProperties': False}, on_invoke_tool=<function function_tool.<locals>._create_function_tool.<locals>._on_invoke_tool at 0x0000020B1B586DE0>, strict_json_schema=True, is_enabled=True)"
      ]
     },
     "execution_count": 22,
     "metadata": {},
     "output_type": "execute_result"
    }
   ],
   "source": [
    "# Echémosle un vistazo\n",
    "send_email"
   ]
  },
  {
   "cell_type": "markdown",
   "metadata": {},
   "source": [
    "### Y también puedes convertir un Agente en una herramienta"
   ]
  },
  {
   "cell_type": "code",
   "execution_count": 18,
   "metadata": {},
   "outputs": [
    {
     "data": {
      "text/plain": [
       "FunctionTool(name='sales_agent1', description='Escribe un email de ventas en frío', params_json_schema={'properties': {'input': {'title': 'Input', 'type': 'string'}}, 'required': ['input'], 'title': 'sales_agent1_args', 'type': 'object', 'additionalProperties': False}, on_invoke_tool=<function function_tool.<locals>._create_function_tool.<locals>._on_invoke_tool at 0x0000020B1CCB2200>, strict_json_schema=True, is_enabled=True)"
      ]
     },
     "execution_count": 18,
     "metadata": {},
     "output_type": "execute_result"
    }
   ],
   "source": [
    "tool1 = sales_agent1.as_tool(tool_name=\"sales_agent1\", tool_description=\"Escribe un email de ventas en frío\")\n",
    "tool1"
   ]
  },
  {
   "cell_type": "markdown",
   "metadata": {},
   "source": [
    "### Ahora podemos reunir todas las herramientas:\n",
    "\n",
    "Una herramienta para cada uno de nuestros tres agentes de redacción de correos electrónicos\n",
    "\n",
    "Y una herramienta para nuestra función de envío de correos electrónicos"
   ]
  },
  {
   "cell_type": "code",
   "execution_count": null,
   "metadata": {},
   "outputs": [
    {
     "data": {
      "text/plain": [
       "[FunctionTool(name='sales_agent1', description=\"Envía un correo electrónico de ventas frío dirigido a 'Estimado cliente'\", params_json_schema={'properties': {'input': {'title': 'Input', 'type': 'string'}}, 'required': ['input'], 'title': 'sales_agent1_args', 'type': 'object', 'additionalProperties': False}, on_invoke_tool=<function function_tool.<locals>._create_function_tool.<locals>._on_invoke_tool at 0x0000020B1F253560>, strict_json_schema=True, is_enabled=True),\n",
       " FunctionTool(name='sales_agent2', description=\"Envía un correo electrónico de ventas frío dirigido a 'Estimado cliente'\", params_json_schema={'properties': {'input': {'title': 'Input', 'type': 'string'}}, 'required': ['input'], 'title': 'sales_agent2_args', 'type': 'object', 'additionalProperties': False}, on_invoke_tool=<function function_tool.<locals>._create_function_tool.<locals>._on_invoke_tool at 0x0000020B1F253CE0>, strict_json_schema=True, is_enabled=True),\n",
       " FunctionTool(name='sales_agent3', description=\"Envía un correo electrónico de ventas frío dirigido a 'Estimado cliente'\", params_json_schema={'properties': {'input': {'title': 'Input', 'type': 'string'}}, 'required': ['input'], 'title': 'sales_agent3_args', 'type': 'object', 'additionalProperties': False}, on_invoke_tool=<function function_tool.<locals>._create_function_tool.<locals>._on_invoke_tool at 0x0000020B1F2902C0>, strict_json_schema=True, is_enabled=True),\n",
       " FunctionTool(name='send_email', description='', params_json_schema={'properties': {'subject': {'title': 'Subject', 'type': 'string'}, 'body': {'title': 'Body', 'type': 'string'}}, 'required': ['subject', 'body'], 'title': 'send_email_args', 'type': 'object', 'additionalProperties': False}, on_invoke_tool=<function function_tool.<locals>._create_function_tool.<locals>._on_invoke_tool at 0x0000020B1F252CA0>, strict_json_schema=True, is_enabled=True)]"
      ]
     },
     "execution_count": 72,
     "metadata": {},
     "output_type": "execute_result"
    }
   ],
   "source": [
    "# Reuniendo todos los tools en una lista, tanto los agentes convertidos en tool como la función de envío de correos electrónicos. Esto se usará en un agente final.\n",
    "\n",
    "# description = \"Escribe un correo electrónico de ventas en frío\"\n",
    "description = message  # Usando el mensaje definido arriba\n",
    "\n",
    "tool1 = sales_agent1.as_tool(tool_name=\"sales_agent1\", tool_description=description)\n",
    "tool2 = sales_agent2.as_tool(tool_name=\"sales_agent2\", tool_description=description)\n",
    "tool3 = sales_agent3.as_tool(tool_name=\"sales_agent3\", tool_description=description)\n",
    "\n",
    "tools = [tool1, tool2, tool3, send_email]\n",
    "\n",
    "tools"
   ]
  },
  {
   "cell_type": "markdown",
   "metadata": {},
   "source": [
    "## Y ahora es el momento para nuestro Gerente de Ventas - nuestro agente de planificación"
   ]
  },
  {
   "cell_type": "code",
   "execution_count": null,
   "metadata": {},
   "outputs": [],
   "source": [
    "# Aquí definimos el agente de ventas final, que va a usar los tools definidos arriba para generar un correo electrónico de ventas en frío y enviarlo.\n",
    "\n",
    "instructions =\"Eres gerente de ventas y trabajas para PlanchasChulas. Tu nombre es Ángela. \\\n",
    "Utilizas las herramientas que te proporcionamos para generar correos electrónicos de ventas en frío. \\\n",
    "Nunca generas correos electrónicos de ventas tú mismo; siempre usas las herramientas. \\\n",
    "Pruebas las tres herramientas de sales_agent una vez antes de elegir la mejor. \\\n",
    "Eliges el mejor correo electrónico y usas la herramienta send_email para enviar el mejor correo electrónico (y solo el mejor) al usuario.\"\n",
    "\n",
    "\n",
    "sales_manager = Agent(name=\"Manager de ventas\", instructions=instructions, tools=tools, model=\"gpt-4o-mini\")\n",
    "\n",
    "message = \"Envía un correo electrónico de ventas frío dirigido a 'Estimado cliente'\"\n",
    "\n",
    "with trace(\"Manager de ventas\"):\n",
    "    result = await Runner.run(sales_manager, message)"
   ]
  },
  {
   "cell_type": "markdown",
   "metadata": {},
   "source": [
    "## Recuerda revisar el seguimiento\n",
    "\n",
    "https://platform.openai.com/traces\n",
    "\n",
    "¡Y luego revisa tu correo electrónico!"
   ]
  },
  {
   "cell_type": "markdown",
   "metadata": {},
   "source": [
    "### Las transferencias (handoffs) representan una forma en que un agente puede delegar en otro agente, transfiriéndole el control.\n",
    "\n",
    "Las transferencias y los agentes como herramientas son similares:\n",
    "\n",
    "En ambos casos, un agente puede colaborar con otro.\n",
    "\n",
    "Con las herramientas, el control se transfiere.\n",
    "\n",
    "Con las transferencias, el control se transfiere."
   ]
  },
  {
   "cell_type": "code",
   "execution_count": 74,
   "metadata": {},
   "outputs": [],
   "source": [
    "subject_instructions = \"Puedes escribir un asunto para un correo electrónico de ventas en frío. \\\n",
    "    Se te proporciona un mensaje y necesitas escribir un asunto para un correo electrónico que probablemente obtenga respuesta.\"\n",
    "\n",
    "html_instructions = \"Puedes convertir un cuerpo de correo electrónico de texto a un cuerpo de correo electrónico HTML. \\\n",
    "    Se te proporciona un cuerpo de correo electrónico de texto que puede tener algún markdown \\\n",
    "    y necesitas convertirlo a un cuerpo de correo electrónico HTML con un diseño simple, claro y atractivo.\"\n",
    "\n",
    "subject_writer = Agent(name=\"Escritor de asunto de correo electrónico\", instructions=subject_instructions, model=\"gpt-4o-mini\")\n",
    "subject_tool = subject_writer.as_tool(tool_name=\"subject_writer\", \n",
    "                                      tool_description=\"Escribe un asunto para un correo electrónico de ventas en frío\")\n",
    "\n",
    "html_converter = Agent(name=\"Conversor de cuerpo de correo electrónico HTML\", instructions=html_instructions, model=\"gpt-4o-mini\")\n",
    "html_tool = html_converter.as_tool(tool_name=\"html_converter\",\n",
    "                                   tool_description=\"Convierte un cuerpo de correo electrónico de texto a un cuerpo de correo electrónico HTML\")\n"
   ]
  },
  {
   "cell_type": "code",
   "execution_count": null,
   "metadata": {},
   "outputs": [],
   "source": [
    "# USO GMAIL MÁS ABAJO, por eso no voy a usar SendGrid\n",
    "\n",
    "# @function_tool\n",
    "# def send_html_email(subject: str, html_body: str) -> Dict[str, str]:\n",
    "#     \"\"\" Envía un correo electrónico con el asunto y el cuerpo HTML a todos los clientes potenciales de ventas \"\"\"\n",
    "#     sg = sendgrid.SendGridAPIClient(api_key=os.environ.get('SENDGRID_API_KEY'))\n",
    "#     from_email = Email(\"juangabriel@frogames.es\")  # Cambiar a tu remitente verificado\n",
    "#     to_email = To(\"juangabriel@frogames.es\")  # Cambiar a sureceptor\n",
    "#     content = Content(\"text/html\", html_body)\n",
    "#     mail = Mail(from_email, to_email, subject, content).get()\n",
    "#     response = sg.client.mail.send.post(request_body=mail)\n",
    "#     return {\"status\": \"success\"}"
   ]
  },
  {
   "cell_type": "code",
   "execution_count": null,
   "metadata": {},
   "outputs": [],
   "source": [
    "\n",
    "\n",
    "@function_tool\n",
    "def send_html_email(subject: str, html_body: str) -> dict:\n",
    "    \"\"\"\n",
    "    Envía un correo electrónico con el asunto y el cuerpo HTML a todos los clientes potenciales de ventas usando Gmail.\n",
    "    \"\"\"\n",
    "    gmail_user = os.getenv(\"GMAIL_USER\")\n",
    "    gmail_password = os.getenv(\"GMAIL_APP_PASSWORD\")\n",
    "    to_list = [\"junytrece@gmail.com\", \"musicaconyuri@gmail.com\"]\n",
    "\n",
    "    msg = MIMEMultipart(\"alternative\")\n",
    "    msg['Subject'] = subject\n",
    "    msg['From'] = gmail_user\n",
    "    msg['To'] = \", \".join(to_list)\n",
    "    msg.attach(MIMEText(html_body, \"html\"))\n",
    "\n",
    "    with smtplib.SMTP_SSL('smtp.gmail.com', 465) as server:\n",
    "        server.login(gmail_user, gmail_password)\n",
    "        server.sendmail(gmail_user, to_list, msg.as_string())\n",
    "    return {\"status\": \"success\"}"
   ]
  },
  {
   "cell_type": "code",
   "execution_count": 76,
   "metadata": {},
   "outputs": [],
   "source": [
    "tools = [subject_tool, html_tool, send_html_email]"
   ]
  },
  {
   "cell_type": "code",
   "execution_count": 77,
   "metadata": {},
   "outputs": [
    {
     "data": {
      "text/plain": [
       "[FunctionTool(name='subject_writer', description='Escribe un asunto para un correo electrónico de ventas en frío', params_json_schema={'properties': {'input': {'title': 'Input', 'type': 'string'}}, 'required': ['input'], 'title': 'subject_writer_args', 'type': 'object', 'additionalProperties': False}, on_invoke_tool=<function function_tool.<locals>._create_function_tool.<locals>._on_invoke_tool at 0x0000020B1F290C20>, strict_json_schema=True, is_enabled=True),\n",
       " FunctionTool(name='html_converter', description='Convierte un cuerpo de correo electrónico de texto a un cuerpo de correo electrónico HTML', params_json_schema={'properties': {'input': {'title': 'Input', 'type': 'string'}}, 'required': ['input'], 'title': 'html_converter_args', 'type': 'object', 'additionalProperties': False}, on_invoke_tool=<function function_tool.<locals>._create_function_tool.<locals>._on_invoke_tool at 0x0000020B1F290720>, strict_json_schema=True, is_enabled=True),\n",
       " FunctionTool(name='send_html_email', description='Envía un correo electrónico con el asunto y el cuerpo HTML a todos los clientes potenciales de ventas usando Gmail.', params_json_schema={'properties': {'subject': {'title': 'Subject', 'type': 'string'}, 'html_body': {'title': 'Html Body', 'type': 'string'}}, 'required': ['subject', 'html_body'], 'title': 'send_html_email_args', 'type': 'object', 'additionalProperties': False}, on_invoke_tool=<function function_tool.<locals>._create_function_tool.<locals>._on_invoke_tool at 0x0000020B1EFAB920>, strict_json_schema=True, is_enabled=True)]"
      ]
     },
     "execution_count": 77,
     "metadata": {},
     "output_type": "execute_result"
    }
   ],
   "source": [
    "tools"
   ]
  },
  {
   "cell_type": "code",
   "execution_count": null,
   "metadata": {},
   "outputs": [],
   "source": [
    "# Creando el agente de gestión de correos electrónicos que va a usar las herramientas definidas arriba para redactar un correo electrónico de ventas en frío, convertirlo a HTML y enviarlo.\n",
    "# Este agente va a usar las herramientas subject_writer, html_converter y send_html_email para redactar, convertir y enviar el correo electrónico de ventas en frío.\n",
    "\n",
    "instructions =\"Eres un formateador y remitente de correos electrónicos. \\\n",
    "    Recibes el cuerpo de un correo electrónico para enviarlo. \\\n",
    "    Primero usas la herramienta subject_writer para escribir un asunto para el correo electrónico, \\\n",
    "    luego usas la herramienta html_converter para convertir el cuerpo a HTML. \\\n",
    "    Finalmente, usas la herramienta send_html_email para enviar el correo electrónico con el asunto y el cuerpo HTML.\"\n",
    "\n",
    "\n",
    "emailer_agent = Agent(\n",
    "    name=\"Email Manager\",\n",
    "    instructions=instructions,\n",
    "    tools=tools,\n",
    "    model=\"gpt-4o-mini\",\n",
    "    handoff_description=\"Convierte un email a HTML y lo envía\")\n"
   ]
  },
  {
   "cell_type": "markdown",
   "metadata": {},
   "source": [
    "### Ahora tenemos 3 herramientas y 1 transferencia"
   ]
  },
  {
   "cell_type": "code",
   "execution_count": 79,
   "metadata": {},
   "outputs": [
    {
     "name": "stdout",
     "output_type": "stream",
     "text": [
      "[FunctionTool(name='sales_agent1', description=\"Envía un correo electrónico de ventas frío dirigido a 'Estimado cliente'\", params_json_schema={'properties': {'input': {'title': 'Input', 'type': 'string'}}, 'required': ['input'], 'title': 'sales_agent1_args', 'type': 'object', 'additionalProperties': False}, on_invoke_tool=<function function_tool.<locals>._create_function_tool.<locals>._on_invoke_tool at 0x0000020B1F253560>, strict_json_schema=True, is_enabled=True), FunctionTool(name='sales_agent2', description=\"Envía un correo electrónico de ventas frío dirigido a 'Estimado cliente'\", params_json_schema={'properties': {'input': {'title': 'Input', 'type': 'string'}}, 'required': ['input'], 'title': 'sales_agent2_args', 'type': 'object', 'additionalProperties': False}, on_invoke_tool=<function function_tool.<locals>._create_function_tool.<locals>._on_invoke_tool at 0x0000020B1F253CE0>, strict_json_schema=True, is_enabled=True), FunctionTool(name='sales_agent3', description=\"Envía un correo electrónico de ventas frío dirigido a 'Estimado cliente'\", params_json_schema={'properties': {'input': {'title': 'Input', 'type': 'string'}}, 'required': ['input'], 'title': 'sales_agent3_args', 'type': 'object', 'additionalProperties': False}, on_invoke_tool=<function function_tool.<locals>._create_function_tool.<locals>._on_invoke_tool at 0x0000020B1F2902C0>, strict_json_schema=True, is_enabled=True)]\n",
      "[Agent(name='Email Manager', handoff_description='Convierte un email a HTML y lo envía', tools=[FunctionTool(name='subject_writer', description='Escribe un asunto para un correo electrónico de ventas en frío', params_json_schema={'properties': {'input': {'title': 'Input', 'type': 'string'}}, 'required': ['input'], 'title': 'subject_writer_args', 'type': 'object', 'additionalProperties': False}, on_invoke_tool=<function function_tool.<locals>._create_function_tool.<locals>._on_invoke_tool at 0x0000020B1F290C20>, strict_json_schema=True, is_enabled=True), FunctionTool(name='html_converter', description='Convierte un cuerpo de correo electrónico de texto a un cuerpo de correo electrónico HTML', params_json_schema={'properties': {'input': {'title': 'Input', 'type': 'string'}}, 'required': ['input'], 'title': 'html_converter_args', 'type': 'object', 'additionalProperties': False}, on_invoke_tool=<function function_tool.<locals>._create_function_tool.<locals>._on_invoke_tool at 0x0000020B1F290720>, strict_json_schema=True, is_enabled=True), FunctionTool(name='send_html_email', description='Envía un correo electrónico con el asunto y el cuerpo HTML a todos los clientes potenciales de ventas usando Gmail.', params_json_schema={'properties': {'subject': {'title': 'Subject', 'type': 'string'}, 'html_body': {'title': 'Html Body', 'type': 'string'}}, 'required': ['subject', 'html_body'], 'title': 'send_html_email_args', 'type': 'object', 'additionalProperties': False}, on_invoke_tool=<function function_tool.<locals>._create_function_tool.<locals>._on_invoke_tool at 0x0000020B1EFAB920>, strict_json_schema=True, is_enabled=True)], mcp_servers=[], mcp_config={}, instructions='Eres un formateador y remitente de correos electrónicos.     Recibes el cuerpo de un correo electrónico para enviarlo.     Primero usas la herramienta subject_writer para escribir un asunto para el correo electrónico,     luego usas la herramienta html_converter para convertir el cuerpo a HTML.     Finalmente, usas la herramienta send_html_email para enviar el correo electrónico con el asunto y el cuerpo HTML.', prompt=None, handoffs=[], model='gpt-4o-mini', model_settings=ModelSettings(temperature=None, top_p=None, frequency_penalty=None, presence_penalty=None, tool_choice=None, parallel_tool_calls=None, truncation=None, max_tokens=None, reasoning=None, metadata=None, store=None, include_usage=None, response_include=None, extra_query=None, extra_body=None, extra_headers=None, extra_args=None), input_guardrails=[], output_guardrails=[], output_type=None, hooks=None, tool_use_behavior='run_llm_again', reset_tool_choice=True)]\n"
     ]
    }
   ],
   "source": [
    "tools = [tool1, tool2, tool3]\n",
    "handoffs = [emailer_agent]\n",
    "print(tools)\n",
    "print(handoffs)"
   ]
  },
  {
   "cell_type": "code",
   "execution_count": null,
   "metadata": {},
   "outputs": [],
   "source": [
    "# Aquí definimos el agente de ventas final, que va a usar los tools definidos arriba para generar un correo electrónico de ventas en frío y enviarlo. La diferencia de este agente final\n",
    "# con el que se difinió arriba está en que este agente va a usar las herramientas subject_writer, html_converter y send_html_email para redactar, convertir y enviar el correo electrónico de ventas en frío.\n",
    "# El anterior no delegaba el envío del correo electrónico a otro agente, sino que lo hacía directamente, sin usar herramientas de HTML y subject.\n",
    "\n",
    "sales_manager_instructions = \"Eres un gerente de ventas que trabaja para PlanchasChulas. Te llamas Ángela. Utilizas las herramientas que se te proporcionan para generar correos electrónicos de ventas en frío. \\\n",
    "Nunca generas correos electrónicos de ventas tú mismo; siempre utilizas las herramientas. \\\n",
    "Pruebas las 3 herramientas del agente de ventas al menos una vez antes de elegir la mejor. \\\n",
    "Puedes usar las herramientas múltiples veces si no estás satisfecho con los resultados del primer intento. \\\n",
    "Seleccionas el mejor correo electrónico usando tu propio criterio sobre cuál será más efectivo. \\\n",
    "Después de elegir el correo electrónico, transfieres al agente Email Manager para formatear y enviar el correo.\"\n",
    "\n",
    "\n",
    "sales_manager = Agent(\n",
    "    name=\"Manager de ventas\",\n",
    "    instructions=sales_manager_instructions,\n",
    "    tools=tools,\n",
    "    handoffs=handoffs,\n",
    "    model=\"gpt-4o-mini\")\n",
    "\n",
    "message = \"Envía un correo electrónico de ventas en frío dirigido a 'Estimado director ejecutivo'\"\n",
    "\n",
    "with trace(\"Automated SDR\"):\n",
    "    result = await Runner.run(sales_manager, message)"
   ]
  },
  {
   "cell_type": "markdown",
   "metadata": {},
   "source": [
    "### Recuerda revisar el seguimiento\n",
    "\n",
    "https://platform.openai.com/traces\n",
    "\n",
    "¡Y luego revisa tu correo electrónico!"
   ]
  },
  {
   "cell_type": "markdown",
   "metadata": {},
   "source": [
    "<table style=\"margin: 0; text-align: left; width:100%\">\n",
    "    <tr>\n",
    "        <td style=\"width: 150px; height: 150px; vertical-align: middle;\">\n",
    "            <img src=\"../assets/exercise.png\" width=\"150\" height=\"150\" style=\"display: block;\" />\n",
    "        </td>\n",
    "        <td>\n",
    "            <h2 style=\"color:#ff7800;\">Ejercicio</h2>\n",
    "<span style=\"color:#ff7800;\">¿Puedes identificar los patrones de diseño de Agentic que se han usado aquí?<br/>\n",
    "¿Cuál es la línea que cambió esto de ser un \"flujo de trabajo\" de Agentic a un \"agente\" según la definición de Anthropic?<br/>\n",
    "¡Intenta agregar más herramientas y agentes! Podrías tener herramientas que gestionen la combinación de correspondencia para enviar a una lista.<br/><br/>\n",
    "RETO DIFÍCIL: Investiga cómo puedes hacer que SendGrid llame a un webhook de devolución de llamada cuando un usuario responde a un correo electrónico.\n",
    "Luego, haz que el SDR responda para continuar la conversación. Esto puede requerir algo de programación de ambiente. 😂\n",
    "</span>\n",
    "        </td>\n",
    "    </tr>\n",
    "</table>"
   ]
  },
  {
   "cell_type": "markdown",
   "metadata": {},
   "source": [
    "## Respuestas\n",
    "\n",
    "1. Creo que es Orquestador-Trabajador. Hay un agente principal que es el **Manager de Ventas** el cual usa tres herramientas que a su vez no dejan de ser agentes convertidos en herramientas para escribir diferentes estilos de email. Y finalmente el agente el agente que manda emails aplicando html y añadiendo un asunto.\n",
    "2. Creo que el momento clave es cuando dejamos al agente decidir cuál es el mejor correo. En ese momento se cumple la autonomía de un agente que decide una acción."
   ]
  }
 ],
 "metadata": {
  "kernelspec": {
   "display_name": ".venv",
   "language": "python",
   "name": "python3"
  },
  "language_info": {
   "codemirror_mode": {
    "name": "ipython",
    "version": 3
   },
   "file_extension": ".py",
   "mimetype": "text/x-python",
   "name": "python",
   "nbconvert_exporter": "python",
   "pygments_lexer": "ipython3",
   "version": "3.13.5"
  }
 },
 "nbformat": 4,
 "nbformat_minor": 2
}
