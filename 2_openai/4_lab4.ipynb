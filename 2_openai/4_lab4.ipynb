{
 "cells": [
  {
   "cell_type": "markdown",
   "metadata": {},
   "source": [
    "## Investigación Profunda\n",
    "\n",
    "¡Uno de los casos de uso clásicos de Agentic en diferentes empresas! ¡Esto es enorme!"
   ]
  },
  {
   "cell_type": "markdown",
   "metadata": {},
   "source": [
    "<table style=\"margin: 0; text-align: left; width:100%\">\n",
    "    <tr>\n",
    "        <td style=\"width: 150px; height: 150px; vertical-align: middle;\">\n",
    "            <img src=\"../assets/business.png\" width=\"150\" height=\"150\" style=\"display: block;\" />\n",
    "        </td>\n",
    "        <td>\n",
    "            <h2 style=\"color:#00bfff;\">Implicaciones comerciales</h2>\n",
    "            <span style=\"color:#00bfff;\">Un agente de Investigación Profunda es ampliamente aplicable a cualquier área de negocio y a tus actividades diarias. ¡Puedes usarlo tú mismo!\n",
    "            </span>\n",
    "        </td>\n",
    "    </tr>\n",
    "</table>"
   ]
  },
  {
   "cell_type": "code",
   "execution_count": 20,
   "metadata": {},
   "outputs": [],
   "source": [
    "from agents import Agent, WebSearchTool, trace, Runner, gen_trace_id, function_tool\n",
    "from agents.model_settings import ModelSettings\n",
    "from pydantic import BaseModel, Field\n",
    "from dotenv import load_dotenv\n",
    "import asyncio\n",
    "import sendgrid\n",
    "import os\n",
    "from sendgrid.helpers.mail import Mail, Email, To, Content\n",
    "from typing import Dict\n",
    "from IPython.display import display, Markdown"
   ]
  },
  {
   "cell_type": "code",
   "execution_count": 2,
   "metadata": {},
   "outputs": [
    {
     "data": {
      "text/plain": [
       "True"
      ]
     },
     "execution_count": 2,
     "metadata": {},
     "output_type": "execute_result"
    }
   ],
   "source": [
    "load_dotenv(override=True)"
   ]
  },
  {
   "cell_type": "markdown",
   "metadata": {},
   "source": [
    "## Herramientas alojadas de OpenAI\n",
    "\n",
    "El SDK de agentes de OpenAI incluye las siguientes herramientas alojadas:\n",
    "\n",
    "- La herramienta `WebSearchTool` permite a un agente buscar en la web.\n",
    "- La herramienta `FileSearchTool` permite recuperar información de sus almacenes de vectores de OpenAI.\n",
    "- La herramienta `ComputerTool` permite automatizar tareas informáticas como tomar capturas de pantalla y hacer clic.\n",
    "\n",
    "### Nota importante: Costo de la API de la herramienta `WebSearchTool`\n",
    "\n",
    "Esto me cuesta 2,5 centavos por llamada para la herramienta `WebSearchTool` de OpenAI. Esto puede suponer entre 2 y 3 dólares para los próximos dos laboratorios. Usaremos herramientas de búsqueda de bajo coste con otras plataformas, así que no dude en omitir esta opción si le preocupa el coste.\n",
    "\n",
    "Los costes están disponibles aquí: https://platform.openai.com/docs/pricing#web-search"
   ]
  },
  {
   "cell_type": "code",
   "execution_count": 3,
   "metadata": {},
   "outputs": [],
   "source": [
    "INSTRUCTIONS = \"Eres un asistente de investigación. Dado un término de búsqueda, buscas en la web ese término y \\\n",
    "producí una descripción concisa de los resultados. La descripción debe tener 2-3 párrafos y menos de 300 \\\n",
    "palabras. Captura los puntos principales. Escribe de manera concisa, no es necesario tener frases completas o buena \\\n",
    "gramática. Esto será consumido por alguien que está sintetizando un informe, por lo que es vital que captures el \\\n",
    "esencia y ignores cualquier fluff. No incluyas ningún comentario adicional más que la descripción en sí.\"\n",
    "\n",
    "search_agent = Agent(\n",
    "    name=\"Agente de búsqueda\",\n",
    "    instructions=INSTRUCTIONS,\n",
    "    tools=[WebSearchTool(search_context_size=\"low\")],\n",
    "    model=\"gpt-4o-mini\",\n",
    "    model_settings=ModelSettings(tool_choice=\"required\"),\n",
    ")"
   ]
  },
  {
   "cell_type": "code",
   "execution_count": 4,
   "metadata": {},
   "outputs": [
    {
     "data": {
      "text/markdown": [
       "En 2025, emergen varios frameworks de agentes de inteligencia artificial (IA) que facilitan la creación y gestión de sistemas autónomos. LangGraph, desarrollado por los creadores de LangChain, ofrece un marco modular para construir agentes basados en modelos de lenguaje (LLM), permitiendo la ejecución de flujos de trabajo complejos con encadenamiento de tareas y gestión de memoria. CrewAI, respaldado por Andrew Ng, permite la creación de equipos de IA donde cada agente tiene funciones y objetivos específicos, colaborando para resolver tareas complejas. AutoGen de Microsoft es un framework de código abierto que facilita la cooperación entre múltiples agentes de IA para resolver tareas, basado en el modelo de actores donde cada agente es un actor independiente. FlowiseAI es una herramienta de código bajo que permite a los desarrolladores crear flujos de orquestación LLM y agentes de IA personalizados mediante una interfaz visual, sin necesidad de escribir grandes cantidades de código. OpenAI Swarm es un marco experimental y liviano diseñado para simplificar la creación de flujos de trabajo de múltiples agentes, utilizando estructuras JSON para la integración y ejecución de agentes. ([kwfoundation.org](https://kwfoundation.org/blog/2025/02/19/el-agente-de-inteligencia-artificial-significara-el-fin-del-saas/?utm_source=openai))\n",
       "\n",
       "Además, surgen frameworks como Eliza, un sistema operativo de agentes de IA compatible con Web3, que facilita la integración de aplicaciones Web3 en funcionalidades de agentes de IA. AutoAgent es un framework totalmente automatizado y sin código que permite a los usuarios crear y desplegar agentes de LLM mediante lenguaje natural, operando como un sistema operativo de agentes autónomos. Autono propone un framework de agentes autónomos altamente robusto basado en el paradigma ReAct, diseñado para resolver tareas complejas mediante toma de decisiones adaptativa y colaboración entre múltiples agentes. Manus, desarrollado por la startup china Monica, es un agente de IA autónomo capaz de realizar tareas complejas en línea sin intervención humana directa, incluyendo redacción e implementación de código. ([arxiv.org](https://arxiv.org/abs/2501.06781?utm_source=openai), [arxiv.org](https://arxiv.org/abs/2502.05957?utm_source=openai), [arxiv.org](https://arxiv.org/abs/2504.04650?utm_source=openai), [es.wikipedia.org](https://es.wikipedia.org/wiki/Manus_%28agente_de_IA%29?utm_source=openai))\n",
       "\n",
       "Estos frameworks representan avances significativos en la creación de agentes de IA autónomos y colaborativos, ofreciendo herramientas y estructuras que facilitan el desarrollo de sistemas inteligentes capaces de ejecutar tareas complejas de forma independiente. "
      ],
      "text/plain": [
       "<IPython.core.display.Markdown object>"
      ]
     },
     "metadata": {},
     "output_type": "display_data"
    }
   ],
   "source": [
    "message = \"Últimos frameworks de agentes de IA en 2025\"\n",
    "\n",
    "with trace(\"Search\"):\n",
    "    result = await Runner.run(search_agent, message)\n",
    "\n",
    "display(Markdown(result.final_output))"
   ]
  },
  {
   "cell_type": "markdown",
   "metadata": {},
   "source": [
    "### Como siempre, revisamos la traza:\n",
    "\n",
    "https://platform.openai.com/traces"
   ]
  },
  {
   "cell_type": "markdown",
   "metadata": {},
   "source": [
    "### Ahora utilizaremos salidas estructuradas e incluiremos una descripción de los campos"
   ]
  },
  {
   "cell_type": "code",
   "execution_count": 14,
   "metadata": {},
   "outputs": [],
   "source": [
    "# Consulte la nota anterior sobre el costo de WebSearchTool\n",
    "\n",
    "HOW_MANY_SEARCHES = 3\n",
    "\n",
    "INSTRUCTIONS = f\"Eres un asistente de investigación útil. Dado un término de búsqueda, \\\n",
    "produce un conjunto de búsquedas web para realizar para responder la consulta. \\\n",
    "Salida: {HOW_MANY_SEARCHES} términos para consultar.\"\n",
    "\n",
    "# Usamos Pydantic para definir el esquema de nuestra respuesta; esto se conoce como \"Salidas Estructuradas\".\n",
    "# ¡Muchas gracias al estudiante Wes C. por descubrir y corregir un error desagradable!\n",
    "\n",
    "class WebSearchItem(BaseModel):\n",
    "    reason: str = Field(description=\"Tu razonamiento de por qué esta búsqueda es importante para la consulta.\")\n",
    "\n",
    "    query: str = Field(description=\"El término de búsqueda para usar para la búsqueda web.\")\n",
    "\n",
    "\n",
    "class WebSearchPlan(BaseModel):\n",
    "    searches: list[WebSearchItem] = Field(description=\"Una lista de búsquedas web a realizar para responder la consulta.\")\n",
    "\n",
    "\n",
    "planner_agent = Agent(\n",
    "    name=\"Agente de planificación\",\n",
    "    instructions=INSTRUCTIONS,\n",
    "    model=\"gpt-4o-mini\",\n",
    "    output_type=WebSearchPlan,\n",
    ")"
   ]
  },
  {
   "cell_type": "code",
   "execution_count": 15,
   "metadata": {},
   "outputs": [
    {
     "name": "stdout",
     "output_type": "stream",
     "text": [
      "searches=[WebSearchItem(reason='Para identificar los frameworks de agentes de IA más recientes y populares en 2025, y entender sus características y utilidades.', query='últimos frameworks de agentes de IA 2025'), WebSearchItem(reason='Verificar las tendencias emergentes en la tecnología de IA y qué frameworks están siendo adoptados en la industria.', query='tendencias frameworks agentes de IA 2025'), WebSearchItem(reason='Recopilar opiniones y análisis de expertos sobre los frameworks de IA más eficaces y sus aplicaciones en 2025.', query='análisis expertos frameworks agentes de IA 2025'), WebSearchItem(reason='Discover new and innovative AI agent frameworks launched or gaining popularity in 2025.', query='nuevos frameworks de agentes de IA 2025'), WebSearchItem(reason='Comparar diferentes frameworks de IA en términos de funcionalidad y rendimiento para el año 2025.', query='comparación frameworks de agentes de IA 2025'), WebSearchItem(reason='Examinar los informes de mercado sobre herramientas y frameworks de IA para agentes en 2025.', query='informes de mercado frameworks agentes de IA 2025'), WebSearchItem(reason='Buscar estudios de caso sobre empresas que implementan frameworks de agentes de IA en 2025.', query='casos de estudio frameworks de IA 2025'), WebSearchItem(reason='Actualizaciones sobre comunidades de desarrollo y foros que discuten frameworks de IA recientes.', query='comunidades desarrollo frameworks de IA 2025'), WebSearchItem(reason='Investigar sobre los principales proveedores de frameworks de IA y sus últimas ofertas en 2025.', query='principales proveedores frameworks IA 2025'), WebSearchItem(reason='Encontrar recursos y documentación sobre los frameworks de agentes de IA lanzados en 2025.', query='documentación frameworks de agentes de IA 2025'), WebSearchItem(reason='Conocer las mejores prácticas en el uso de frameworks de IA para agentes en 2025.', query='mejores prácticas frameworks agentes de IA 2025'), WebSearchItem(reason='Explorar cursos y capacitaciones sobre frameworks de agentes de IA actuales en 2025.', query='cursos frameworks agentes IA 2025'), WebSearchItem(reason='Revisar conferencias y eventos sobre IA donde se discutan nuevos frameworks en 2025.', query='conferencias de IA 2025 frameworks'), WebSearchItem(reason='Investigación sobre el impacto de los nuevos frameworks de IA en la automatización y la eficiencia empresarial en 2025.', query='impacto de frameworks de agentes de IA 2025'), WebSearchItem(reason='Explorar los desafíos y limitaciones de los frameworks de agentes de IA en 2025.', query='desafíos frameworks agentes de IA 2025'), WebSearchItem(reason='Buscar proyectos open-source destacados de frameworks de IA en 2025.', query='proyectos open-source frameworks IA 2025'), WebSearchItem(reason='Revisar artículos académicos recientes sobre avances en frameworks de agentes de IA en 2025.', query='artículos académicos frameworks IA 2025'), WebSearchItem(reason='Consultar sobre integraciones de frameworks de IA con otras tecnologías emergentes en 2025.', query='integraciones frameworks de IA 2025'), WebSearchItem(reason='Identificar patrones y enfoques en el desarrollo de frameworks de IA por parte de startups en 2025.', query='startups frameworks agentes IA 2025'), WebSearchItem(reason='Explorar la evolución de frameworks de IA en respuesta a las tendencias de mercado en 2025.', query='evolución frameworks agentes IA 2025')]\n"
     ]
    }
   ],
   "source": [
    "message = \"Últimos frameworks de agentes de IA en 2025\"\n",
    "\n",
    "with trace(\"Search\"):\n",
    "    result = await Runner.run(planner_agent, message)\n",
    "    print(result.final_output)"
   ]
  },
  {
   "cell_type": "code",
   "execution_count": 7,
   "metadata": {},
   "outputs": [],
   "source": [
    "@function_tool\n",
    "def send_email(subject: str, html_body: str) -> Dict[str, str]:\n",
    "    \"\"\" Envía un correo electrónico con el asunto y el cuerpo HTML proporcionados \"\"\"\n",
    "    sg = sendgrid.SendGridAPIClient(api_key=os.environ.get('SENDGRID_API_KEY'))\n",
    "    from_email = Email(\"juangabriel@frogames.es\") # Cambiar a tu correo electrónico verificado\n",
    "    to_email = To(\"juangabriel@frogames.es\") # Cambiar a tu correo electrónico\n",
    "    content = Content(\"text/html\", html_body)\n",
    "    mail = Mail(from_email, to_email, subject, content).get()\n",
    "    response = sg.client.mail.send.post(request_body=mail)\n",
    "    return {\"status\": \"success\"}"
   ]
  },
  {
   "cell_type": "code",
   "execution_count": 8,
   "metadata": {},
   "outputs": [
    {
     "data": {
      "text/plain": [
       "FunctionTool(name='send_email', description='Envía un correo electrónico con el asunto y el cuerpo HTML proporcionados', params_json_schema={'properties': {'subject': {'title': 'Subject', 'type': 'string'}, 'html_body': {'title': 'Html Body', 'type': 'string'}}, 'required': ['subject', 'html_body'], 'title': 'send_email_args', 'type': 'object', 'additionalProperties': False}, on_invoke_tool=<function function_tool.<locals>._create_function_tool.<locals>._on_invoke_tool at 0x108b73060>, strict_json_schema=True)"
      ]
     },
     "execution_count": 8,
     "metadata": {},
     "output_type": "execute_result"
    }
   ],
   "source": [
    "send_email"
   ]
  },
  {
   "cell_type": "code",
   "execution_count": 16,
   "metadata": {},
   "outputs": [],
   "source": [
    "INSTRUCTIONS = \"\"\"Eres capaz de enviar un correo electrónico HTML bien formateado basado en un informe detallado.\n",
    "Se te proporcionará un informe detallado. Debes usar tu herramienta para enviar un correo electrónico, proporcionando el \n",
    "informe convertido en HTML limpio, bien presentado con un asunto adecuado.\"\"\"\n",
    "\n",
    "email_agent = Agent(\n",
    "    name=\"Agente de correo electrónico\",\n",
    "    instructions=INSTRUCTIONS,\n",
    "    tools=[send_email],\n",
    "    model=\"gpt-4o-mini\",\n",
    ")\n",
    "\n"
   ]
  },
  {
   "cell_type": "code",
   "execution_count": 17,
   "metadata": {},
   "outputs": [],
   "source": [
    "INSTRUCTIONS = (\n",
    "    \"Eres un investigador senior encargado de escribir un informe coherente para una consulta de investigación. \"\n",
    "    \"Se te proporcionará la consulta original y algunas investigaciones iniciales realizadas por un asistente de investigación.\\n\"\n",
    "    \"Primero, debes elaborar un esquema para el informe que describa la estructura y \"\n",
    "    \"flujo del informe. Luego, genera el informe y devuelve ese como tu salida final.\\n\"\n",
    "    \"La salida final debe estar en formato markdown, y debe ser larga y detallada \"\n",
    "    \"para 5-10 páginas de contenido, al menos 1000 palabras.\"\n",
    ")\n",
    "\n",
    "\n",
    "class ReportData(BaseModel):\n",
    "    short_summary: str = Field(description=\"Un resumen de 2-3 párrafos de los resultados.\")\n",
    "\n",
    "    markdown_report: str = Field(description=\"El informe final\")\n",
    "\n",
    "    follow_up_questions: list[str] = Field(description=\"Temas sugeridos para investigar más\")\n",
    "\n",
    "\n",
    "writer_agent = Agent(\n",
    "    name=\"Agente de escritura\",\n",
    "    instructions=INSTRUCTIONS,\n",
    "    model=\"gpt-4o-mini\",\n",
    "    output_type=ReportData,\n",
    ")"
   ]
  },
  {
   "cell_type": "markdown",
   "metadata": {},
   "source": [
    "### Las siguientes 3 funciones planificarán y ejecutarán la búsqueda, utilizando planner_agent y search_agent"
   ]
  },
  {
   "cell_type": "code",
   "execution_count": 11,
   "metadata": {},
   "outputs": [],
   "source": [
    "async def plan_searches(query: str):\n",
    "    \"\"\" Utilice planner_agent para planificar qué búsquedas ejecutar para la consulta \"\"\"\n",
    "    print(\"Planificando búsquedas...\")\n",
    "    result = await Runner.run(planner_agent, f\"Consulta: {query}\")\n",
    "    print(f\"Se realizarán {len(result.final_output.searches)} búsquedas\")\n",
    "    return result.final_output\n",
    "\n",
    "async def perform_searches(search_plan: WebSearchPlan):\n",
    "    \"\"\" Llama a search() para cada elemento en el plan de búsqueda \"\"\"\n",
    "    print(\"Buscando...\")\n",
    "    tasks = [asyncio.create_task(search(item)) for item in search_plan.searches]\n",
    "    results = await asyncio.gather(*tasks)\n",
    "    print(\"Búsqueda finalizada\")\n",
    "    return results\n",
    "\n",
    "async def search(item: WebSearchItem):\n",
    "    \"\"\" Usa el agente de búsqueda para ejecutar una búsqueda web para cada elemento en el plan de búsqueda \"\"\"\n",
    "    input = f\"Término de búsqueda: {item.query}\\nRazón para buscar: {item.reason}\"\n",
    "    result = await Runner.run(search_agent, input)\n",
    "    return result.final_output"
   ]
  },
  {
   "cell_type": "markdown",
   "metadata": {},
   "source": [
    "### Las siguientes 2 funciones escriben un informe y lo envían por correo electrónico."
   ]
  },
  {
   "cell_type": "code",
   "execution_count": 19,
   "metadata": {},
   "outputs": [],
   "source": [
    "async def write_report(query: str, search_results: list[str]):\n",
    "    \"\"\" Usa el agente de escritura para escribir un informe basado en los resultados de la búsqueda \"\"\"\n",
    "    print(\"Pensando sobre el informe...\")\n",
    "    input = f\"Consulta original: {query}\\nResultados de búsqueda resumidos: {search_results}\"\n",
    "    result = await Runner.run(writer_agent, input)\n",
    "    print(\"Informe finalizado\")\n",
    "    return result.final_output\n",
    "\n",
    "async def send_email(report: ReportData):\n",
    "    \"\"\" Usa el agente de correo electrónico para enviar un correo electrónico con el informe \"\"\"\n",
    "    print(\"Escribiendo correo electrónico...\")\n",
    "    result = await Runner.run(email_agent, report.markdown_report)\n",
    "    print(\"Correo electrónico enviado\")\n",
    "    return report"
   ]
  },
  {
   "cell_type": "markdown",
   "metadata": {},
   "source": [
    "### ¡Hora del espectáculo!"
   ]
  },
  {
   "cell_type": "code",
   "execution_count": 18,
   "metadata": {},
   "outputs": [
    {
     "name": "stdout",
     "output_type": "stream",
     "text": [
      "Iniciando investigación...\n",
      "Planificando búsquedas...\n",
      "Se realizarán 20 búsquedas\n",
      "Buscando...\n",
      "Búsqueda finalizada\n",
      "Pensando sobre el informe...\n",
      "Informe finalizado\n",
      "Escribiendo correo electrónico...\n"
     ]
    },
    {
     "ename": "AttributeError",
     "evalue": "'function' object has no attribute 'name'",
     "output_type": "error",
     "traceback": [
      "\u001b[31m---------------------------------------------------------------------------\u001b[39m",
      "\u001b[31mAttributeError\u001b[39m                            Traceback (most recent call last)",
      "\u001b[36mCell\u001b[39m\u001b[36m \u001b[39m\u001b[32mIn[18]\u001b[39m\u001b[32m, line 8\u001b[39m\n\u001b[32m      6\u001b[39m search_results = \u001b[38;5;28;01mawait\u001b[39;00m perform_searches(search_plan)\n\u001b[32m      7\u001b[39m report = \u001b[38;5;28;01mawait\u001b[39;00m write_report(query, search_results)\n\u001b[32m----> \u001b[39m\u001b[32m8\u001b[39m \u001b[38;5;28;01mawait\u001b[39;00m send_email(report)  \n\u001b[32m      9\u001b[39m \u001b[38;5;28mprint\u001b[39m(\u001b[33m\"\u001b[39m\u001b[33m¡Felicidades!\u001b[39m\u001b[33m\"\u001b[39m)\n",
      "\u001b[36mCell\u001b[39m\u001b[36m \u001b[39m\u001b[32mIn[12]\u001b[39m\u001b[32m, line 12\u001b[39m, in \u001b[36msend_email\u001b[39m\u001b[34m(report)\u001b[39m\n\u001b[32m     10\u001b[39m \u001b[38;5;250m\u001b[39m\u001b[33;03m\"\"\" Usa el agente de correo electrónico para enviar un correo electrónico con el informe \"\"\"\u001b[39;00m\n\u001b[32m     11\u001b[39m \u001b[38;5;28mprint\u001b[39m(\u001b[33m\"\u001b[39m\u001b[33mEscribiendo correo electrónico...\u001b[39m\u001b[33m\"\u001b[39m)\n\u001b[32m---> \u001b[39m\u001b[32m12\u001b[39m result = \u001b[38;5;28;01mawait\u001b[39;00m Runner.run(email_agent, report.markdown_report)\n\u001b[32m     13\u001b[39m \u001b[38;5;28mprint\u001b[39m(\u001b[33m\"\u001b[39m\u001b[33mCorreo electrónico enviado\u001b[39m\u001b[33m\"\u001b[39m)\n\u001b[32m     14\u001b[39m \u001b[38;5;28;01mreturn\u001b[39;00m report\n",
      "\u001b[36mFile \u001b[39m\u001b[32m~/Developer/Github/agents/.venv/lib/python3.12/site-packages/agents/run.py:200\u001b[39m, in \u001b[36mRunner.run\u001b[39m\u001b[34m(cls, starting_agent, input, context, max_turns, hooks, run_config, previous_response_id)\u001b[39m\n\u001b[32m    197\u001b[39m     current_span.start(mark_as_current=\u001b[38;5;28;01mTrue\u001b[39;00m)\n\u001b[32m    199\u001b[39m     all_tools = \u001b[38;5;28;01mawait\u001b[39;00m \u001b[38;5;28mcls\u001b[39m._get_all_tools(current_agent)\n\u001b[32m--> \u001b[39m\u001b[32m200\u001b[39m     current_span.span_data.tools = [\u001b[43mt\u001b[49m\u001b[43m.\u001b[49m\u001b[43mname\u001b[49m \u001b[38;5;28;01mfor\u001b[39;00m t \u001b[38;5;129;01min\u001b[39;00m all_tools]\n\u001b[32m    202\u001b[39m current_turn += \u001b[32m1\u001b[39m\n\u001b[32m    203\u001b[39m \u001b[38;5;28;01mif\u001b[39;00m current_turn > max_turns:\n",
      "\u001b[31mAttributeError\u001b[39m: 'function' object has no attribute 'name'"
     ]
    }
   ],
   "source": [
    "query = \"Últimos frameworks de agentes de IA en 2025\"\n",
    "\n",
    "with trace(\"Investigación\"):\n",
    "    print(\"Iniciando investigación...\")\n",
    "    search_plan = await plan_searches(query)\n",
    "    search_results = await perform_searches(search_plan)\n",
    "    report = await write_report(query, search_results)\n",
    "    await send_email(report)  \n",
    "    print(\"¡Felicidades!\")\n",
    "\n",
    "\n"
   ]
  },
  {
   "cell_type": "markdown",
   "metadata": {},
   "source": [
    "### Como siempre, revisa la traza del resultado:\n",
    "\n",
    "https://platform.openai.com/traces"
   ]
  },
  {
   "cell_type": "markdown",
   "metadata": {},
   "source": [
    "<table style=\"margin: 0; text-align: left; width:100%\">\n",
    "    <tr>\n",
    "        <td style=\"width: 150px; height: 150px; vertical-align: middle;\">\n",
    "            <img src=\"../assets/thanks.png\" width=\"150\" height=\"150\" style=\"display: block;\" />\n",
    "        </td>\n",
    "        <td>\n",
    "            <h2 style=\"color:#00cc00;\">Felicitaciones por tu progreso y una solicitud</h2>\n",
    "<span style=\"color:#00cc00;\">Has llegado a un momento importante con el curso; has creado un agente valioso usando uno de los frameworks de agentes más recientes. Has mejorado tus habilidades y has descubierto nuevas posibilidades comerciales. ¡Tómate un momento para celebrar tu éxito!<br/><br/>Si puedes calificar el curso en esta plataforma, te lo agradecería muchísimo: es la forma más importante en que se decide si lo muestra a otros y marca una gran diferencia.<br/><br/>Y otro recordatorio para que <a href=\"https://www.linkedin.com/in/juan-gabriel-gomila-salas/\">conectes conmigo en LinkedIn</a> si lo deseas. Si quieres publicar sobre tu progreso en el curso, etiquétame y participaré para aumentar tu visibilidad. </span>\n",
    "        </td>\n",
    "    </tr>"
   ]
  },
  {
   "cell_type": "markdown",
   "metadata": {},
   "source": []
  }
 ],
 "metadata": {
  "kernelspec": {
   "display_name": ".venv",
   "language": "python",
   "name": "python3"
  },
  "language_info": {
   "codemirror_mode": {
    "name": "ipython",
    "version": 3
   },
   "file_extension": ".py",
   "mimetype": "text/x-python",
   "name": "python",
   "nbconvert_exporter": "python",
   "pygments_lexer": "ipython3",
   "version": "3.12.11"
  }
 },
 "nbformat": 4,
 "nbformat_minor": 2
}
