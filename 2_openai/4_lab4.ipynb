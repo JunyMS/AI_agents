{
 "cells": [
  {
   "cell_type": "markdown",
   "metadata": {},
   "source": [
    "## Investigación Profunda\n",
    "\n",
    "¡Uno de los casos de uso clásicos de Agentic en diferentes empresas! ¡Esto es enorme!"
   ]
  },
  {
   "cell_type": "markdown",
   "metadata": {},
   "source": [
    "<table style=\"margin: 0; text-align: left; width:100%\">\n",
    "    <tr>\n",
    "        <td style=\"width: 150px; height: 150px; vertical-align: middle;\">\n",
    "            <img src=\"../assets/business.png\" width=\"150\" height=\"150\" style=\"display: block;\" />\n",
    "        </td>\n",
    "        <td>\n",
    "            <h2 style=\"color:#00bfff;\">Implicaciones comerciales</h2>\n",
    "            <span style=\"color:#00bfff;\">Un agente de Investigación Profunda es ampliamente aplicable a cualquier área de negocio y a tus actividades diarias. ¡Puedes usarlo tú mismo!\n",
    "            </span>\n",
    "        </td>\n",
    "    </tr>\n",
    "</table>"
   ]
  },
  {
   "cell_type": "code",
   "execution_count": 29,
   "metadata": {},
   "outputs": [],
   "source": [
    "from agents import Agent, WebSearchTool, trace, Runner, gen_trace_id, function_tool\n",
    "from agents.model_settings import ModelSettings\n",
    "from pydantic import BaseModel, Field\n",
    "from dotenv import load_dotenv\n",
    "import asyncio\n",
    "import sendgrid\n",
    "import os\n",
    "from sendgrid.helpers.mail import Mail, Email, To, Content\n",
    "from typing import Dict\n",
    "from IPython.display import display, Markdown"
   ]
  },
  {
   "cell_type": "code",
   "execution_count": null,
   "metadata": {},
   "outputs": [],
   "source": [
    "load_dotenv(override=True)"
   ]
  },
  {
   "cell_type": "markdown",
   "metadata": {},
   "source": [
    "## Herramientas alojadas de OpenAI\n",
    "\n",
    "El SDK de agentes de OpenAI incluye las siguientes herramientas alojadas:\n",
    "\n",
    "La herramienta `WebSearchTool` permite a un agente buscar en la web.\n",
    "La herramienta `FileSearchTool` permite recuperar información de sus almacenes de vectores de OpenAI.\n",
    "La herramienta `ComputerTool` permite automatizar tareas informáticas como tomar capturas de pantalla y hacer clic.\n",
    "\n",
    "### Nota importante: Costo de la API de la herramienta `WebSearchTool`\n",
    "\n",
    "Esto me cuesta 2,5 centavos por llamada para la herramienta `WebSearchTool` de OpenAI. Esto puede suponer entre 2 y 3 dólares para los próximos dos laboratorios. Usaremos herramientas de búsqueda de bajo coste con otras plataformas, así que no dude en omitir esta opción si le preocupa el coste.\n",
    "\n",
    "Los costes están disponibles aquí: https://platform.openai.com/docs/pricing#web-search"
   ]
  },
  {
   "cell_type": "code",
   "execution_count": 31,
   "metadata": {},
   "outputs": [],
   "source": [
    "INSTRUCTIONS = \"Eres un asistente de investigación. Dado un término de búsqueda, buscas en la web ese término y \\\n",
    "producí una descripción concisa de los resultados. La descripción debe tener 2-3 párrafos y menos de 300 \\\n",
    "palabras. Captura los puntos principales. Escribe de manera concisa, no es necesario tener frases completas o buena \\\n",
    "gramática. Esto será consumido por alguien que está sintetizando un informe, por lo que es vital que captures el \\\n",
    "esencia y ignores cualquier fluff. No incluyas ningún comentario adicional más que la descripción en sí.\"\n",
    "\n",
    "search_agent = Agent(\n",
    "    name=\"Agente de búsqueda\",\n",
    "    instructions=INSTRUCTIONS,\n",
    "    tools=[WebSearchTool(search_context_size=\"low\")],\n",
    "    model=\"gpt-4o-mini\",\n",
    "    model_settings=ModelSettings(tool_choice=\"required\"),\n",
    ")"
   ]
  },
  {
   "cell_type": "code",
   "execution_count": null,
   "metadata": {},
   "outputs": [],
   "source": [
    "message = \"Últimos frameworks de agentes de IA en 2025\"\n",
    "\n",
    "with trace(\"Search\"):\n",
    "    result = await Runner.run(search_agent, message)\n",
    "\n",
    "display(Markdown(result.final_output))"
   ]
  },
  {
   "cell_type": "markdown",
   "metadata": {},
   "source": [
    "### Como siempre, revisamos la traza:\n",
    "\n",
    "https://platform.openai.com/traces"
   ]
  },
  {
   "cell_type": "markdown",
   "metadata": {},
   "source": [
    "### Ahora utilizaremos salidas estructuradas e incluiremos una descripción de los campos"
   ]
  },
  {
   "cell_type": "code",
   "execution_count": 33,
   "metadata": {},
   "outputs": [],
   "source": [
    "# Consulte la nota anterior sobre el costo de WebSearchTool\n",
    "\n",
    "HOW_MANY_SEARCHES = 3\n",
    "\n",
    "INSTRUCTIONS = f\"Eres un asistente de investigación útil. Dado un término de búsqueda, \\\n",
    "producí un conjunto de búsquedas web para realizar para responder la consulta. \\\n",
    "Salida {HOW_MANY_SEARCHES} términos para consultar.\"\n",
    "\n",
    "# Usamos Pydantic para definir el esquema de nuestra respuesta; esto se conoce como \"Salidas Estructuradas\".\n",
    "# ¡Muchas gracias al estudiante Wes C. por descubrir y corregir un error desagradable!\n",
    "\n",
    "class WebSearchItem(BaseModel):\n",
    "    reason: str = Field(description=\"Tu razonamiento para por qué esta búsqueda es importante para la consulta.\")\n",
    "\n",
    "    query: str = Field(description=\"El término de búsqueda para usar para la búsqueda web.\")\n",
    "\n",
    "\n",
    "class WebSearchPlan(BaseModel):\n",
    "    searches: list[WebSearchItem] = Field(description=\"Una lista de búsquedas web para realizar para responder la consulta.\")\n",
    "\n",
    "\n",
    "planner_agent = Agent(\n",
    "    name=\"Agente de planificación\",\n",
    "    instructions=INSTRUCTIONS,\n",
    "    model=\"gpt-4o-mini\",\n",
    "    output_type=WebSearchPlan,\n",
    ")"
   ]
  },
  {
   "cell_type": "code",
   "execution_count": null,
   "metadata": {},
   "outputs": [],
   "source": [
    "message = \"Últimos frameworks de agentes de IA en 2025\"\n",
    "\n",
    "with trace(\"Search\"):\n",
    "    result = await Runner.run(planner_agent, message)\n",
    "    print(result.final_output)"
   ]
  },
  {
   "cell_type": "code",
   "execution_count": 35,
   "metadata": {},
   "outputs": [],
   "source": [
    "@function_tool\n",
    "def send_email(subject: str, html_body: str) -> Dict[str, str]:\n",
    "    \"\"\" Envía un correo electrónico con el asunto y el cuerpo HTML proporcionados \"\"\"\n",
    "    sg = sendgrid.SendGridAPIClient(api_key=os.environ.get('SENDGRID_API_KEY'))\n",
    "    from_email = Email(\"juangabriel@frogames.es\") # Cambiar a tu correo electrónico verificado\n",
    "    to_email = To(\"juangabriel@frogames.es\") # Cambiar a tu correo electrónico\n",
    "    content = Content(\"text/html\", html_body)\n",
    "    mail = Mail(from_email, to_email, subject, content).get()\n",
    "    response = sg.client.mail.send.post(request_body=mail)\n",
    "    return {\"status\": \"success\"}"
   ]
  },
  {
   "cell_type": "code",
   "execution_count": null,
   "metadata": {},
   "outputs": [],
   "source": [
    "send_email"
   ]
  },
  {
   "cell_type": "code",
   "execution_count": 37,
   "metadata": {},
   "outputs": [],
   "source": [
    "INSTRUCTIONS = \"\"\"Eres capaz de enviar un correo electrónico HTML bien formateado basado en un informe detallado.\n",
    "Se te proporcionará un informe detallado. Debes usar tu herramienta para enviar un correo electrónico, proporcionando el \n",
    "informe convertido en HTML limpio, bien presentado con un asunto adecuado.\"\"\"\n",
    "\n",
    "email_agent = Agent(\n",
    "    name=\"Agente de correo electrónico\",\n",
    "    instructions=INSTRUCTIONS,\n",
    "    tools=[send_email],\n",
    "    model=\"gpt-4o-mini\",\n",
    ")\n",
    "\n"
   ]
  },
  {
   "cell_type": "code",
   "execution_count": 38,
   "metadata": {},
   "outputs": [],
   "source": [
    "INSTRUCTIONS = (\n",
    "    \"Eres un investigador senior encargado de escribir un informe coherente para una consulta de investigación. \"\n",
    "    \"Se te proporcionará la consulta original y algunas investigaciones iniciales realizadas por un asistente de investigación.\\n\"\n",
    "    \"Primero, debes elaborar un esquema para el informe que describa la estructura y \"\n",
    "    \"flujo del informe. Luego, genera el informe y devuelve ese como tu salida final.\\n\"\n",
    "    \"La salida final debe estar en formato markdown, y debe ser larga y detallada \"\n",
    "    \"para 5-10 páginas de contenido, al menos 1000 palabras.\"\n",
    ")\n",
    "\n",
    "\n",
    "class ReportData(BaseModel):\n",
    "    short_summary: str = Field(description=\"Un resumen de 2-3 párrafos de los resultados.\")\n",
    "\n",
    "    markdown_report: str = Field(description=\"El informe final\")\n",
    "\n",
    "    follow_up_questions: list[str] = Field(description=\"Temas sugeridos para investigar más\")\n",
    "\n",
    "\n",
    "writer_agent = Agent(\n",
    "    name=\"Agente de escritura\",\n",
    "    instructions=INSTRUCTIONS,\n",
    "    model=\"gpt-4o-mini\",\n",
    "    output_type=ReportData,\n",
    ")"
   ]
  },
  {
   "cell_type": "markdown",
   "metadata": {},
   "source": [
    "### Las siguientes 3 funciones planificarán y ejecutarán la búsqueda, utilizando planner_agent y search_agent"
   ]
  },
  {
   "cell_type": "code",
   "execution_count": 39,
   "metadata": {},
   "outputs": [],
   "source": [
    "async def plan_searches(query: str):\n",
    "    \"\"\" Utilice planner_agent para planificar qué búsquedas ejecutar para la consulta \"\"\"\n",
    "    print(\"Planificando búsquedas...\")\n",
    "    result = await Runner.run(planner_agent, f\"Consulta: {query}\")\n",
    "    print(f\"Se realizarán {len(result.final_output.searches)} búsquedas\")\n",
    "    return result.final_output\n",
    "\n",
    "async def perform_searches(search_plan: WebSearchPlan):\n",
    "    \"\"\" Llama a search() para cada elemento en el plan de búsqueda \"\"\"\n",
    "    print(\"Buscando...\")\n",
    "    tasks = [asyncio.create_task(search(item)) for item in search_plan.searches]\n",
    "    results = await asyncio.gather(*tasks)\n",
    "    print(\"Búsqueda finalizada\")\n",
    "    return results\n",
    "\n",
    "async def search(item: WebSearchItem):\n",
    "    \"\"\" Usa el agente de búsqueda para ejecutar una búsqueda web para cada elemento en el plan de búsqueda \"\"\"\n",
    "    input = f\"Término de búsqueda: {item.query}\\nRazón para buscar: {item.reason}\"\n",
    "    result = await Runner.run(search_agent, input)\n",
    "    return result.final_output"
   ]
  },
  {
   "cell_type": "markdown",
   "metadata": {},
   "source": [
    "### Las siguientes 2 funciones escriben un informe y lo envían por correo electrónico."
   ]
  },
  {
   "cell_type": "code",
   "execution_count": 40,
   "metadata": {},
   "outputs": [],
   "source": [
    "async def write_report(query: str, search_results: list[str]):\n",
    "    \"\"\" Usa el agente de escritura para escribir un informe basado en los resultados de la búsqueda \"\"\"\n",
    "    print(\"Pensando sobre el informe...\")\n",
    "    input = f\"Consulta original: {query}\\nResultados de búsqueda resumidos: {search_results}\"\n",
    "    result = await Runner.run(writer_agent, input)\n",
    "    print(\"Informe finalizado\")\n",
    "    return result.final_output\n",
    "\n",
    "async def send_email(report: ReportData):\n",
    "    \"\"\" Usa el agente de correo electrónico para enviar un correo electrónico con el informe \"\"\"\n",
    "    print(\"Escribiendo correo electrónico...\")\n",
    "    result = await Runner.run(email_agent, report.markdown_report)\n",
    "    print(\"Correo electrónico enviado\")\n",
    "    return report"
   ]
  },
  {
   "cell_type": "markdown",
   "metadata": {},
   "source": [
    "### ¡Hora del espectáculo!"
   ]
  },
  {
   "cell_type": "code",
   "execution_count": null,
   "metadata": {},
   "outputs": [],
   "source": [
    "query =\"Últimos frameworks de agentes de IA en 2025\"\n",
    "\n",
    "with trace(\"Investigación\"):\n",
    "    print(\"Iniciando investigación...\")\n",
    "    search_plan = await plan_searches(query)\n",
    "    search_results = await perform_searches(search_plan)\n",
    "    report = await write_report(query, search_results)\n",
    "    await send_email(report)  \n",
    "    print(\"¡Felicidades!\")\n",
    "\n",
    "\n"
   ]
  },
  {
   "cell_type": "markdown",
   "metadata": {},
   "source": [
    "### Como siempre, revisa la traza del resultado:\n",
    "\n",
    "https://platform.openai.com/traces"
   ]
  },
  {
   "cell_type": "markdown",
   "metadata": {},
   "source": [
    "<table style=\"margin: 0; text-align: left; width:100%\">\n",
    "    <tr>\n",
    "        <td style=\"width: 150px; height: 150px; vertical-align: middle;\">\n",
    "            <img src=\"../assets/thanks.png\" width=\"150\" height=\"150\" style=\"display: block;\" />\n",
    "        </td>\n",
    "        <td>\n",
    "            <h2 style=\"color:#00cc00;\">Felicitaciones por tu progreso y una solicitud</h2>\n",
    "<span style=\"color:#00cc00;\">Has llegado a un momento importante con el curso; has creado un agente valioso usando uno de los frameworks de agentes más recientes. Has mejorado tus habilidades y has descubierto nuevas posibilidades comerciales. ¡Tómate un momento para celebrar tu éxito!<br/><br/>Si puedes calificar el curso en esta plataforma, te lo agradecería muchísimo: es la forma más importante en que se decide si lo muestra a otros y marca una gran diferencia.<br/><br/>Y otro recordatorio para que <a href=\"https://www.linkedin.com/in/juan-gabriel-gomila-salas/\">conectes conmigo en LinkedIn</a> si lo deseas. Si quieres publicar sobre tu progreso en el curso, etiquétame y participaré para aumentar tu visibilidad. </span>\n",
    "        </td>\n",
    "    </tr>"
   ]
  },
  {
   "cell_type": "markdown",
   "metadata": {},
   "source": []
  }
 ],
 "metadata": {
  "kernelspec": {
   "display_name": ".venv",
   "language": "python",
   "name": "python3"
  },
  "language_info": {
   "codemirror_mode": {
    "name": "ipython",
    "version": 3
   },
   "file_extension": ".py",
   "mimetype": "text/x-python",
   "name": "python",
   "nbconvert_exporter": "python",
   "pygments_lexer": "ipython3",
   "version": "3.12.9"
  }
 },
 "nbformat": 4,
 "nbformat_minor": 2
}
