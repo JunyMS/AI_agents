{
 "cells": [
  {
   "cell_type": "markdown",
   "metadata": {},
   "source": [
    "## Semana 2 Día 2\n",
    "\n",
    "¡Nuestro primer proyecto de Agentic Framework!\n",
    "\n",
    "Prepárate para algo increíblemente fácil.\n",
    "\n",
    "Vamos a crear un sistema de agentes sencillo para generar correos electrónicos de contacto de ventas en frío:\n",
    "1. Flujo de trabajo del agente\n",
    "2. Uso de herramientas para llamar a funciones\n",
    "3. Colaboración de los agentes mediante herramientas y transferencias"
   ]
  },
  {
   "cell_type": "markdown",
   "metadata": {},
   "source": [
    "## Antes de empezar, algunos pasos de configuración:\n",
    "\n",
    "Visita Sendgrid en: https://sendgrid.com/\n",
    "\n",
    "(Sendgrid es una empresa de Twilio para enviar correos electrónicos).\n",
    "\n",
    "Crea una cuenta. ¡Es gratis! (al menos para mí, por ahora).\n",
    "\n",
    "Una vez creada, haz clic en:\n",
    "\n",
    "Configuración (barra lateral izquierda) >> Claves API >> Crear clave API (botón en la esquina superior derecha).\n",
    "\n",
    "Copia la clave al portapapeles y añade una nueva línea a tu archivo .env:\n",
    "\n",
    "`SENDGRID_API_KEY=xxxx`\n",
    "\n",
    "Y también, dentro de SendGrid, ve a:\n",
    "\n",
    "Configuración (barra lateral izquierda) >> Autenticación del remitente >> \"Verificar un solo remitente\"\n",
    "y verifica que tu dirección de correo electrónico sea real para que SendGrid pueda enviar correos electrónicos por ti."
   ]
  },
  {
   "cell_type": "code",
   "execution_count": 1,
   "metadata": {},
   "outputs": [],
   "source": [
    "from dotenv import load_dotenv\n",
    "from agents import Agent, Runner, trace, function_tool\n",
    "from openai.types.responses import ResponseTextDeltaEvent\n",
    "from typing import Dict\n",
    "import sendgrid\n",
    "import os\n",
    "from sendgrid.helpers.mail import Mail, Email, To, Content\n",
    "import asyncio\n",
    "\n"
   ]
  },
  {
   "cell_type": "code",
   "execution_count": null,
   "metadata": {},
   "outputs": [],
   "source": [
    "load_dotenv(override=True)"
   ]
  },
  {
   "cell_type": "markdown",
   "metadata": {},
   "source": [
    "## Paso 1: Flujo de trabajo del agente"
   ]
  },
  {
   "cell_type": "code",
   "execution_count": 3,
   "metadata": {},
   "outputs": [],
   "source": [
    "instructions1 = \"Eres un agente de ventas que trabaja para ComplAI, \\\n",
    "    una empresa que ofrece una herramienta SaaS para garantizar el cumplimiento de SOC2\\\n",
    "          y prepararse para auditorías, impulsada por IA. Redactas correos electrónicos profesionales y serios.\"\n",
    "\n",
    "instructions2 = \"Eres un agente de ventas con sentido del humor y atractivo \\\n",
    "    que trabaja para ComplAI, una empresa que ofrece una herramienta SaaS para \\\n",
    "        garantizar el cumplimiento de SOC2 y prepararse para auditorías, impulsada por IA. \\\n",
    "            Redactas correos electrónicos ingeniosos y atractivos que probablemente obtengan respuesta.\"\n",
    "\n",
    "instructions3 = \"Eres un agente de ventas muy activo que trabaja para ComplAI, \\\n",
    "    una empresa que ofrece una herramienta SaaS para garantizar el cumplimiento de SOC2\\\n",
    "          y prepararse para auditorías, impulsada por IA. Redactas correos electrónicos concisos y directos.\""
   ]
  },
  {
   "cell_type": "code",
   "execution_count": 4,
   "metadata": {},
   "outputs": [],
   "source": [
    "sales_agent1 = Agent(\n",
    "        name=\"Agente de ventas profesional\",\n",
    "        instructions=instructions1,\n",
    "        model=\"gpt-4o-mini\"\n",
    ")\n",
    "\n",
    "sales_agent2 = Agent(\n",
    "        name=\"Agente de ventas atractivo\",\n",
    "        instructions=instructions2,\n",
    "        model=\"gpt-4o-mini\"\n",
    ")\n",
    "\n",
    "sales_agent3 = Agent(\n",
    "        name=\"Agente de ventas ocpado\",\n",
    "        instructions=instructions3,\n",
    "        model=\"gpt-4o-mini\"\n",
    ")"
   ]
  },
  {
   "cell_type": "code",
   "execution_count": null,
   "metadata": {},
   "outputs": [],
   "source": [
    "\n",
    "result = Runner.run_streamed(sales_agent1, input=\"Escribe un correo electrónico de ventas en frío\")\n",
    "async for event in result.stream_events():\n",
    "    if event.type == \"raw_response_event\" and isinstance(event.data, ResponseTextDeltaEvent):\n",
    "        print(event.data.delta, end=\"\", flush=True)"
   ]
  },
  {
   "cell_type": "code",
   "execution_count": null,
   "metadata": {},
   "outputs": [],
   "source": [
    "message = \"Escribe un correo electrónico de ventas en frío\"\n",
    "\n",
    "with trace(\"Correos electrónicos fríos en paralelo\"):\n",
    "    results = await asyncio.gather(\n",
    "        Runner.run(sales_agent1, message),\n",
    "        Runner.run(sales_agent2, message),\n",
    "        Runner.run(sales_agent3, message),\n",
    "    )\n",
    "\n",
    "outputs = [result.final_output for result in results]\n",
    "\n",
    "for output in outputs:\n",
    "    print(output + \"\\n\\n\")\n"
   ]
  },
  {
   "cell_type": "code",
   "execution_count": 7,
   "metadata": {},
   "outputs": [],
   "source": [
    "sales_picker = Agent(\n",
    "    name=\"sales_picker\",\n",
    "    instructions=\"Elige el mejor correo electrónico de ventas en frío entre las opciones disponibles. \\\n",
    "            Imagina que eres un cliente y elige el que probablemente te responda. \\\n",
    "            No des explicaciones; responde solo con el correo electrónico seleccionado.\",\n",
    "    model=\"gpt-4o-mini\"\n",
    ")"
   ]
  },
  {
   "cell_type": "code",
   "execution_count": null,
   "metadata": {},
   "outputs": [],
   "source": [
    "message = \"Escribe un correo electrónico de ventas en frío\"\n",
    "\n",
    "with trace(\"Selección del equipo de ventas\"):\n",
    "    results = await asyncio.gather(\n",
    "        Runner.run(sales_agent1, message),\n",
    "        Runner.run(sales_agent2, message),\n",
    "        Runner.run(sales_agent3, message),\n",
    "    )\n",
    "    outputs = [result.final_output for result in results]\n",
    "\n",
    "    emails = \"Emails de ventas en frío:\\n\\n\".join(outputs)\n",
    "\n",
    "    best = await Runner.run(sales_picker, emails)\n",
    "\n",
    "    print(f\"El mejor email de ventas:\\n{best.final_output}\")\n"
   ]
  },
  {
   "cell_type": "markdown",
   "metadata": {},
   "source": [
    "Vamos a revisar ahora la traza:\n",
    "\n",
    "https://platform.openai.com/traces"
   ]
  },
  {
   "cell_type": "markdown",
   "metadata": {},
   "source": [
    "## Parte 2: Uso de herramientas\n",
    "\n",
    "Ahora añadiremos una herramienta.\n",
    "\n",
    "Recuerda todo el código JSON repetitivo y la función `handle_tool_calls()` con la lógica `if`."
   ]
  },
  {
   "cell_type": "code",
   "execution_count": 9,
   "metadata": {},
   "outputs": [],
   "source": [
    "sales_agent1 = Agent(\n",
    "        name=\"Agente de ventas profesional\",\n",
    "        instructions=instructions1,\n",
    "        model=\"gpt-4o-mini\"\n",
    ")\n",
    "\n",
    "sales_agent2 = Agent(\n",
    "        name=\"Agente de ventas atractivo\",\n",
    "        instructions=instructions2,\n",
    "        model=\"gpt-4o-mini\"\n",
    ")\n",
    "\n",
    "sales_agent3 = Agent(\n",
    "        name=\"Agente de ventas ocpado\",\n",
    "        instructions=instructions3,\n",
    "        model=\"gpt-4o-mini\"\n",
    ")"
   ]
  },
  {
   "cell_type": "code",
   "execution_count": null,
   "metadata": {},
   "outputs": [],
   "source": [
    "sales_agent1"
   ]
  },
  {
   "cell_type": "markdown",
   "metadata": {},
   "source": [
    "## Pasos 2 y 3: Interacción con herramientas y agentes\n",
    "\n",
    "¿Recuerdas todo ese JSON repetitivo?\n",
    "\n",
    "Simplemente encapsula tu función con el decorador `@function_tool`"
   ]
  },
  {
   "cell_type": "code",
   "execution_count": 11,
   "metadata": {},
   "outputs": [],
   "source": [
    "@function_tool\n",
    "def send_email(body: str):\n",
    "    \"\"\" Envía un correo electrónico con el cuerpo indicado a todos los clientes potenciales de ventas. \"\"\"\n",
    "    sg = sendgrid.SendGridAPIClient(api_key=os.environ.get('SENDGRID_API_KEY'))\n",
    "    from_email = Email(\"juangabriel@frogames.es\")  # Cambiar a tu remitente verificado\n",
    "    to_email = To(\"juangabriel@frogames.es\")  # Cambiar a sureceptor\n",
    "    content = Content(\"text/plain\", body)\n",
    "    mail = Mail(from_email, to_email, \"Email de ventas\", content).get()\n",
    "    response = sg.client.mail.send.post(request_body=mail)\n",
    "    return {\"status\": \"success\"}"
   ]
  },
  {
   "cell_type": "markdown",
   "metadata": {},
   "source": [
    "### Esto se ha convertido automáticamente en una herramienta, con el json repetitivo creado"
   ]
  },
  {
   "cell_type": "code",
   "execution_count": null,
   "metadata": {},
   "outputs": [],
   "source": [
    "# Echémosle un vistazo\n",
    "send_email"
   ]
  },
  {
   "cell_type": "markdown",
   "metadata": {},
   "source": [
    "### Y también puedes convertir un Agente en una herramienta"
   ]
  },
  {
   "cell_type": "code",
   "execution_count": null,
   "metadata": {},
   "outputs": [],
   "source": [
    "tool1 = sales_agent1.as_tool(tool_name=\"sales_agent1\", tool_description=\"Escribe un email de ventas en frío\")\n",
    "tool1"
   ]
  },
  {
   "cell_type": "markdown",
   "metadata": {},
   "source": [
    "### Ahora podemos reunir todas las herramientas:\n",
    "\n",
    "Una herramienta para cada uno de nuestros tres agentes de redacción de correos electrónicos\n",
    "\n",
    "Y una herramienta para nuestra función de envío de correos electrónicos"
   ]
  },
  {
   "cell_type": "code",
   "execution_count": null,
   "metadata": {},
   "outputs": [],
   "source": [
    "description = \"Escribe un correo electrónico de ventas en frío\"\n",
    "\n",
    "tool1 = sales_agent1.as_tool(tool_name=\"sales_agent1\", tool_description=description)\n",
    "tool2 = sales_agent2.as_tool(tool_name=\"sales_agent2\", tool_description=description)\n",
    "tool3 = sales_agent3.as_tool(tool_name=\"sales_agent3\", tool_description=description)\n",
    "\n",
    "tools = [tool1, tool2, tool3, send_email]\n",
    "\n",
    "tools"
   ]
  },
  {
   "cell_type": "markdown",
   "metadata": {},
   "source": [
    "## Y ahora es el momento para nuestro Gerente de Ventas - nuestro agente de planificación"
   ]
  },
  {
   "cell_type": "code",
   "execution_count": 15,
   "metadata": {},
   "outputs": [],
   "source": [
    "instructions =\"Eres gerente de ventas y trabajas para ComplAI. \\\n",
    "Utilizas las herramientas que te proporcionamos para generar correos electrónicos de ventas en frío. \\\n",
    "Nunca generas correos electrónicos de ventas tú mismo; siempre usas las herramientas. \\\n",
    "Pruebas las tres herramientas de sales_agent una vez antes de elegir la mejor. \\\n",
    "Eliges el mejor correo electrónico y usas la herramienta send_email para enviar el mejor correo electrónico (y solo el mejor) al usuario.\"\n",
    "\n",
    "\n",
    "sales_manager = Agent(name=\"Manager de ventas\", instructions=instructions, tools=tools, model=\"gpt-4o-mini\")\n",
    "\n",
    "message = \"Envíe un correo electrónico de ventas frío dirigido a 'Estimado director ejecutivo'\"\n",
    "\n",
    "with trace(\"Manager de ventas\"):\n",
    "    result = await Runner.run(sales_manager, message)"
   ]
  },
  {
   "cell_type": "markdown",
   "metadata": {},
   "source": [
    "<table style=\"margin: 0; text-align: left; width:100%\">\n",
    "    <tr>\n",
    "        <td style=\"width: 150px; height: 150px; vertical-align: middle;\">\n",
    "            <img src=\"../assets/stop.png\" width=\"150\" height=\"150\" style=\"display: block;\" />\n",
    "        </td>\n",
    "        <td>\n",
    "            <h2 style=\"color:#ff7800;\">Espera, ¿no recibiste un correo electrónico?</h2>\n",
    "<span style=\"color:#ff7800;\">Muchas gracias al estudiante Chris S. por describir su problema y las soluciones.\n",
    "\n",
    "Si no recibes un correo electrónico después de ejecutar la celda anterior, revisa lo siguiente: <br/>\n",
    "\n",
    "Primero, ¡revisa tu carpeta de correo no deseado! ¡Varios estudiantes no se han dado cuenta de que los correos electrónicos llegaron a esa carpeta! <br/>\n",
    "Segundo, imprime (resultado) y comprueba si recibes errores sobre SSL.\n",
    "\n",
    "Si recibes errores de SSL, consulta estos <a href=\"https://chatgpt.com/share/680620ec-3b30-8012-8c26-ca86693d0e3d\">consejos de red</a> y lee la nota en la siguiente celda. También revisa el seguimiento en OpenAI e investiga en el sitio web de SendGrid para encontrar pistas. ¡Avísame si puedo ayudarte!\n",
    "        </td>\n",
    "    </tr>\n",
    "</table>"
   ]
  },
  {
   "cell_type": "markdown",
   "metadata": {},
   "source": [
    "### Y una sugerencia más para enviar correos electrónicos del estudiante Oleksandr en Windows 11:\n",
    "\n",
    "Si recibes errores de certificado SSL, entonces:\n",
    "Ejecuta esto en una terminal: `uv pip install --upgrade certifi`\n",
    "\n",
    "Luego ejecuta este código:\n",
    "```python\n",
    "import certifi\n",
    "import os\n",
    "os.environ['SSL_CERT_FILE'] = certifi.where()\n",
    "```\n",
    "\n",
    "¡Gracias, Oleksandr!"
   ]
  },
  {
   "cell_type": "markdown",
   "metadata": {},
   "source": [
    "## Recuerda revisar el seguimiento\n",
    "\n",
    "https://platform.openai.com/traces\n",
    "\n",
    "¡Y luego revisa tu correo electrónico!"
   ]
  },
  {
   "cell_type": "markdown",
   "metadata": {},
   "source": [
    "### Las transferencias (handoffs) representan una forma en que un agente puede delegar en otro agente, transfiriéndole el control.\n",
    "\n",
    "Las transferencias y los agentes como herramientas son similares:\n",
    "\n",
    "En ambos casos, un agente puede colaborar con otro.\n",
    "\n",
    "Con las herramientas, el control se transfiere.\n",
    "\n",
    "Con las transferencias, el control se transfiere."
   ]
  },
  {
   "cell_type": "code",
   "execution_count": 16,
   "metadata": {},
   "outputs": [],
   "source": [
    "subject_instructions = \"Puedes escribir un asunto para un correo electrónico de ventas en frío. \\\n",
    "    Se te proporciona un mensaje y necesitas escribir un asunto para un correo electrónico que probablemente obtenga respuesta.\"\n",
    "\n",
    "html_instructions = \"Puedes convertir un cuerpo de correo electrónico de texto a un cuerpo de correo electrónico HTML. \\\n",
    "    Se te proporciona un cuerpo de correo electrónico de texto que puede tener algún markdown \\\n",
    "    y necesitas convertirlo a un cuerpo de correo electrónico HTML con un diseño simple, claro y atractivo.\"\n",
    "\n",
    "subject_writer = Agent(name=\"Escritor de asunto de correo electrónico\", instructions=subject_instructions, model=\"gpt-4o-mini\")\n",
    "subject_tool = subject_writer.as_tool(tool_name=\"subject_writer\", tool_description=\"Escribe un asunto para un correo electrónico de ventas en frío\")\n",
    "\n",
    "html_converter = Agent(name=\"Conversor de cuerpo de correo electrónico HTML\", instructions=html_instructions, model=\"gpt-4o-mini\")\n",
    "html_tool = html_converter.as_tool(tool_name=\"html_converter\",tool_description=\"Convierte un cuerpo de correo electrónico de texto a un cuerpo de correo electrónico HTML\")\n"
   ]
  },
  {
   "cell_type": "code",
   "execution_count": 18,
   "metadata": {},
   "outputs": [],
   "source": [
    "@function_tool\n",
    "def send_html_email(subject: str, html_body: str) -> Dict[str, str]:\n",
    "    \"\"\" Envía un correo electrónico con el asunto y el cuerpo HTML a todos los clientes potenciales de ventas \"\"\"\n",
    "    sg = sendgrid.SendGridAPIClient(api_key=os.environ.get('SENDGRID_API_KEY'))\n",
    "    from_email = Email(\"juangabriel@frogames.es\")  # Cambiar a tu remitente verificado\n",
    "    to_email = To(\"juangabriel@frogames.es\")  # Cambiar a sureceptor\n",
    "    content = Content(\"text/html\", html_body)\n",
    "    mail = Mail(from_email, to_email, subject, content).get()\n",
    "    response = sg.client.mail.send.post(request_body=mail)\n",
    "    return {\"status\": \"success\"}"
   ]
  },
  {
   "cell_type": "code",
   "execution_count": 19,
   "metadata": {},
   "outputs": [],
   "source": [
    "tools = [subject_tool, html_tool, send_html_email]"
   ]
  },
  {
   "cell_type": "code",
   "execution_count": null,
   "metadata": {},
   "outputs": [],
   "source": [
    "tools"
   ]
  },
  {
   "cell_type": "code",
   "execution_count": 21,
   "metadata": {},
   "outputs": [],
   "source": [
    "instructions =\"Eres un formateador y remitente de correos electrónicos. \\\n",
    "    Recibes el cuerpo de un correo electrónico para enviarlo. \\\n",
    "    Primero usas la herramienta subject_writer para escribir un asunto para el correo electrónico, \\\n",
    "    luego usas la herramienta html_converter para convertir el cuerpo a HTML. \\\n",
    "    Finalmente, usas la herramienta send_html_email para enviar el correo electrónico con el asunto y el cuerpo HTML.\"\n",
    "\n",
    "\n",
    "emailer_agent = Agent(\n",
    "    name=\"Email Manager\",\n",
    "    instructions=instructions,\n",
    "    tools=tools,\n",
    "    model=\"gpt-4o-mini\",\n",
    "    handoff_description=\"Convierte un email a HTML y lo envía\")\n"
   ]
  },
  {
   "cell_type": "markdown",
   "metadata": {},
   "source": [
    "### Ahora tenemos 3 herramientas y 1 transferencia"
   ]
  },
  {
   "cell_type": "code",
   "execution_count": null,
   "metadata": {},
   "outputs": [],
   "source": [
    "tools = [tool1, tool2, tool3]\n",
    "handoffs = [emailer_agent]\n",
    "print(tools)\n",
    "print(handoffs)"
   ]
  },
  {
   "cell_type": "code",
   "execution_count": 24,
   "metadata": {},
   "outputs": [],
   "source": [
    "sales_manager_instructions = \"Eres un gerente de ventas que trabaja para ComplAI. Utilizas las herramientas que se te proporcionan para generar correos electrónicos de ventas en frío. \\\n",
    "Nunca generas correos electrónicos de ventas tú mismo; siempre utilizas las herramientas. \\\n",
    "Pruebas las 3 herramientas del agente de ventas al menos una vez antes de elegir la mejor. \\\n",
    "Puedes usar las herramientas múltiples veces si no estás satisfecho con los resultados del primer intento. \\\n",
    "Seleccionas el mejor correo electrónico usando tu propio criterio sobre cuál será más efectivo. \\\n",
    "Después de elegir el correo electrónico, transfieres al agente Email Manager para formatear y enviar el correo.\"\n",
    "\n",
    "\n",
    "sales_manager = Agent(\n",
    "    name=\"Manager de ventas\",\n",
    "    instructions=sales_manager_instructions,\n",
    "    tools=tools,\n",
    "    handoffs=handoffs,\n",
    "    model=\"gpt-4o-mini\")\n",
    "\n",
    "message = \"Envíe un correo electrónico de ventas en frío dirigido a 'Estimado director ejecutivo'\"\n",
    "\n",
    "with trace(\"Automated SDR\"):\n",
    "    result = await Runner.run(sales_manager, message)"
   ]
  },
  {
   "cell_type": "markdown",
   "metadata": {},
   "source": [
    "### Recuerda revisar el seguimiento\n",
    "\n",
    "https://platform.openai.com/traces\n",
    "\n",
    "¡Y luego revisa tu correo electrónico!"
   ]
  },
  {
   "cell_type": "markdown",
   "metadata": {},
   "source": [
    "<table style=\"margin: 0; text-align: left; width:100%\">\n",
    "    <tr>\n",
    "        <td style=\"width: 150px; height: 150px; vertical-align: middle;\">\n",
    "            <img src=\"../assets/exercise.png\" width=\"150\" height=\"150\" style=\"display: block;\" />\n",
    "        </td>\n",
    "        <td>\n",
    "            <h2 style=\"color:#ff7800;\">Ejercicio</h2>\n",
    "<span style=\"color:#ff7800;\">¿Puedes identificar los patrones de diseño de Agentic que se han usado aquí?<br/>\n",
    "¿Cuál es la línea que cambió esto de ser un \"flujo de trabajo\" de Agentic a un \"agente\" según la definición de Anthropic?<br/>\n",
    "¡Intenta agregar más herramientas y agentes! Podrías tener herramientas que gestionen la combinación de correspondencia para enviar a una lista.<br/><br/>\n",
    "RETO DIFÍCIL: Investiga cómo puedes hacer que SendGrid llame a un webhook de devolución de llamada cuando un usuario responde a un correo electrónico.\n",
    "Luego, haz que el SDR responda para continuar la conversación. Esto puede requerir algo de programación de ambiente. 😂\n",
    "</span>\n",
    "        </td>\n",
    "    </tr>\n",
    "</table>"
   ]
  },
  {
   "cell_type": "markdown",
   "metadata": {},
   "source": [
    "<table style=\"margin: 0; text-align: left; width:100%\">\n",
    "    <tr>\n",
    "        <td style=\"width: 150px; height: 150px; vertical-align: middle;\">\n",
    "            <img src=\"../assets/business.png\" width=\"150\" height=\"150\" style=\"display: block;\" />\n",
    "        </td>\n",
    "        <td>\n",
    "           <h2 style=\"color:#00bfff;\">Implicaciones comerciales</h2>\n",
    "<span style=\"color:#00bfff;\">Esto se aplica inmediatamente a la automatización de ventas; pero, de forma más general, podría aplicarse a la automatización integral de cualquier proceso empresarial mediante conversaciones y herramientas. Piensa en cómo podrías aplicar una solución de agente como esta en tu trabajo diario.\n",
    "</span>\n",
    "        </td>\n",
    "    </tr>\n",
    "</table>"
   ]
  },
  {
   "cell_type": "markdown",
   "metadata": {},
   "source": [
    "## Nota adicional:\n",
    "\n",
    "Google ha anunciado su Kit de Desarrollo de Agentes (ADK), que se encuentra en una versión preliminar. Aún está en desarrollo, por lo que es demasiado pronto para que podamos hablar de él aquí. Sin embargo, es interesante observar que se parece bastante al SDK de OpenAI Agents. Para que lo veas, aquí tienes un vistazo al código de ejemplo del ADK:\n",
    "\n",
    "\n",
    "```\n",
    "root_agent = Agent(\n",
    "    name=\"weather_time_agent\",\n",
    "    model=\"gemini-2.0-flash\",\n",
    "    description=\"Agente para responder preguntas sobre la hora y el clima en una ciudad.\",\n",
    "    instruction=\"Eres un agente útil que puede responder las preguntas de los usuarios sobre la hora y el clima de una ciudad.\",\n",
    "    tools=[get_weather, get_current_time]\n",
    ")\n",
    "```\n",
    "\n",
    "¡Vaya, eso me suena!\n"
   ]
  },
  {
   "cell_type": "markdown",
   "metadata": {},
   "source": []
  }
 ],
 "metadata": {
  "kernelspec": {
   "display_name": ".venv",
   "language": "python",
   "name": "python3"
  },
  "language_info": {
   "codemirror_mode": {
    "name": "ipython",
    "version": 3
   },
   "file_extension": ".py",
   "mimetype": "text/x-python",
   "name": "python",
   "nbconvert_exporter": "python",
   "pygments_lexer": "ipython3",
   "version": "3.12.9"
  }
 },
 "nbformat": 4,
 "nbformat_minor": 2
}
