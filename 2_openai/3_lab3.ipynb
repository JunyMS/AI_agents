{
 "cells": [
  {
   "cell_type": "markdown",
   "metadata": {},
   "source": [
    "## Semana 2 Día 3\n",
    "\n",
    "Ahora profundizaremos en los siguientes puntos:\n",
    "\n",
    "1. Diferentes modelos\n",
    "\n",
    "2. Salidas estructuradas\n",
    "\n",
    "3. Barreras de seguridad"
   ]
  },
  {
   "cell_type": "code",
   "execution_count": 1,
   "metadata": {},
   "outputs": [],
   "source": [
    "from dotenv import load_dotenv\n",
    "from openai import AsyncOpenAI\n",
    "from agents import Agent, Runner, trace, function_tool, OpenAIChatCompletionsModel, input_guardrail, GuardrailFunctionOutput\n",
    "from typing import Dict\n",
    "import sendgrid\n",
    "import os\n",
    "from sendgrid.helpers.mail import Mail, Email, To, Content\n",
    "from pydantic import BaseModel"
   ]
  },
  {
   "cell_type": "code",
   "execution_count": null,
   "metadata": {},
   "outputs": [],
   "source": [
    "load_dotenv(override=True)"
   ]
  },
  {
   "cell_type": "code",
   "execution_count": null,
   "metadata": {},
   "outputs": [],
   "source": [
    "openai_api_key = os.getenv('OPENAI_API_KEY')\n",
    "google_api_key = os.getenv('GOOGLE_API_KEY')\n",
    "deepseek_api_key = os.getenv('DEEPSEEK_API_KEY')\n",
    "groq_api_key = os.getenv('GROQ_API_KEY')\n",
    "\n",
    "if openai_api_key:\n",
    "    print(f\"La clave de la API de OpenAI existe y comienza con {openai_api_key[:8]}\")\n",
    "else:\n",
    "    print(\"OpenAI API Key no establecida\")\n",
    "\n",
    "if google_api_key:\n",
    "    print(f\"Google API Key existe y comienza con {google_api_key[:2]}\")\n",
    "else:\n",
    "    print(\"Google API Key no establecida (y esto es opcional)\")\n",
    "\n",
    "if deepseek_api_key:\n",
    "    print(f\"DeepSeek API Key existe y comienza con {deepseek_api_key[:3]}\")\n",
    "else:\n",
    "    print(\"DeepSeek API Key no establecida (y esto es opcional)\")\n",
    "\n",
    "if groq_api_key:\n",
    "    print(f\"Groq API Key existe y comienza con {groq_api_key[:4]}\")\n",
    "else:\n",
    "    print(\"Groq API Key no establecida (y esto es opcional)\")"
   ]
  },
  {
   "cell_type": "code",
   "execution_count": 4,
   "metadata": {},
   "outputs": [],
   "source": [
    "instructions1 = \"Eres un agente de ventas que trabaja para ComplAI, \\\n",
    "una empresa que ofrece una herramienta SaaS para garantizar el cumplimiento de SOC2 y prepararse para auditorías, impulsada por IA. \\\n",
    "Escribes correos electrónicos profesionales y serios.\"\n",
    "\n",
    "instructions2 = \"Eres un agente de ventas atractivo y entretenido que trabaja para ComplAI, \\\n",
    "una empresa que ofrece una herramienta SaaS para garantizar el cumplimiento de SOC2 y prepararse para auditorías, impulsada por IA. \\\n",
    "Escribes correos electrónicos ingeniosos y atractivos que probablemente obtengan respuesta.\"\n",
    "\n",
    "instructions3 = \"Eres un agente de ventas muy activo que trabaja para ComplAI, \\\n",
    "una empresa que ofrece una herramienta SaaS para garantizar el cumplimiento de SOC2 y prepararse para auditorías, impulsada por IA. \\\n",
    "Escribes correos electrónicos concisos y directos.\""
   ]
  },
  {
   "cell_type": "markdown",
   "metadata": {},
   "source": [
    "### Es fácil utilizar cualquier modelo con puntos finales compatibles con OpenAI"
   ]
  },
  {
   "cell_type": "code",
   "execution_count": 5,
   "metadata": {},
   "outputs": [],
   "source": [
    "GEMINI_BASE_URL = \"https://generativelanguage.googleapis.com/v1beta/openai/\"\n",
    "DEEPSEEK_BASE_URL = \"https://api.deepseek.com/v1\"\n",
    "GROQ_BASE_URL = \"https://api.groq.com/openai/v1\""
   ]
  },
  {
   "cell_type": "code",
   "execution_count": 6,
   "metadata": {},
   "outputs": [],
   "source": [
    "\n",
    "deepseek_client = AsyncOpenAI(base_url=DEEPSEEK_BASE_URL, api_key=deepseek_api_key)\n",
    "gemini_client = AsyncOpenAI(base_url=GEMINI_BASE_URL, api_key=google_api_key)\n",
    "groq_client = AsyncOpenAI(base_url=GROQ_BASE_URL, api_key=groq_api_key)\n",
    "\n",
    "deepseek_model = OpenAIChatCompletionsModel(model=\"deepseek-chat\", openai_client=deepseek_client)\n",
    "gemini_model = OpenAIChatCompletionsModel(model=\"gemini-2.0-flash\", openai_client=gemini_client)\n",
    "llama3_3_model = OpenAIChatCompletionsModel(model=\"llama-3.3-70b-versatile\", openai_client=groq_client)"
   ]
  },
  {
   "cell_type": "code",
   "execution_count": 7,
   "metadata": {},
   "outputs": [],
   "source": [
    "sales_agent1 = Agent(name=\"Agente de ventas DeepSeek\", instructions=instructions1, model=deepseek_model)\n",
    "sales_agent2 =  Agent(name=\"Agente de ventas Gemini\", instructions=instructions2, model=gemini_model)\n",
    "sales_agent3  = Agent(name=\"Agente de ventas Llama3.3\",instructions=instructions3,model=llama3_3_model)"
   ]
  },
  {
   "cell_type": "code",
   "execution_count": 8,
   "metadata": {},
   "outputs": [],
   "source": [
    "description = \"Escribe un correo electrónico de ventas en frío\"\n",
    "\n",
    "tool1 = sales_agent1.as_tool(tool_name=\"sales_agent1\", tool_description=description)\n",
    "tool2 = sales_agent2.as_tool(tool_name=\"sales_agent2\", tool_description=description)\n",
    "tool3 = sales_agent3.as_tool(tool_name=\"sales_agent3\", tool_description=description)"
   ]
  },
  {
   "cell_type": "code",
   "execution_count": 9,
   "metadata": {},
   "outputs": [],
   "source": [
    "@function_tool\n",
    "def send_html_email(subject: str, html_body: str) -> Dict[str, str]:\n",
    "    \"\"\" Envía un correo electrónico con el asunto indicado y el cuerpo HTML a todos los clientes potenciales de ventas. \"\"\"\n",
    "    sg = sendgrid.SendGridAPIClient(api_key=os.environ.get('SENDGRID_API_KEY'))\n",
    "    from_email = Email(\"juangabriel@frogames.es\")  # Cambiar a tu remitente verificado\n",
    "    to_email = To(\"juangabriel@frogames.es\")  # Cambiar a tu receptor\n",
    "    content = Content(\"text/html\", html_body)\n",
    "    mail = Mail(from_email, to_email, subject, content).get()\n",
    "    response = sg.client.mail.send.post(request_body=mail)\n",
    "    return {\"status\": \"success\"}"
   ]
  },
  {
   "cell_type": "code",
   "execution_count": 10,
   "metadata": {},
   "outputs": [],
   "source": [
    "subject_instructions = \"Puedes escribir un asunto para un correo electrónico de ventas en frío. \\\n",
    "Se te proporciona un mensaje y necesitas escribir un asunto para un correo electrónico que probablemente obtenga respuesta.\"\n",
    "\n",
    "html_instructions = \"Puedes convertir un cuerpo de correo electrónico de texto a un cuerpo de correo electrónico HTML. \\\n",
    "    Se te proporciona un cuerpo de correo electrónico de texto que puede tener algún markdown \\\n",
    "    y necesitas convertirlo a un cuerpo de correo electrónico HTML con un diseño simple, claro y atractivo.\"\n",
    "\n",
    "subject_writer = Agent(name=\"Escritor de asunto de correo electrónico\", instructions=subject_instructions, model=\"gpt-4o-mini\")\n",
    "subject_tool = subject_writer.as_tool(tool_name=\"subject_writer\", tool_description=\"Escribe un asunto para un correo electrónico de ventas en frío\")\n",
    "\n",
    "html_converter = Agent(name=\"Convertidor de cuerpo de correo electrónico a HTML\", instructions=html_instructions, model=\"gpt-4o-mini\")\n",
    "html_tool = html_converter.as_tool(tool_name=\"html_converter\",tool_description=\"Convierte un cuerpo de correo electrónico de texto a un cuerpo de correo electrónico HTML\")"
   ]
  },
  {
   "cell_type": "code",
   "execution_count": 11,
   "metadata": {},
   "outputs": [],
   "source": [
    "email_tools = [subject_tool, html_tool, send_html_email]"
   ]
  },
  {
   "cell_type": "code",
   "execution_count": 12,
   "metadata": {},
   "outputs": [],
   "source": [
    "instructions =\"Eres un formateador y remitente de correos electrónicos. \\\n",
    "Recibes el cuerpo de un correo electrónico para enviarlo. \\\n",
    "Primero usas la herramienta subject_writer para escribir un asunto para el correo electrónico, \\\n",
    "luego usas la herramienta html_converter para convertir el cuerpo a HTML. \\\n",
    "Finalmente, usas la herramienta send_html_email para enviar el correo electrónico con el asunto y el cuerpo HTML.\"\n",
    "\n",
    "\n",
    "emailer_agent = Agent(\n",
    "    name=\"Email Manager\",\n",
    "    instructions=instructions,\n",
    "    tools=email_tools,\n",
    "    model=\"gpt-4o-mini\",\n",
    "    handoff_description=\"Convierte un correo electrónico a HTML y lo envía\")"
   ]
  },
  {
   "cell_type": "code",
   "execution_count": 13,
   "metadata": {},
   "outputs": [],
   "source": [
    "tools = [tool1, tool2, tool3]\n",
    "handoffs = [emailer_agent]"
   ]
  },
  {
   "cell_type": "code",
   "execution_count": 14,
   "metadata": {},
   "outputs": [],
   "source": [
    "sales_manager_instructions = \"Eres un gerente de ventas que trabaja para ComplAI. Utilizas las herramientas que se te proporcionan para generar correos electrónicos de ventas en frío. \\\n",
    "Nunca generas correos electrónicos de ventas tú mismo; siempre utilizas las herramientas. \\\n",
    "Pruebas las 3 herramientas del agente de ventas al menos una vez antes de elegir la mejor. \\\n",
    "Puedes usar las herramientas múltiples veces si no estás satisfecho con los resultados del primer intento. \\\n",
    "Seleccionas el mejor correo electrónico usando tu propio criterio sobre cuál será más efectivo. \\\n",
    "Después de elegir el correo electrónico, transfieres al agente Email Manager para formatear y enviar el correo.\"\n",
    "\n",
    "\n",
    "sales_manager = Agent(\n",
    "    name=\"Manager de ventas\",\n",
    "    instructions=sales_manager_instructions,\n",
    "    tools=tools,\n",
    "    handoffs=handoffs,\n",
    "    model=\"gpt-4o-mini\")\n",
    "\n",
    "message = \"Envíe un correo electrónico de ventas en frío dirigido a 'Estimado director ejecutivo' desde Alice\"\n",
    "\n",
    "with trace(\"Automated SDR\"):\n",
    "    result = await Runner.run(sales_manager, message)"
   ]
  },
  {
   "cell_type": "markdown",
   "metadata": {},
   "source": [
    "## Revisa la traza:\n",
    "\n",
    "https://platform.openai.com/traces"
   ]
  },
  {
   "cell_type": "code",
   "execution_count": 15,
   "metadata": {},
   "outputs": [],
   "source": [
    "class NameCheckOutput(BaseModel):\n",
    "    is_name_in_message: bool\n",
    "    name: str\n",
    "\n",
    "guardrail_agent = Agent( \n",
    "    name=\"Revisión de nombre\",\n",
    "    instructions=\"Revisa si el usuario está incluyendo el nombre personal de alguien en lo que quiere que hagas.\",\n",
    "    output_type=NameCheckOutput,\n",
    "    model=\"gpt-4o-mini\"\n",
    ")"
   ]
  },
  {
   "cell_type": "code",
   "execution_count": 16,
   "metadata": {},
   "outputs": [],
   "source": [
    "@input_guardrail\n",
    "async def guardrail_against_name(ctx, agent, message):\n",
    "    result = await Runner.run(guardrail_agent, message, context=ctx.context)\n",
    "    is_name_in_message = result.final_output.is_name_in_message\n",
    "    return GuardrailFunctionOutput(output_info={\"found_name\": result.final_output},tripwire_triggered=is_name_in_message)"
   ]
  },
  {
   "cell_type": "code",
   "execution_count": null,
   "metadata": {},
   "outputs": [],
   "source": [
    "careful_sales_manager = Agent(\n",
    "    name=\"Manager de ventas\",\n",
    "    instructions=sales_manager_instructions,\n",
    "    tools=tools,\n",
    "    handoffs=[emailer_agent],\n",
    "    model=\"gpt-4o-mini\",\n",
    "    input_guardrails=[guardrail_against_name]\n",
    "    )\n",
    "\n",
    "message = \"Envíe un correo electrónico de ventas en frío dirigido a 'Estimado director ejecutivo' desde Alice\"\n",
    "\n",
    "with trace(\"Protected Automated SDR\"):\n",
    "    result = await Runner.run(careful_sales_manager, message)"
   ]
  },
  {
   "cell_type": "markdown",
   "metadata": {},
   "source": [
    "## Comrpueba la traza:\n",
    "\n",
    "https://platform.openai.com/traces"
   ]
  },
  {
   "cell_type": "code",
   "execution_count": 20,
   "metadata": {},
   "outputs": [],
   "source": [
    "\n",
    "message = \"Envía un correo electrónico de ventas frío dirigido al Estimado CEO del Jefe de Desarrollo Comercial\"\n",
    "\n",
    "with trace(\"Protected Automated SDR\"):\n",
    "    result = await Runner.run(careful_sales_manager, message)"
   ]
  },
  {
   "cell_type": "markdown",
   "metadata": {},
   "source": [
    "<table style=\"margin: 0; text-align: left; width:100%\">\n",
    "    <tr>\n",
    "        <td style=\"width: 150px; height: 150px; vertical-align: middle;\">\n",
    "            <img src=\"../assets/exercise.png\" width=\"150\" height=\"150\" style=\"display: block;\" />\n",
    "        </td>\n",
    "        <td>\n",
    "            <h2 style=\"color:#ff7800;\">Ejercicio</h2>\n",
    "            <span style=\"color:#ff7800;\">• Prueba diferentes modelos<br/>• Agrega más barreras de entrada y salida<br/>• Usa salidas estructuradas para la generación de correos electrónicos\n",
    "            </span>\n",
    "        </td>\n",
    "    </tr>\n",
    "</table>"
   ]
  },
  {
   "cell_type": "markdown",
   "metadata": {},
   "source": []
  }
 ],
 "metadata": {
  "kernelspec": {
   "display_name": ".venv",
   "language": "python",
   "name": "python3"
  },
  "language_info": {
   "codemirror_mode": {
    "name": "ipython",
    "version": 3
   },
   "file_extension": ".py",
   "mimetype": "text/x-python",
   "name": "python",
   "nbconvert_exporter": "python",
   "pygments_lexer": "ipython3",
   "version": "3.12.9"
  }
 },
 "nbformat": 4,
 "nbformat_minor": 2
}
