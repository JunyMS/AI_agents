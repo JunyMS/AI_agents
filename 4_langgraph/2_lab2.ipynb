{
 "cells": [
  {
   "cell_type": "markdown",
   "metadata": {},
   "source": [
    "### Y bienvenidos a la Semana 4, Día 3: más LangGraph."
   ]
  },
  {
   "cell_type": "code",
   "execution_count": 1,
   "metadata": {},
   "outputs": [],
   "source": [
    "from typing import Annotated\n",
    "from langgraph.graph import StateGraph, START, END\n",
    "from langgraph.graph.message import add_messages\n",
    "from dotenv import load_dotenv\n",
    "from IPython.display import Image, display\n",
    "import gradio as gr\n",
    "from langgraph.prebuilt import ToolNode, tools_condition\n",
    "import requests\n",
    "import os\n",
    "from langchain_openai import ChatOpenAI\n",
    "from typing import TypedDict\n"
   ]
  },
  {
   "cell_type": "code",
   "execution_count": 2,
   "metadata": {},
   "outputs": [
    {
     "data": {
      "text/plain": [
       "True"
      ]
     },
     "execution_count": 2,
     "metadata": {},
     "output_type": "execute_result"
    }
   ],
   "source": [
    "# ¡Nuestro primer paso favorito! Por cierto, la tripulación lo estaba haciendo por nosotros.\n",
    "load_dotenv(override=True)\n"
   ]
  },
  {
   "cell_type": "markdown",
   "metadata": {},
   "source": [
    "### Primero, vayamos a configurar LangSmith!\n",
    "\n",
    "https://langsmith.com"
   ]
  },
  {
   "cell_type": "markdown",
   "metadata": {},
   "source": [
    "### A continuación, se muestra una función útil en la comunidad LangChain:"
   ]
  },
  {
   "cell_type": "code",
   "execution_count": 3,
   "metadata": {},
   "outputs": [
    {
     "data": {
      "text/plain": [
       "'Paris'"
      ]
     },
     "execution_count": 3,
     "metadata": {},
     "output_type": "execute_result"
    }
   ],
   "source": [
    "from langchain_community.utilities import GoogleSerperAPIWrapper\n",
    "\n",
    "serper = GoogleSerperAPIWrapper()\n",
    "serper.run(\"¿Cuál es la capital de Francia?\")"
   ]
  },
  {
   "cell_type": "markdown",
   "metadata": {},
   "source": [
    "### Ahora aquí hay una clase contenedora LangChain para convertir funciones en herramientas"
   ]
  },
  {
   "cell_type": "code",
   "execution_count": 4,
   "metadata": {},
   "outputs": [],
   "source": [
    "from langchain.agents import Tool\n",
    "\n",
    "tool_search =Tool(\n",
    "        name=\"search\",\n",
    "        func=serper.run,\n",
    "        description=\"Útil cuando necesitas más información de una búsqueda en línea.\"\n",
    "    )\n",
    "\n"
   ]
  },
  {
   "cell_type": "markdown",
   "metadata": {},
   "source": [
    "### Ahora podemos probar la herramienta al estilo Langchain."
   ]
  },
  {
   "cell_type": "code",
   "execution_count": 6,
   "metadata": {},
   "outputs": [
    {
     "data": {
      "text/plain": [
       "'Paris'"
      ]
     },
     "execution_count": 6,
     "metadata": {},
     "output_type": "execute_result"
    }
   ],
   "source": [
    "tool_search.invoke(\"¿Cuál es la capital de Francia?\")"
   ]
  },
  {
   "cell_type": "markdown",
   "metadata": {},
   "source": [
    "### Y ahora, escribamos una herramienta nosotros mismos.\n",
    "\n",
    "Elegiremos una que nos resulte familiar."
   ]
  },
  {
   "cell_type": "code",
   "execution_count": 5,
   "metadata": {},
   "outputs": [],
   "source": [
    "pushover_token = os.getenv(\"PUSHOVER_TOKEN\")\n",
    "pushover_user = os.getenv(\"PUSHOVER_USER\")\n",
    "pushover_url = \"https://api.pushover.net/1/messages.json\"\n",
    "\n",
    "def push(text: str):\n",
    "    \"\"\"Envía una notificación push al usuario\"\"\"\n",
    "    requests.post(pushover_url, data = {\n",
    "        \"token\": pushover_token, \n",
    "        \"user\": pushover_user, \n",
    "        \"message\": text})"
   ]
  },
  {
   "cell_type": "code",
   "execution_count": 6,
   "metadata": {},
   "outputs": [],
   "source": [
    "tool_push = Tool(\n",
    "        name=\"send_push_notification\",\n",
    "        func=push,\n",
    "        description=\"Útil para cuando quieras enviar una notificación push\"\n",
    "    )\n",
    "\n",
    "tool_push.invoke(\"¡Hola, tú!\")"
   ]
  },
  {
   "cell_type": "markdown",
   "metadata": {},
   "source": [
    "### Volviendo al grafo, como ayer\n",
    "\n",
    "Un pequeño cambio: usar TypedDict en lugar de BaseModel para el objeto State\n",
    "\n",
    "Al implementar herramientas, siempre debemos realizar dos cambios en el código:\n",
    "\n",
    "1. Cambios para proporcionar las herramientas a OpenAI en formato JSON al realizar la llamada.\n",
    "\n",
    "2. Cambios para gestionar los resultados: buscar el modelo manteniendo el argumento finish_reason==\"tool_calls\" y luego recuperar la llamada, ejecutar la función y proporcionar los resultados."
   ]
  },
  {
   "cell_type": "markdown",
   "metadata": {},
   "source": [
    "### Lo juntamos todo"
   ]
  },
  {
   "cell_type": "code",
   "execution_count": 7,
   "metadata": {},
   "outputs": [],
   "source": [
    "tools = [tool_search, tool_push]"
   ]
  },
  {
   "cell_type": "code",
   "execution_count": 8,
   "metadata": {},
   "outputs": [],
   "source": [
    "# Paso 1: Definir el objeto Estado\n",
    "class State(TypedDict):\n",
    "    messages: Annotated[list, add_messages]"
   ]
  },
  {
   "cell_type": "code",
   "execution_count": 9,
   "metadata": {},
   "outputs": [],
   "source": [
    "# Paso 2: Iniciar el constructor del Grafo con la clase Estado\n",
    "graph_builder = StateGraph(State)"
   ]
  },
  {
   "cell_type": "code",
   "execution_count": 10,
   "metadata": {},
   "outputs": [],
   "source": [
    "# Esto es diferente:\n",
    "\n",
    "llm = ChatOpenAI(model=\"gpt-4o-mini\")\n",
    "llm_with_tools = llm.bind_tools(tools)"
   ]
  },
  {
   "cell_type": "code",
   "execution_count": 11,
   "metadata": {},
   "outputs": [
    {
     "data": {
      "text/plain": [
       "<langgraph.graph.state.StateGraph at 0x1323f6300>"
      ]
     },
     "execution_count": 11,
     "metadata": {},
     "output_type": "execute_result"
    }
   ],
   "source": [
    "# Paso 3: Creamos un Nodo\n",
    "\n",
    "\n",
    "def chatbot(state: State):\n",
    "    return {\"messages\": [llm_with_tools.invoke(state[\"messages\"])]}\n",
    "\n",
    "graph_builder.add_node(\"chatbot\", chatbot)\n",
    "graph_builder.add_node(\"tools\", ToolNode(tools=tools))"
   ]
  },
  {
   "cell_type": "code",
   "execution_count": 14,
   "metadata": {},
   "outputs": [
    {
     "data": {
      "text/plain": [
       "<langgraph.graph.state.StateGraph at 0x125768260>"
      ]
     },
     "execution_count": 14,
     "metadata": {},
     "output_type": "execute_result"
    }
   ],
   "source": [
    "# Paso 4: Creamos Aristas\n",
    "\n",
    "\n",
    "graph_builder.add_conditional_edges( \"chatbot\", tools_condition, \"tools\")\n",
    "\n",
    "# Cada vez que se llama a una herramienta, volvemos al chatbot para decidir el siguiente paso.\n",
    "graph_builder.add_edge(\"tools\", \"chatbot\")\n",
    "graph_builder.add_edge(START, \"chatbot\")"
   ]
  },
  {
   "cell_type": "code",
   "execution_count": 15,
   "metadata": {},
   "outputs": [
    {
     "data": {
      "image/png": "[encoded data removed]",
      "text/plain": [
       "<IPython.core.display.Image object>"
      ]
     },
     "metadata": {},
     "output_type": "display_data"
    }
   ],
   "source": [
    "# Paso 5: Compilamos el Grafo\n",
    "graph = graph_builder.compile()\n",
    "display(Image(graph.get_graph().draw_mermaid_png()))"
   ]
  },
  {
   "cell_type": "markdown",
   "metadata": {},
   "source": [
    "### ¡Listo! Y, ¡hagamos esto!"
   ]
  },
  {
   "cell_type": "code",
   "execution_count": 16,
   "metadata": {},
   "outputs": [
    {
     "name": "stdout",
     "output_type": "stream",
     "text": [
      "* Running on local URL:  http://127.0.0.1:7862\n",
      "* To create a public link, set `share=True` in `launch()`.\n"
     ]
    },
    {
     "data": {
      "text/html": [
       "<div><iframe src=\"http://127.0.0.1:7862/\" width=\"100%\" height=\"500\" allow=\"autoplay; camera; microphone; clipboard-read; clipboard-write;\" frameborder=\"0\" allowfullscreen></iframe></div>"
      ],
      "text/plain": [
       "<IPython.core.display.HTML object>"
      ]
     },
     "metadata": {},
     "output_type": "display_data"
    },
    {
     "data": {
      "text/plain": []
     },
     "execution_count": 16,
     "metadata": {},
     "output_type": "execute_result"
    }
   ],
   "source": [
    "def chat(user_input: str, history):\n",
    "    result = graph.invoke({\"messages\": [{\"role\": \"user\", \"content\": user_input}]})\n",
    "    return result[\"messages\"][-1].content\n",
    "\n",
    "\n",
    "gr.ChatInterface(chat, type=\"messages\").launch()"
   ]
  },
  {
   "cell_type": "markdown",
   "metadata": {},
   "source": [
    "## ¡Es hora de agregar memoria!\n",
    "\n",
    "### ¡PERO ESPERA!\n",
    "\n",
    "Tenemos este grafo completo manteniendo el estado y añadiendo elementos adicionales.\n",
    "\n",
    "¿Por qué no gestiona la memoria?\n",
    "\n",
    "### Este es un punto crucial para comprender LangGraph.\n",
    "\n",
    "> Un superpaso puede considerarse una única iteración sobre los nodos del grafo. Los nodos que se ejecutan en paralelo forman parte del mismo superpaso, mientras que los que se ejecutan secuencialmente pertenecen a superpasos separados.\n",
    "\n",
    "Un \"superpaso\" del grafo representa una invocación de intercambio de mensajes entre agentes.\n",
    "\n",
    "En LangGraph idomático, se llama a la función \"invocar\" para ejecutar el grafo en cada superpaso; en cada interacción.\n",
    "\n",
    "El reductor gestiona las actualizaciones de estado automáticamente dentro de un superpaso, pero no entre ellos.\n",
    "\n",
    "Esto es lo que se consigue con los puntos de control."
   ]
  },
  {
   "cell_type": "code",
   "execution_count": 23,
   "metadata": {},
   "outputs": [],
   "source": [
    "from langgraph.checkpoint.memory import MemorySaver\n",
    "\n",
    "memory = MemorySaver()"
   ]
  },
  {
   "cell_type": "code",
   "execution_count": 24,
   "metadata": {},
   "outputs": [
    {
     "data": {
      "image/png": "[encoded data removed]",
      "text/plain": [
       "<IPython.core.display.Image object>"
      ]
     },
     "metadata": {},
     "output_type": "display_data"
    }
   ],
   "source": [
    "# Steps 1 and 2\n",
    "graph_builder = StateGraph(State)\n",
    "\n",
    "\n",
    "# Step 3\n",
    "llm = ChatOpenAI(model=\"gpt-4o-mini\")\n",
    "llm_with_tools = llm.bind_tools(tools)\n",
    "\n",
    "def chatbot(state: State):\n",
    "    print(state)\n",
    "    return {\"messages\": [llm_with_tools.invoke(state[\"messages\"])]}\n",
    "\n",
    "graph_builder.add_node(\"chatbot\", chatbot)\n",
    "graph_builder.add_node(\"tools\", ToolNode(tools=tools))\n",
    "\n",
    "# Step 4\n",
    "graph_builder.add_conditional_edges( \"chatbot\", tools_condition, \"tools\")\n",
    "graph_builder.add_edge(\"tools\", \"chatbot\")\n",
    "graph_builder.add_edge(START, \"chatbot\")\n",
    "\n",
    "# Step 5\n",
    "graph = graph_builder.compile(checkpointer=memory)\n",
    "display(Image(graph.get_graph().draw_mermaid_png()))"
   ]
  },
  {
   "cell_type": "code",
   "execution_count": 27,
   "metadata": {},
   "outputs": [
    {
     "name": "stdout",
     "output_type": "stream",
     "text": [
      "* Running on local URL:  http://127.0.0.1:7867\n",
      "* To create a public link, set `share=True` in `launch()`.\n"
     ]
    },
    {
     "data": {
      "text/html": [
       "<div><iframe src=\"http://127.0.0.1:7867/\" width=\"100%\" height=\"500\" allow=\"autoplay; camera; microphone; clipboard-read; clipboard-write;\" frameborder=\"0\" allowfullscreen></iframe></div>"
      ],
      "text/plain": [
       "<IPython.core.display.HTML object>"
      ]
     },
     "metadata": {},
     "output_type": "display_data"
    },
    {
     "data": {
      "text/plain": []
     },
     "execution_count": 27,
     "metadata": {},
     "output_type": "execute_result"
    },
    {
     "name": "stdout",
     "output_type": "stream",
     "text": [
      "{'messages': [HumanMessage(content='hola', additional_kwargs={}, response_metadata={}, id='07e7f4e6-b84e-4791-bd65-f29d11eb0cf5'), AIMessage(content='¡Hola! ¿Cómo puedo ayudarte hoy?', additional_kwargs={'refusal': None}, response_metadata={'token_usage': {'completion_tokens': 10, 'prompt_tokens': 89, 'total_tokens': 99, 'completion_tokens_details': {'accepted_prediction_tokens': 0, 'audio_tokens': 0, 'reasoning_tokens': 0, 'rejected_prediction_tokens': 0}, 'prompt_tokens_details': {'audio_tokens': 0, 'cached_tokens': 0}}, 'model_name': 'gpt-4o-mini-2024-07-18', 'system_fingerprint': 'fp_34a54ae93c', 'id': 'chatcmpl-BoYrf8cdGAHdWNUuwZPmdoGhHJS4o', 'service_tier': 'default', 'finish_reason': 'stop', 'logprobs': None}, id='run--98a2256a-b75b-43f4-b1ed-0cf490a54002-0', usage_metadata={'input_tokens': 89, 'output_tokens': 10, 'total_tokens': 99, 'input_token_details': {'audio': 0, 'cache_read': 0}, 'output_token_details': {'audio': 0, 'reasoning': 0}}), HumanMessage(content='sabes mi nombre?', additional_kwargs={}, response_metadata={}, id='2bfd76ef-ed28-4b9c-87cc-6e8a309a4fed'), AIMessage(content='No, no sé tu nombre. Pero si me lo dices, estaré encantado de dirigirme a ti por tu nombre. ¿Cómo te llamas?', additional_kwargs={'refusal': None}, response_metadata={'token_usage': {'completion_tokens': 33, 'prompt_tokens': 111, 'total_tokens': 144, 'completion_tokens_details': {'accepted_prediction_tokens': 0, 'audio_tokens': 0, 'reasoning_tokens': 0, 'rejected_prediction_tokens': 0}, 'prompt_tokens_details': {'audio_tokens': 0, 'cached_tokens': 0}}, 'model_name': 'gpt-4o-mini-2024-07-18', 'system_fingerprint': 'fp_34a54ae93c', 'id': 'chatcmpl-BoYrnQO3k40hbW1oyKykEtrSrUl5J', 'service_tier': 'default', 'finish_reason': 'stop', 'logprobs': None}, id='run--089db491-391b-4c7c-aefc-408b2c921b9f-0', usage_metadata={'input_tokens': 111, 'output_tokens': 33, 'total_tokens': 144, 'input_token_details': {'audio': 0, 'cache_read': 0}, 'output_token_details': {'audio': 0, 'reasoning': 0}}), HumanMessage(content='juan gabriel', additional_kwargs={}, response_metadata={}, id='2bd7c724-6bd9-420e-bf48-944e3c42f320'), AIMessage(content='¡Mucho gusto, Juan Gabriel! ¿En qué puedo ayudarte hoy?', additional_kwargs={'refusal': None}, response_metadata={'token_usage': {'completion_tokens': 16, 'prompt_tokens': 154, 'total_tokens': 170, 'completion_tokens_details': {'accepted_prediction_tokens': 0, 'audio_tokens': 0, 'reasoning_tokens': 0, 'rejected_prediction_tokens': 0}, 'prompt_tokens_details': {'audio_tokens': 0, 'cached_tokens': 0}}, 'model_name': 'gpt-4o-mini-2024-07-18', 'system_fingerprint': 'fp_34a54ae93c', 'id': 'chatcmpl-BoYs59E7Opi3YAYFPikZxE0hmtcVE', 'service_tier': 'default', 'finish_reason': 'stop', 'logprobs': None}, id='run--5e28abaf-5948-413c-abf4-4a82858217fe-0', usage_metadata={'input_tokens': 154, 'output_tokens': 16, 'total_tokens': 170, 'input_token_details': {'audio': 0, 'cache_read': 0}, 'output_token_details': {'audio': 0, 'reasoning': 0}}), HumanMessage(content='hola', additional_kwargs={}, response_metadata={}, id='fed09b04-ba68-4bd6-a620-4084d7d7ec98')]}\n"
     ]
    }
   ],
   "source": [
    "config = {\"configurable\": {\"thread_id\": \"1\"}}\n",
    "\n",
    "def chat(user_input: str, history):\n",
    "    result = graph.invoke({\"messages\": [{\"role\": \"user\", \"content\": user_input}]}, config=config)\n",
    "    return result[\"messages\"][-1].content\n",
    "\n",
    "\n",
    "gr.ChatInterface(chat, type=\"messages\").launch()"
   ]
  },
  {
   "cell_type": "code",
   "execution_count": 20,
   "metadata": {},
   "outputs": [
    {
     "data": {
      "text/plain": [
       "StateSnapshot(values={'messages': [HumanMessage(content='hola', additional_kwargs={}, response_metadata={}, id='6c5e9b9f-4be1-4f64-bc54-64d581ae5c0e'), AIMessage(content='¡Hola! ¿Cómo puedo ayudarte hoy?', additional_kwargs={'refusal': None}, response_metadata={'token_usage': {'completion_tokens': 10, 'prompt_tokens': 89, 'total_tokens': 99, 'completion_tokens_details': {'accepted_prediction_tokens': 0, 'audio_tokens': 0, 'reasoning_tokens': 0, 'rejected_prediction_tokens': 0}, 'prompt_tokens_details': {'audio_tokens': 0, 'cached_tokens': 0}}, 'model_name': 'gpt-4o-mini-2024-07-18', 'system_fingerprint': 'fp_34a54ae93c', 'id': 'chatcmpl-BoYlgQGgQqCsEHVjvBEDdttFTVJtG', 'service_tier': 'default', 'finish_reason': 'stop', 'logprobs': None}, id='run--c2f0569d-09f9-4165-82e6-aa73b581c205-0', usage_metadata={'input_tokens': 89, 'output_tokens': 10, 'total_tokens': 99, 'input_token_details': {'audio': 0, 'cache_read': 0}, 'output_token_details': {'audio': 0, 'reasoning': 0}}), HumanMessage(content='mi nombre es juan gabriel', additional_kwargs={}, response_metadata={}, id='77eed782-dfc5-4ef5-8f05-69fde9f92b29'), AIMessage(content='¡Mucho gusto, Juan Gabriel! ¿En qué puedo ayudarte hoy?', additional_kwargs={'refusal': None}, response_metadata={'token_usage': {'completion_tokens': 16, 'prompt_tokens': 113, 'total_tokens': 129, 'completion_tokens_details': {'accepted_prediction_tokens': 0, 'audio_tokens': 0, 'reasoning_tokens': 0, 'rejected_prediction_tokens': 0}, 'prompt_tokens_details': {'audio_tokens': 0, 'cached_tokens': 0}}, 'model_name': 'gpt-4o-mini-2024-07-18', 'system_fingerprint': 'fp_34a54ae93c', 'id': 'chatcmpl-BoYlskNunBLsGqKTt9kqReK7a10mY', 'service_tier': 'default', 'finish_reason': 'stop', 'logprobs': None}, id='run--ae1c85c5-0e31-4cf5-961d-a7790ed2c0b0-0', usage_metadata={'input_tokens': 113, 'output_tokens': 16, 'total_tokens': 129, 'input_token_details': {'audio': 0, 'cache_read': 0}, 'output_token_details': {'audio': 0, 'reasoning': 0}}), HumanMessage(content='cual es mi nombre?', additional_kwargs={}, response_metadata={}, id='7c612cc7-8df2-40d0-9195-7f1eb2156265'), AIMessage(content='Tu nombre es Juan Gabriel.', additional_kwargs={'refusal': None}, response_metadata={'token_usage': {'completion_tokens': 7, 'prompt_tokens': 142, 'total_tokens': 149, 'completion_tokens_details': {'accepted_prediction_tokens': 0, 'audio_tokens': 0, 'reasoning_tokens': 0, 'rejected_prediction_tokens': 0}, 'prompt_tokens_details': {'audio_tokens': 0, 'cached_tokens': 0}}, 'model_name': 'gpt-4o-mini-2024-07-18', 'system_fingerprint': 'fp_34a54ae93c', 'id': 'chatcmpl-BoYm2rzH5FQYgQjGvoPVCTaGgnUs0', 'service_tier': 'default', 'finish_reason': 'stop', 'logprobs': None}, id='run--9e61bc0e-3f7b-473d-be1d-2853d0629db9-0', usage_metadata={'input_tokens': 142, 'output_tokens': 7, 'total_tokens': 149, 'input_token_details': {'audio': 0, 'cache_read': 0}, 'output_token_details': {'audio': 0, 'reasoning': 0}})]}, next=(), config={'configurable': {'thread_id': '1', 'checkpoint_ns': '', 'checkpoint_id': '1f0569e2-7130-6a8e-8007-639ee98e0e9b'}}, metadata={'source': 'loop', 'writes': {'chatbot': {'messages': [AIMessage(content='Tu nombre es Juan Gabriel.', additional_kwargs={'refusal': None}, response_metadata={'token_usage': {'completion_tokens': 7, 'prompt_tokens': 142, 'total_tokens': 149, 'completion_tokens_details': {'accepted_prediction_tokens': 0, 'audio_tokens': 0, 'reasoning_tokens': 0, 'rejected_prediction_tokens': 0}, 'prompt_tokens_details': {'audio_tokens': 0, 'cached_tokens': 0}}, 'model_name': 'gpt-4o-mini-2024-07-18', 'system_fingerprint': 'fp_34a54ae93c', 'id': 'chatcmpl-BoYm2rzH5FQYgQjGvoPVCTaGgnUs0', 'service_tier': 'default', 'finish_reason': 'stop', 'logprobs': None}, id='run--9e61bc0e-3f7b-473d-be1d-2853d0629db9-0', usage_metadata={'input_tokens': 142, 'output_tokens': 7, 'total_tokens': 149, 'input_token_details': {'audio': 0, 'cache_read': 0}, 'output_token_details': {'audio': 0, 'reasoning': 0}})]}}, 'step': 7, 'parents': {}, 'thread_id': '1'}, created_at='2025-07-01T17:09:30.886613+00:00', parent_config={'configurable': {'thread_id': '1', 'checkpoint_ns': '', 'checkpoint_id': '1f0569e2-6bbe-6218-8006-c24a91a93b68'}}, tasks=(), interrupts=())"
      ]
     },
     "execution_count": 20,
     "metadata": {},
     "output_type": "execute_result"
    }
   ],
   "source": [
    "graph.get_state(config)"
   ]
  },
  {
   "cell_type": "code",
   "execution_count": 28,
   "metadata": {},
   "outputs": [
    {
     "data": {
      "text/plain": [
       "[StateSnapshot(values={'messages': [HumanMessage(content='hola', additional_kwargs={}, response_metadata={}, id='07e7f4e6-b84e-4791-bd65-f29d11eb0cf5'), AIMessage(content='¡Hola! ¿Cómo puedo ayudarte hoy?', additional_kwargs={'refusal': None}, response_metadata={'token_usage': {'completion_tokens': 10, 'prompt_tokens': 89, 'total_tokens': 99, 'completion_tokens_details': {'accepted_prediction_tokens': 0, 'audio_tokens': 0, 'reasoning_tokens': 0, 'rejected_prediction_tokens': 0}, 'prompt_tokens_details': {'audio_tokens': 0, 'cached_tokens': 0}}, 'model_name': 'gpt-4o-mini-2024-07-18', 'system_fingerprint': 'fp_34a54ae93c', 'id': 'chatcmpl-BoYrf8cdGAHdWNUuwZPmdoGhHJS4o', 'service_tier': 'default', 'finish_reason': 'stop', 'logprobs': None}, id='run--98a2256a-b75b-43f4-b1ed-0cf490a54002-0', usage_metadata={'input_tokens': 89, 'output_tokens': 10, 'total_tokens': 99, 'input_token_details': {'audio': 0, 'cache_read': 0}, 'output_token_details': {'audio': 0, 'reasoning': 0}}), HumanMessage(content='sabes mi nombre?', additional_kwargs={}, response_metadata={}, id='2bfd76ef-ed28-4b9c-87cc-6e8a309a4fed'), AIMessage(content='No, no sé tu nombre. Pero si me lo dices, estaré encantado de dirigirme a ti por tu nombre. ¿Cómo te llamas?', additional_kwargs={'refusal': None}, response_metadata={'token_usage': {'completion_tokens': 33, 'prompt_tokens': 111, 'total_tokens': 144, 'completion_tokens_details': {'accepted_prediction_tokens': 0, 'audio_tokens': 0, 'reasoning_tokens': 0, 'rejected_prediction_tokens': 0}, 'prompt_tokens_details': {'audio_tokens': 0, 'cached_tokens': 0}}, 'model_name': 'gpt-4o-mini-2024-07-18', 'system_fingerprint': 'fp_34a54ae93c', 'id': 'chatcmpl-BoYrnQO3k40hbW1oyKykEtrSrUl5J', 'service_tier': 'default', 'finish_reason': 'stop', 'logprobs': None}, id='run--089db491-391b-4c7c-aefc-408b2c921b9f-0', usage_metadata={'input_tokens': 111, 'output_tokens': 33, 'total_tokens': 144, 'input_token_details': {'audio': 0, 'cache_read': 0}, 'output_token_details': {'audio': 0, 'reasoning': 0}}), HumanMessage(content='juan gabriel', additional_kwargs={}, response_metadata={}, id='2bd7c724-6bd9-420e-bf48-944e3c42f320'), AIMessage(content='¡Mucho gusto, Juan Gabriel! ¿En qué puedo ayudarte hoy?', additional_kwargs={'refusal': None}, response_metadata={'token_usage': {'completion_tokens': 16, 'prompt_tokens': 154, 'total_tokens': 170, 'completion_tokens_details': {'accepted_prediction_tokens': 0, 'audio_tokens': 0, 'reasoning_tokens': 0, 'rejected_prediction_tokens': 0}, 'prompt_tokens_details': {'audio_tokens': 0, 'cached_tokens': 0}}, 'model_name': 'gpt-4o-mini-2024-07-18', 'system_fingerprint': 'fp_34a54ae93c', 'id': 'chatcmpl-BoYs59E7Opi3YAYFPikZxE0hmtcVE', 'service_tier': 'default', 'finish_reason': 'stop', 'logprobs': None}, id='run--5e28abaf-5948-413c-abf4-4a82858217fe-0', usage_metadata={'input_tokens': 154, 'output_tokens': 16, 'total_tokens': 170, 'input_token_details': {'audio': 0, 'cache_read': 0}, 'output_token_details': {'audio': 0, 'reasoning': 0}}), HumanMessage(content='hola', additional_kwargs={}, response_metadata={}, id='fed09b04-ba68-4bd6-a620-4084d7d7ec98'), AIMessage(content='¡Hola de nuevo, Juan Gabriel! ¿Cómo estás? ¿En qué puedo ayudarte hoy?', additional_kwargs={'refusal': None}, response_metadata={'token_usage': {'completion_tokens': 20, 'prompt_tokens': 178, 'total_tokens': 198, 'completion_tokens_details': {'accepted_prediction_tokens': 0, 'audio_tokens': 0, 'reasoning_tokens': 0, 'rejected_prediction_tokens': 0}, 'prompt_tokens_details': {'audio_tokens': 0, 'cached_tokens': 0}}, 'model_name': 'gpt-4o-mini-2024-07-18', 'system_fingerprint': 'fp_34a54ae93c', 'id': 'chatcmpl-BoYtAZqZP8CxGbzJM8OiK73NgSQsf', 'service_tier': 'default', 'finish_reason': 'stop', 'logprobs': None}, id='run--017a14a6-4e21-4ce5-9b1d-37201094f4f6-0', usage_metadata={'input_tokens': 178, 'output_tokens': 20, 'total_tokens': 198, 'input_token_details': {'audio': 0, 'cache_read': 0}, 'output_token_details': {'audio': 0, 'reasoning': 0}})]}, next=(), config={'configurable': {'thread_id': '1', 'checkpoint_ns': '', 'checkpoint_id': '1f0569f2-ea73-6710-800a-69e99480a64c'}}, metadata={'source': 'loop', 'writes': {'chatbot': {'messages': [AIMessage(content='¡Hola de nuevo, Juan Gabriel! ¿Cómo estás? ¿En qué puedo ayudarte hoy?', additional_kwargs={'refusal': None}, response_metadata={'token_usage': {'completion_tokens': 20, 'prompt_tokens': 178, 'total_tokens': 198, 'completion_tokens_details': {'accepted_prediction_tokens': 0, 'audio_tokens': 0, 'reasoning_tokens': 0, 'rejected_prediction_tokens': 0}, 'prompt_tokens_details': {'audio_tokens': 0, 'cached_tokens': 0}}, 'model_name': 'gpt-4o-mini-2024-07-18', 'system_fingerprint': 'fp_34a54ae93c', 'id': 'chatcmpl-BoYtAZqZP8CxGbzJM8OiK73NgSQsf', 'service_tier': 'default', 'finish_reason': 'stop', 'logprobs': None}, id='run--017a14a6-4e21-4ce5-9b1d-37201094f4f6-0', usage_metadata={'input_tokens': 178, 'output_tokens': 20, 'total_tokens': 198, 'input_token_details': {'audio': 0, 'cache_read': 0}, 'output_token_details': {'audio': 0, 'reasoning': 0}})]}}, 'step': 10, 'parents': {}, 'thread_id': '1'}, created_at='2025-07-01T17:16:53.098460+00:00', parent_config={'configurable': {'thread_id': '1', 'checkpoint_ns': '', 'checkpoint_id': '1f0569f2-dc9b-653e-8009-28f577751a7a'}}, tasks=(), interrupts=()),\n",
       " StateSnapshot(values={'messages': [HumanMessage(content='hola', additional_kwargs={}, response_metadata={}, id='07e7f4e6-b84e-4791-bd65-f29d11eb0cf5'), AIMessage(content='¡Hola! ¿Cómo puedo ayudarte hoy?', additional_kwargs={'refusal': None}, response_metadata={'token_usage': {'completion_tokens': 10, 'prompt_tokens': 89, 'total_tokens': 99, 'completion_tokens_details': {'accepted_prediction_tokens': 0, 'audio_tokens': 0, 'reasoning_tokens': 0, 'rejected_prediction_tokens': 0}, 'prompt_tokens_details': {'audio_tokens': 0, 'cached_tokens': 0}}, 'model_name': 'gpt-4o-mini-2024-07-18', 'system_fingerprint': 'fp_34a54ae93c', 'id': 'chatcmpl-BoYrf8cdGAHdWNUuwZPmdoGhHJS4o', 'service_tier': 'default', 'finish_reason': 'stop', 'logprobs': None}, id='run--98a2256a-b75b-43f4-b1ed-0cf490a54002-0', usage_metadata={'input_tokens': 89, 'output_tokens': 10, 'total_tokens': 99, 'input_token_details': {'audio': 0, 'cache_read': 0}, 'output_token_details': {'audio': 0, 'reasoning': 0}}), HumanMessage(content='sabes mi nombre?', additional_kwargs={}, response_metadata={}, id='2bfd76ef-ed28-4b9c-87cc-6e8a309a4fed'), AIMessage(content='No, no sé tu nombre. Pero si me lo dices, estaré encantado de dirigirme a ti por tu nombre. ¿Cómo te llamas?', additional_kwargs={'refusal': None}, response_metadata={'token_usage': {'completion_tokens': 33, 'prompt_tokens': 111, 'total_tokens': 144, 'completion_tokens_details': {'accepted_prediction_tokens': 0, 'audio_tokens': 0, 'reasoning_tokens': 0, 'rejected_prediction_tokens': 0}, 'prompt_tokens_details': {'audio_tokens': 0, 'cached_tokens': 0}}, 'model_name': 'gpt-4o-mini-2024-07-18', 'system_fingerprint': 'fp_34a54ae93c', 'id': 'chatcmpl-BoYrnQO3k40hbW1oyKykEtrSrUl5J', 'service_tier': 'default', 'finish_reason': 'stop', 'logprobs': None}, id='run--089db491-391b-4c7c-aefc-408b2c921b9f-0', usage_metadata={'input_tokens': 111, 'output_tokens': 33, 'total_tokens': 144, 'input_token_details': {'audio': 0, 'cache_read': 0}, 'output_token_details': {'audio': 0, 'reasoning': 0}}), HumanMessage(content='juan gabriel', additional_kwargs={}, response_metadata={}, id='2bd7c724-6bd9-420e-bf48-944e3c42f320'), AIMessage(content='¡Mucho gusto, Juan Gabriel! ¿En qué puedo ayudarte hoy?', additional_kwargs={'refusal': None}, response_metadata={'token_usage': {'completion_tokens': 16, 'prompt_tokens': 154, 'total_tokens': 170, 'completion_tokens_details': {'accepted_prediction_tokens': 0, 'audio_tokens': 0, 'reasoning_tokens': 0, 'rejected_prediction_tokens': 0}, 'prompt_tokens_details': {'audio_tokens': 0, 'cached_tokens': 0}}, 'model_name': 'gpt-4o-mini-2024-07-18', 'system_fingerprint': 'fp_34a54ae93c', 'id': 'chatcmpl-BoYs59E7Opi3YAYFPikZxE0hmtcVE', 'service_tier': 'default', 'finish_reason': 'stop', 'logprobs': None}, id='run--5e28abaf-5948-413c-abf4-4a82858217fe-0', usage_metadata={'input_tokens': 154, 'output_tokens': 16, 'total_tokens': 170, 'input_token_details': {'audio': 0, 'cache_read': 0}, 'output_token_details': {'audio': 0, 'reasoning': 0}}), HumanMessage(content='hola', additional_kwargs={}, response_metadata={}, id='fed09b04-ba68-4bd6-a620-4084d7d7ec98')]}, next=('chatbot',), config={'configurable': {'thread_id': '1', 'checkpoint_ns': '', 'checkpoint_id': '1f0569f2-dc9b-653e-8009-28f577751a7a'}}, metadata={'source': 'loop', 'writes': None, 'step': 9, 'parents': {}, 'thread_id': '1'}, created_at='2025-07-01T17:16:51.646795+00:00', parent_config={'configurable': {'thread_id': '1', 'checkpoint_ns': '', 'checkpoint_id': '1f0569f2-dc9a-6242-8008-4fdd550facc2'}}, tasks=(PregelTask(id='0ca92303-5673-6e8f-da2e-01d0771c64fe', name='chatbot', path=('__pregel_pull', 'chatbot'), error=None, interrupts=(), state=None, result={'messages': [AIMessage(content='¡Hola de nuevo, Juan Gabriel! ¿Cómo estás? ¿En qué puedo ayudarte hoy?', additional_kwargs={'refusal': None}, response_metadata={'token_usage': {'completion_tokens': 20, 'prompt_tokens': 178, 'total_tokens': 198, 'completion_tokens_details': {'accepted_prediction_tokens': 0, 'audio_tokens': 0, 'reasoning_tokens': 0, 'rejected_prediction_tokens': 0}, 'prompt_tokens_details': {'audio_tokens': 0, 'cached_tokens': 0}}, 'model_name': 'gpt-4o-mini-2024-07-18', 'system_fingerprint': 'fp_34a54ae93c', 'id': 'chatcmpl-BoYtAZqZP8CxGbzJM8OiK73NgSQsf', 'service_tier': 'default', 'finish_reason': 'stop', 'logprobs': None}, id='run--017a14a6-4e21-4ce5-9b1d-37201094f4f6-0', usage_metadata={'input_tokens': 178, 'output_tokens': 20, 'total_tokens': 198, 'input_token_details': {'audio': 0, 'cache_read': 0}, 'output_token_details': {'audio': 0, 'reasoning': 0}})]}),), interrupts=()),\n",
       " StateSnapshot(values={'messages': [HumanMessage(content='hola', additional_kwargs={}, response_metadata={}, id='07e7f4e6-b84e-4791-bd65-f29d11eb0cf5'), AIMessage(content='¡Hola! ¿Cómo puedo ayudarte hoy?', additional_kwargs={'refusal': None}, response_metadata={'token_usage': {'completion_tokens': 10, 'prompt_tokens': 89, 'total_tokens': 99, 'completion_tokens_details': {'accepted_prediction_tokens': 0, 'audio_tokens': 0, 'reasoning_tokens': 0, 'rejected_prediction_tokens': 0}, 'prompt_tokens_details': {'audio_tokens': 0, 'cached_tokens': 0}}, 'model_name': 'gpt-4o-mini-2024-07-18', 'system_fingerprint': 'fp_34a54ae93c', 'id': 'chatcmpl-BoYrf8cdGAHdWNUuwZPmdoGhHJS4o', 'service_tier': 'default', 'finish_reason': 'stop', 'logprobs': None}, id='run--98a2256a-b75b-43f4-b1ed-0cf490a54002-0', usage_metadata={'input_tokens': 89, 'output_tokens': 10, 'total_tokens': 99, 'input_token_details': {'audio': 0, 'cache_read': 0}, 'output_token_details': {'audio': 0, 'reasoning': 0}}), HumanMessage(content='sabes mi nombre?', additional_kwargs={}, response_metadata={}, id='2bfd76ef-ed28-4b9c-87cc-6e8a309a4fed'), AIMessage(content='No, no sé tu nombre. Pero si me lo dices, estaré encantado de dirigirme a ti por tu nombre. ¿Cómo te llamas?', additional_kwargs={'refusal': None}, response_metadata={'token_usage': {'completion_tokens': 33, 'prompt_tokens': 111, 'total_tokens': 144, 'completion_tokens_details': {'accepted_prediction_tokens': 0, 'audio_tokens': 0, 'reasoning_tokens': 0, 'rejected_prediction_tokens': 0}, 'prompt_tokens_details': {'audio_tokens': 0, 'cached_tokens': 0}}, 'model_name': 'gpt-4o-mini-2024-07-18', 'system_fingerprint': 'fp_34a54ae93c', 'id': 'chatcmpl-BoYrnQO3k40hbW1oyKykEtrSrUl5J', 'service_tier': 'default', 'finish_reason': 'stop', 'logprobs': None}, id='run--089db491-391b-4c7c-aefc-408b2c921b9f-0', usage_metadata={'input_tokens': 111, 'output_tokens': 33, 'total_tokens': 144, 'input_token_details': {'audio': 0, 'cache_read': 0}, 'output_token_details': {'audio': 0, 'reasoning': 0}}), HumanMessage(content='juan gabriel', additional_kwargs={}, response_metadata={}, id='2bd7c724-6bd9-420e-bf48-944e3c42f320'), AIMessage(content='¡Mucho gusto, Juan Gabriel! ¿En qué puedo ayudarte hoy?', additional_kwargs={'refusal': None}, response_metadata={'token_usage': {'completion_tokens': 16, 'prompt_tokens': 154, 'total_tokens': 170, 'completion_tokens_details': {'accepted_prediction_tokens': 0, 'audio_tokens': 0, 'reasoning_tokens': 0, 'rejected_prediction_tokens': 0}, 'prompt_tokens_details': {'audio_tokens': 0, 'cached_tokens': 0}}, 'model_name': 'gpt-4o-mini-2024-07-18', 'system_fingerprint': 'fp_34a54ae93c', 'id': 'chatcmpl-BoYs59E7Opi3YAYFPikZxE0hmtcVE', 'service_tier': 'default', 'finish_reason': 'stop', 'logprobs': None}, id='run--5e28abaf-5948-413c-abf4-4a82858217fe-0', usage_metadata={'input_tokens': 154, 'output_tokens': 16, 'total_tokens': 170, 'input_token_details': {'audio': 0, 'cache_read': 0}, 'output_token_details': {'audio': 0, 'reasoning': 0}})]}, next=('__start__',), config={'configurable': {'thread_id': '1', 'checkpoint_ns': '', 'checkpoint_id': '1f0569f2-dc9a-6242-8008-4fdd550facc2'}}, metadata={'source': 'input', 'writes': {'__start__': {'messages': [{'role': 'user', 'content': 'hola'}]}}, 'step': 8, 'parents': {}, 'thread_id': '1'}, created_at='2025-07-01T17:16:51.646308+00:00', parent_config={'configurable': {'thread_id': '1', 'checkpoint_ns': '', 'checkpoint_id': '1f0569f0-6c39-6cd4-8007-459e6dc67509'}}, tasks=(PregelTask(id='25f1cd01-0a5f-70be-058a-d6e99eb1789c', name='__start__', path=('__pregel_pull', '__start__'), error=None, interrupts=(), state=None, result={'messages': [{'role': 'user', 'content': 'hola'}]}),), interrupts=()),\n",
       " StateSnapshot(values={'messages': [HumanMessage(content='hola', additional_kwargs={}, response_metadata={}, id='07e7f4e6-b84e-4791-bd65-f29d11eb0cf5'), AIMessage(content='¡Hola! ¿Cómo puedo ayudarte hoy?', additional_kwargs={'refusal': None}, response_metadata={'token_usage': {'completion_tokens': 10, 'prompt_tokens': 89, 'total_tokens': 99, 'completion_tokens_details': {'accepted_prediction_tokens': 0, 'audio_tokens': 0, 'reasoning_tokens': 0, 'rejected_prediction_tokens': 0}, 'prompt_tokens_details': {'audio_tokens': 0, 'cached_tokens': 0}}, 'model_name': 'gpt-4o-mini-2024-07-18', 'system_fingerprint': 'fp_34a54ae93c', 'id': 'chatcmpl-BoYrf8cdGAHdWNUuwZPmdoGhHJS4o', 'service_tier': 'default', 'finish_reason': 'stop', 'logprobs': None}, id='run--98a2256a-b75b-43f4-b1ed-0cf490a54002-0', usage_metadata={'input_tokens': 89, 'output_tokens': 10, 'total_tokens': 99, 'input_token_details': {'audio': 0, 'cache_read': 0}, 'output_token_details': {'audio': 0, 'reasoning': 0}}), HumanMessage(content='sabes mi nombre?', additional_kwargs={}, response_metadata={}, id='2bfd76ef-ed28-4b9c-87cc-6e8a309a4fed'), AIMessage(content='No, no sé tu nombre. Pero si me lo dices, estaré encantado de dirigirme a ti por tu nombre. ¿Cómo te llamas?', additional_kwargs={'refusal': None}, response_metadata={'token_usage': {'completion_tokens': 33, 'prompt_tokens': 111, 'total_tokens': 144, 'completion_tokens_details': {'accepted_prediction_tokens': 0, 'audio_tokens': 0, 'reasoning_tokens': 0, 'rejected_prediction_tokens': 0}, 'prompt_tokens_details': {'audio_tokens': 0, 'cached_tokens': 0}}, 'model_name': 'gpt-4o-mini-2024-07-18', 'system_fingerprint': 'fp_34a54ae93c', 'id': 'chatcmpl-BoYrnQO3k40hbW1oyKykEtrSrUl5J', 'service_tier': 'default', 'finish_reason': 'stop', 'logprobs': None}, id='run--089db491-391b-4c7c-aefc-408b2c921b9f-0', usage_metadata={'input_tokens': 111, 'output_tokens': 33, 'total_tokens': 144, 'input_token_details': {'audio': 0, 'cache_read': 0}, 'output_token_details': {'audio': 0, 'reasoning': 0}}), HumanMessage(content='juan gabriel', additional_kwargs={}, response_metadata={}, id='2bd7c724-6bd9-420e-bf48-944e3c42f320'), AIMessage(content='¡Mucho gusto, Juan Gabriel! ¿En qué puedo ayudarte hoy?', additional_kwargs={'refusal': None}, response_metadata={'token_usage': {'completion_tokens': 16, 'prompt_tokens': 154, 'total_tokens': 170, 'completion_tokens_details': {'accepted_prediction_tokens': 0, 'audio_tokens': 0, 'reasoning_tokens': 0, 'rejected_prediction_tokens': 0}, 'prompt_tokens_details': {'audio_tokens': 0, 'cached_tokens': 0}}, 'model_name': 'gpt-4o-mini-2024-07-18', 'system_fingerprint': 'fp_34a54ae93c', 'id': 'chatcmpl-BoYs59E7Opi3YAYFPikZxE0hmtcVE', 'service_tier': 'default', 'finish_reason': 'stop', 'logprobs': None}, id='run--5e28abaf-5948-413c-abf4-4a82858217fe-0', usage_metadata={'input_tokens': 154, 'output_tokens': 16, 'total_tokens': 170, 'input_token_details': {'audio': 0, 'cache_read': 0}, 'output_token_details': {'audio': 0, 'reasoning': 0}})]}, next=(), config={'configurable': {'thread_id': '1', 'checkpoint_ns': '', 'checkpoint_id': '1f0569f0-6c39-6cd4-8007-459e6dc67509'}}, metadata={'source': 'loop', 'writes': {'chatbot': {'messages': [AIMessage(content='¡Mucho gusto, Juan Gabriel! ¿En qué puedo ayudarte hoy?', additional_kwargs={'refusal': None}, response_metadata={'token_usage': {'completion_tokens': 16, 'prompt_tokens': 154, 'total_tokens': 170, 'completion_tokens_details': {'accepted_prediction_tokens': 0, 'audio_tokens': 0, 'reasoning_tokens': 0, 'rejected_prediction_tokens': 0}, 'prompt_tokens_details': {'audio_tokens': 0, 'cached_tokens': 0}}, 'model_name': 'gpt-4o-mini-2024-07-18', 'system_fingerprint': 'fp_34a54ae93c', 'id': 'chatcmpl-BoYs59E7Opi3YAYFPikZxE0hmtcVE', 'service_tier': 'default', 'finish_reason': 'stop', 'logprobs': None}, id='run--5e28abaf-5948-413c-abf4-4a82858217fe-0', usage_metadata={'input_tokens': 154, 'output_tokens': 16, 'total_tokens': 170, 'input_token_details': {'audio': 0, 'cache_read': 0}, 'output_token_details': {'audio': 0, 'reasoning': 0}})]}}, 'step': 7, 'parents': {}, 'thread_id': '1'}, created_at='2025-07-01T17:15:46.175702+00:00', parent_config={'configurable': {'thread_id': '1', 'checkpoint_ns': '', 'checkpoint_id': '1f0569f0-63ba-6b8a-8006-e08a8473f782'}}, tasks=(), interrupts=()),\n",
       " StateSnapshot(values={'messages': [HumanMessage(content='hola', additional_kwargs={}, response_metadata={}, id='07e7f4e6-b84e-4791-bd65-f29d11eb0cf5'), AIMessage(content='¡Hola! ¿Cómo puedo ayudarte hoy?', additional_kwargs={'refusal': None}, response_metadata={'token_usage': {'completion_tokens': 10, 'prompt_tokens': 89, 'total_tokens': 99, 'completion_tokens_details': {'accepted_prediction_tokens': 0, 'audio_tokens': 0, 'reasoning_tokens': 0, 'rejected_prediction_tokens': 0}, 'prompt_tokens_details': {'audio_tokens': 0, 'cached_tokens': 0}}, 'model_name': 'gpt-4o-mini-2024-07-18', 'system_fingerprint': 'fp_34a54ae93c', 'id': 'chatcmpl-BoYrf8cdGAHdWNUuwZPmdoGhHJS4o', 'service_tier': 'default', 'finish_reason': 'stop', 'logprobs': None}, id='run--98a2256a-b75b-43f4-b1ed-0cf490a54002-0', usage_metadata={'input_tokens': 89, 'output_tokens': 10, 'total_tokens': 99, 'input_token_details': {'audio': 0, 'cache_read': 0}, 'output_token_details': {'audio': 0, 'reasoning': 0}}), HumanMessage(content='sabes mi nombre?', additional_kwargs={}, response_metadata={}, id='2bfd76ef-ed28-4b9c-87cc-6e8a309a4fed'), AIMessage(content='No, no sé tu nombre. Pero si me lo dices, estaré encantado de dirigirme a ti por tu nombre. ¿Cómo te llamas?', additional_kwargs={'refusal': None}, response_metadata={'token_usage': {'completion_tokens': 33, 'prompt_tokens': 111, 'total_tokens': 144, 'completion_tokens_details': {'accepted_prediction_tokens': 0, 'audio_tokens': 0, 'reasoning_tokens': 0, 'rejected_prediction_tokens': 0}, 'prompt_tokens_details': {'audio_tokens': 0, 'cached_tokens': 0}}, 'model_name': 'gpt-4o-mini-2024-07-18', 'system_fingerprint': 'fp_34a54ae93c', 'id': 'chatcmpl-BoYrnQO3k40hbW1oyKykEtrSrUl5J', 'service_tier': 'default', 'finish_reason': 'stop', 'logprobs': None}, id='run--089db491-391b-4c7c-aefc-408b2c921b9f-0', usage_metadata={'input_tokens': 111, 'output_tokens': 33, 'total_tokens': 144, 'input_token_details': {'audio': 0, 'cache_read': 0}, 'output_token_details': {'audio': 0, 'reasoning': 0}}), HumanMessage(content='juan gabriel', additional_kwargs={}, response_metadata={}, id='2bd7c724-6bd9-420e-bf48-944e3c42f320')]}, next=('chatbot',), config={'configurable': {'thread_id': '1', 'checkpoint_ns': '', 'checkpoint_id': '1f0569f0-63ba-6b8a-8006-e08a8473f782'}}, metadata={'source': 'loop', 'writes': None, 'step': 6, 'parents': {}, 'thread_id': '1'}, created_at='2025-07-01T17:15:45.284789+00:00', parent_config={'configurable': {'thread_id': '1', 'checkpoint_ns': '', 'checkpoint_id': '1f0569f0-63b9-6500-8005-f44b01f95680'}}, tasks=(PregelTask(id='9ff5e4d2-650d-9aec-e50b-411abaf5b158', name='chatbot', path=('__pregel_pull', 'chatbot'), error=None, interrupts=(), state=None, result={'messages': [AIMessage(content='¡Mucho gusto, Juan Gabriel! ¿En qué puedo ayudarte hoy?', additional_kwargs={'refusal': None}, response_metadata={'token_usage': {'completion_tokens': 16, 'prompt_tokens': 154, 'total_tokens': 170, 'completion_tokens_details': {'accepted_prediction_tokens': 0, 'audio_tokens': 0, 'reasoning_tokens': 0, 'rejected_prediction_tokens': 0}, 'prompt_tokens_details': {'audio_tokens': 0, 'cached_tokens': 0}}, 'model_name': 'gpt-4o-mini-2024-07-18', 'system_fingerprint': 'fp_34a54ae93c', 'id': 'chatcmpl-BoYs59E7Opi3YAYFPikZxE0hmtcVE', 'service_tier': 'default', 'finish_reason': 'stop', 'logprobs': None}, id='run--5e28abaf-5948-413c-abf4-4a82858217fe-0', usage_metadata={'input_tokens': 154, 'output_tokens': 16, 'total_tokens': 170, 'input_token_details': {'audio': 0, 'cache_read': 0}, 'output_token_details': {'audio': 0, 'reasoning': 0}})]}),), interrupts=()),\n",
       " StateSnapshot(values={'messages': [HumanMessage(content='hola', additional_kwargs={}, response_metadata={}, id='07e7f4e6-b84e-4791-bd65-f29d11eb0cf5'), AIMessage(content='¡Hola! ¿Cómo puedo ayudarte hoy?', additional_kwargs={'refusal': None}, response_metadata={'token_usage': {'completion_tokens': 10, 'prompt_tokens': 89, 'total_tokens': 99, 'completion_tokens_details': {'accepted_prediction_tokens': 0, 'audio_tokens': 0, 'reasoning_tokens': 0, 'rejected_prediction_tokens': 0}, 'prompt_tokens_details': {'audio_tokens': 0, 'cached_tokens': 0}}, 'model_name': 'gpt-4o-mini-2024-07-18', 'system_fingerprint': 'fp_34a54ae93c', 'id': 'chatcmpl-BoYrf8cdGAHdWNUuwZPmdoGhHJS4o', 'service_tier': 'default', 'finish_reason': 'stop', 'logprobs': None}, id='run--98a2256a-b75b-43f4-b1ed-0cf490a54002-0', usage_metadata={'input_tokens': 89, 'output_tokens': 10, 'total_tokens': 99, 'input_token_details': {'audio': 0, 'cache_read': 0}, 'output_token_details': {'audio': 0, 'reasoning': 0}}), HumanMessage(content='sabes mi nombre?', additional_kwargs={}, response_metadata={}, id='2bfd76ef-ed28-4b9c-87cc-6e8a309a4fed'), AIMessage(content='No, no sé tu nombre. Pero si me lo dices, estaré encantado de dirigirme a ti por tu nombre. ¿Cómo te llamas?', additional_kwargs={'refusal': None}, response_metadata={'token_usage': {'completion_tokens': 33, 'prompt_tokens': 111, 'total_tokens': 144, 'completion_tokens_details': {'accepted_prediction_tokens': 0, 'audio_tokens': 0, 'reasoning_tokens': 0, 'rejected_prediction_tokens': 0}, 'prompt_tokens_details': {'audio_tokens': 0, 'cached_tokens': 0}}, 'model_name': 'gpt-4o-mini-2024-07-18', 'system_fingerprint': 'fp_34a54ae93c', 'id': 'chatcmpl-BoYrnQO3k40hbW1oyKykEtrSrUl5J', 'service_tier': 'default', 'finish_reason': 'stop', 'logprobs': None}, id='run--089db491-391b-4c7c-aefc-408b2c921b9f-0', usage_metadata={'input_tokens': 111, 'output_tokens': 33, 'total_tokens': 144, 'input_token_details': {'audio': 0, 'cache_read': 0}, 'output_token_details': {'audio': 0, 'reasoning': 0}})]}, next=('__start__',), config={'configurable': {'thread_id': '1', 'checkpoint_ns': '', 'checkpoint_id': '1f0569f0-63b9-6500-8005-f44b01f95680'}}, metadata={'source': 'input', 'writes': {'__start__': {'messages': [{'role': 'user', 'content': 'juan gabriel'}]}}, 'step': 5, 'parents': {}, 'thread_id': '1'}, created_at='2025-07-01T17:15:45.284213+00:00', parent_config={'configurable': {'thread_id': '1', 'checkpoint_ns': '', 'checkpoint_id': '1f0569ef-c0b5-6548-8004-7b5a64674ea1'}}, tasks=(PregelTask(id='68b9aeda-3cc2-3818-7d4e-806dbb451264', name='__start__', path=('__pregel_pull', '__start__'), error=None, interrupts=(), state=None, result={'messages': [{'role': 'user', 'content': 'juan gabriel'}]}),), interrupts=()),\n",
       " StateSnapshot(values={'messages': [HumanMessage(content='hola', additional_kwargs={}, response_metadata={}, id='07e7f4e6-b84e-4791-bd65-f29d11eb0cf5'), AIMessage(content='¡Hola! ¿Cómo puedo ayudarte hoy?', additional_kwargs={'refusal': None}, response_metadata={'token_usage': {'completion_tokens': 10, 'prompt_tokens': 89, 'total_tokens': 99, 'completion_tokens_details': {'accepted_prediction_tokens': 0, 'audio_tokens': 0, 'reasoning_tokens': 0, 'rejected_prediction_tokens': 0}, 'prompt_tokens_details': {'audio_tokens': 0, 'cached_tokens': 0}}, 'model_name': 'gpt-4o-mini-2024-07-18', 'system_fingerprint': 'fp_34a54ae93c', 'id': 'chatcmpl-BoYrf8cdGAHdWNUuwZPmdoGhHJS4o', 'service_tier': 'default', 'finish_reason': 'stop', 'logprobs': None}, id='run--98a2256a-b75b-43f4-b1ed-0cf490a54002-0', usage_metadata={'input_tokens': 89, 'output_tokens': 10, 'total_tokens': 99, 'input_token_details': {'audio': 0, 'cache_read': 0}, 'output_token_details': {'audio': 0, 'reasoning': 0}}), HumanMessage(content='sabes mi nombre?', additional_kwargs={}, response_metadata={}, id='2bfd76ef-ed28-4b9c-87cc-6e8a309a4fed'), AIMessage(content='No, no sé tu nombre. Pero si me lo dices, estaré encantado de dirigirme a ti por tu nombre. ¿Cómo te llamas?', additional_kwargs={'refusal': None}, response_metadata={'token_usage': {'completion_tokens': 33, 'prompt_tokens': 111, 'total_tokens': 144, 'completion_tokens_details': {'accepted_prediction_tokens': 0, 'audio_tokens': 0, 'reasoning_tokens': 0, 'rejected_prediction_tokens': 0}, 'prompt_tokens_details': {'audio_tokens': 0, 'cached_tokens': 0}}, 'model_name': 'gpt-4o-mini-2024-07-18', 'system_fingerprint': 'fp_34a54ae93c', 'id': 'chatcmpl-BoYrnQO3k40hbW1oyKykEtrSrUl5J', 'service_tier': 'default', 'finish_reason': 'stop', 'logprobs': None}, id='run--089db491-391b-4c7c-aefc-408b2c921b9f-0', usage_metadata={'input_tokens': 111, 'output_tokens': 33, 'total_tokens': 144, 'input_token_details': {'audio': 0, 'cache_read': 0}, 'output_token_details': {'audio': 0, 'reasoning': 0}})]}, next=(), config={'configurable': {'thread_id': '1', 'checkpoint_ns': '', 'checkpoint_id': '1f0569ef-c0b5-6548-8004-7b5a64674ea1'}}, metadata={'source': 'loop', 'writes': {'chatbot': {'messages': [AIMessage(content='No, no sé tu nombre. Pero si me lo dices, estaré encantado de dirigirme a ti por tu nombre. ¿Cómo te llamas?', additional_kwargs={'refusal': None}, response_metadata={'token_usage': {'completion_tokens': 33, 'prompt_tokens': 111, 'total_tokens': 144, 'completion_tokens_details': {'accepted_prediction_tokens': 0, 'audio_tokens': 0, 'reasoning_tokens': 0, 'rejected_prediction_tokens': 0}, 'prompt_tokens_details': {'audio_tokens': 0, 'cached_tokens': 0}}, 'model_name': 'gpt-4o-mini-2024-07-18', 'system_fingerprint': 'fp_34a54ae93c', 'id': 'chatcmpl-BoYrnQO3k40hbW1oyKykEtrSrUl5J', 'service_tier': 'default', 'finish_reason': 'stop', 'logprobs': None}, id='run--089db491-391b-4c7c-aefc-408b2c921b9f-0', usage_metadata={'input_tokens': 111, 'output_tokens': 33, 'total_tokens': 144, 'input_token_details': {'audio': 0, 'cache_read': 0}, 'output_token_details': {'audio': 0, 'reasoning': 0}})]}}, 'step': 4, 'parents': {}, 'thread_id': '1'}, created_at='2025-07-01T17:15:28.190788+00:00', parent_config={'configurable': {'thread_id': '1', 'checkpoint_ns': '', 'checkpoint_id': '1f0569ef-b29b-602a-8003-cbce47f14e6c'}}, tasks=(), interrupts=()),\n",
       " StateSnapshot(values={'messages': [HumanMessage(content='hola', additional_kwargs={}, response_metadata={}, id='07e7f4e6-b84e-4791-bd65-f29d11eb0cf5'), AIMessage(content='¡Hola! ¿Cómo puedo ayudarte hoy?', additional_kwargs={'refusal': None}, response_metadata={'token_usage': {'completion_tokens': 10, 'prompt_tokens': 89, 'total_tokens': 99, 'completion_tokens_details': {'accepted_prediction_tokens': 0, 'audio_tokens': 0, 'reasoning_tokens': 0, 'rejected_prediction_tokens': 0}, 'prompt_tokens_details': {'audio_tokens': 0, 'cached_tokens': 0}}, 'model_name': 'gpt-4o-mini-2024-07-18', 'system_fingerprint': 'fp_34a54ae93c', 'id': 'chatcmpl-BoYrf8cdGAHdWNUuwZPmdoGhHJS4o', 'service_tier': 'default', 'finish_reason': 'stop', 'logprobs': None}, id='run--98a2256a-b75b-43f4-b1ed-0cf490a54002-0', usage_metadata={'input_tokens': 89, 'output_tokens': 10, 'total_tokens': 99, 'input_token_details': {'audio': 0, 'cache_read': 0}, 'output_token_details': {'audio': 0, 'reasoning': 0}}), HumanMessage(content='sabes mi nombre?', additional_kwargs={}, response_metadata={}, id='2bfd76ef-ed28-4b9c-87cc-6e8a309a4fed')]}, next=('chatbot',), config={'configurable': {'thread_id': '1', 'checkpoint_ns': '', 'checkpoint_id': '1f0569ef-b29b-602a-8003-cbce47f14e6c'}}, metadata={'source': 'loop', 'writes': None, 'step': 3, 'parents': {}, 'thread_id': '1'}, created_at='2025-07-01T17:15:26.712012+00:00', parent_config={'configurable': {'thread_id': '1', 'checkpoint_ns': '', 'checkpoint_id': '1f0569ef-b29a-6300-8002-6059b1fbe6d9'}}, tasks=(PregelTask(id='17439e06-97c8-1367-a4b5-28a15877a87f', name='chatbot', path=('__pregel_pull', 'chatbot'), error=None, interrupts=(), state=None, result={'messages': [AIMessage(content='No, no sé tu nombre. Pero si me lo dices, estaré encantado de dirigirme a ti por tu nombre. ¿Cómo te llamas?', additional_kwargs={'refusal': None}, response_metadata={'token_usage': {'completion_tokens': 33, 'prompt_tokens': 111, 'total_tokens': 144, 'completion_tokens_details': {'accepted_prediction_tokens': 0, 'audio_tokens': 0, 'reasoning_tokens': 0, 'rejected_prediction_tokens': 0}, 'prompt_tokens_details': {'audio_tokens': 0, 'cached_tokens': 0}}, 'model_name': 'gpt-4o-mini-2024-07-18', 'system_fingerprint': 'fp_34a54ae93c', 'id': 'chatcmpl-BoYrnQO3k40hbW1oyKykEtrSrUl5J', 'service_tier': 'default', 'finish_reason': 'stop', 'logprobs': None}, id='run--089db491-391b-4c7c-aefc-408b2c921b9f-0', usage_metadata={'input_tokens': 111, 'output_tokens': 33, 'total_tokens': 144, 'input_token_details': {'audio': 0, 'cache_read': 0}, 'output_token_details': {'audio': 0, 'reasoning': 0}})]}),), interrupts=()),\n",
       " StateSnapshot(values={'messages': [HumanMessage(content='hola', additional_kwargs={}, response_metadata={}, id='07e7f4e6-b84e-4791-bd65-f29d11eb0cf5'), AIMessage(content='¡Hola! ¿Cómo puedo ayudarte hoy?', additional_kwargs={'refusal': None}, response_metadata={'token_usage': {'completion_tokens': 10, 'prompt_tokens': 89, 'total_tokens': 99, 'completion_tokens_details': {'accepted_prediction_tokens': 0, 'audio_tokens': 0, 'reasoning_tokens': 0, 'rejected_prediction_tokens': 0}, 'prompt_tokens_details': {'audio_tokens': 0, 'cached_tokens': 0}}, 'model_name': 'gpt-4o-mini-2024-07-18', 'system_fingerprint': 'fp_34a54ae93c', 'id': 'chatcmpl-BoYrf8cdGAHdWNUuwZPmdoGhHJS4o', 'service_tier': 'default', 'finish_reason': 'stop', 'logprobs': None}, id='run--98a2256a-b75b-43f4-b1ed-0cf490a54002-0', usage_metadata={'input_tokens': 89, 'output_tokens': 10, 'total_tokens': 99, 'input_token_details': {'audio': 0, 'cache_read': 0}, 'output_token_details': {'audio': 0, 'reasoning': 0}})]}, next=('__start__',), config={'configurable': {'thread_id': '1', 'checkpoint_ns': '', 'checkpoint_id': '1f0569ef-b29a-6300-8002-6059b1fbe6d9'}}, metadata={'source': 'input', 'writes': {'__start__': {'messages': [{'role': 'user', 'content': 'sabes mi nombre?'}]}}, 'step': 2, 'parents': {}, 'thread_id': '1'}, created_at='2025-07-01T17:15:26.711671+00:00', parent_config={'configurable': {'thread_id': '1', 'checkpoint_ns': '', 'checkpoint_id': '1f0569ef-758a-67d0-8001-be5df3205a40'}}, tasks=(PregelTask(id='d313b03a-ac97-e93a-2882-dad48a3416bc', name='__start__', path=('__pregel_pull', '__start__'), error=None, interrupts=(), state=None, result={'messages': [{'role': 'user', 'content': 'sabes mi nombre?'}]}),), interrupts=()),\n",
       " StateSnapshot(values={'messages': [HumanMessage(content='hola', additional_kwargs={}, response_metadata={}, id='07e7f4e6-b84e-4791-bd65-f29d11eb0cf5'), AIMessage(content='¡Hola! ¿Cómo puedo ayudarte hoy?', additional_kwargs={'refusal': None}, response_metadata={'token_usage': {'completion_tokens': 10, 'prompt_tokens': 89, 'total_tokens': 99, 'completion_tokens_details': {'accepted_prediction_tokens': 0, 'audio_tokens': 0, 'reasoning_tokens': 0, 'rejected_prediction_tokens': 0}, 'prompt_tokens_details': {'audio_tokens': 0, 'cached_tokens': 0}}, 'model_name': 'gpt-4o-mini-2024-07-18', 'system_fingerprint': 'fp_34a54ae93c', 'id': 'chatcmpl-BoYrf8cdGAHdWNUuwZPmdoGhHJS4o', 'service_tier': 'default', 'finish_reason': 'stop', 'logprobs': None}, id='run--98a2256a-b75b-43f4-b1ed-0cf490a54002-0', usage_metadata={'input_tokens': 89, 'output_tokens': 10, 'total_tokens': 99, 'input_token_details': {'audio': 0, 'cache_read': 0}, 'output_token_details': {'audio': 0, 'reasoning': 0}})]}, next=(), config={'configurable': {'thread_id': '1', 'checkpoint_ns': '', 'checkpoint_id': '1f0569ef-758a-67d0-8001-be5df3205a40'}}, metadata={'source': 'loop', 'writes': {'chatbot': {'messages': [AIMessage(content='¡Hola! ¿Cómo puedo ayudarte hoy?', additional_kwargs={'refusal': None}, response_metadata={'token_usage': {'completion_tokens': 10, 'prompt_tokens': 89, 'total_tokens': 99, 'completion_tokens_details': {'accepted_prediction_tokens': 0, 'audio_tokens': 0, 'reasoning_tokens': 0, 'rejected_prediction_tokens': 0}, 'prompt_tokens_details': {'audio_tokens': 0, 'cached_tokens': 0}}, 'model_name': 'gpt-4o-mini-2024-07-18', 'system_fingerprint': 'fp_34a54ae93c', 'id': 'chatcmpl-BoYrf8cdGAHdWNUuwZPmdoGhHJS4o', 'service_tier': 'default', 'finish_reason': 'stop', 'logprobs': None}, id='run--98a2256a-b75b-43f4-b1ed-0cf490a54002-0', usage_metadata={'input_tokens': 89, 'output_tokens': 10, 'total_tokens': 99, 'input_token_details': {'audio': 0, 'cache_read': 0}, 'output_token_details': {'audio': 0, 'reasoning': 0}})]}}, 'step': 1, 'parents': {}, 'thread_id': '1'}, created_at='2025-07-01T17:15:20.308931+00:00', parent_config={'configurable': {'thread_id': '1', 'checkpoint_ns': '', 'checkpoint_id': '1f0569ef-659a-6370-8000-dc597d544d5b'}}, tasks=(), interrupts=()),\n",
       " StateSnapshot(values={'messages': [HumanMessage(content='hola', additional_kwargs={}, response_metadata={}, id='07e7f4e6-b84e-4791-bd65-f29d11eb0cf5')]}, next=('chatbot',), config={'configurable': {'thread_id': '1', 'checkpoint_ns': '', 'checkpoint_id': '1f0569ef-659a-6370-8000-dc597d544d5b'}}, metadata={'source': 'loop', 'writes': None, 'step': 0, 'parents': {}, 'thread_id': '1'}, created_at='2025-07-01T17:15:18.637648+00:00', parent_config={'configurable': {'thread_id': '1', 'checkpoint_ns': '', 'checkpoint_id': '1f0569ef-6599-60a6-bfff-aabd4f4375b9'}}, tasks=(PregelTask(id='9219d505-35c7-b906-a4dd-06494cc3b0e2', name='chatbot', path=('__pregel_pull', 'chatbot'), error=None, interrupts=(), state=None, result={'messages': [AIMessage(content='¡Hola! ¿Cómo puedo ayudarte hoy?', additional_kwargs={'refusal': None}, response_metadata={'token_usage': {'completion_tokens': 10, 'prompt_tokens': 89, 'total_tokens': 99, 'completion_tokens_details': {'accepted_prediction_tokens': 0, 'audio_tokens': 0, 'reasoning_tokens': 0, 'rejected_prediction_tokens': 0}, 'prompt_tokens_details': {'audio_tokens': 0, 'cached_tokens': 0}}, 'model_name': 'gpt-4o-mini-2024-07-18', 'system_fingerprint': 'fp_34a54ae93c', 'id': 'chatcmpl-BoYrf8cdGAHdWNUuwZPmdoGhHJS4o', 'service_tier': 'default', 'finish_reason': 'stop', 'logprobs': None}, id='run--98a2256a-b75b-43f4-b1ed-0cf490a54002-0', usage_metadata={'input_tokens': 89, 'output_tokens': 10, 'total_tokens': 99, 'input_token_details': {'audio': 0, 'cache_read': 0}, 'output_token_details': {'audio': 0, 'reasoning': 0}})]}),), interrupts=()),\n",
       " StateSnapshot(values={'messages': []}, next=('__start__',), config={'configurable': {'thread_id': '1', 'checkpoint_ns': '', 'checkpoint_id': '1f0569ef-6599-60a6-bfff-aabd4f4375b9'}}, metadata={'source': 'input', 'writes': {'__start__': {'messages': [{'role': 'user', 'content': 'hola'}]}}, 'step': -1, 'parents': {}, 'thread_id': '1'}, created_at='2025-07-01T17:15:18.637170+00:00', parent_config=None, tasks=(PregelTask(id='fe5fe30d-fb9d-d866-5f27-c539691199f8', name='__start__', path=('__pregel_pull', '__start__'), error=None, interrupts=(), state=None, result={'messages': [{'role': 'user', 'content': 'hola'}]}),), interrupts=())]"
      ]
     },
     "execution_count": 28,
     "metadata": {},
     "output_type": "execute_result"
    }
   ],
   "source": [
    "# Most recent first\n",
    "\n",
    "list(graph.get_state_history(config))"
   ]
  },
  {
   "cell_type": "markdown",
   "metadata": {},
   "source": [
    "### LangGraph te ofrece herramientas para restablecer el estado a un punto anterior y ramificarlo:\n",
    "\n",
    "```\n",
    "config = {\"configurable\": {\"thread_id\": \"1\", \"checkpoint_id\": ...}}\n",
    "graph.invoke(None, config=config)\n",
    "```\n",
    "\n",
    "Esto te permite crear sistemas estables que se pueden recuperar y volver a ejecutar desde cualquier punto de control anterior."
   ]
  },
  {
   "cell_type": "markdown",
   "metadata": {},
   "source": [
    "### Y ahora almacenemos en SQL\n",
    "\n",
    "### Y este es el poder de LangGraph.\n"
   ]
  },
  {
   "cell_type": "code",
   "execution_count": 12,
   "metadata": {},
   "outputs": [],
   "source": [
    "import sqlite3\n",
    "from langgraph.checkpoint.sqlite import SqliteSaver\n",
    "\n",
    "db_path = \"memory.db\"\n",
    "conn = sqlite3.connect(db_path, check_same_thread=False)\n",
    "sql_memory = SqliteSaver(conn)"
   ]
  },
  {
   "cell_type": "code",
   "execution_count": 13,
   "metadata": {},
   "outputs": [
    {
     "data": {
      "image/png": "[encoded data removed]",
      "text/plain": [
       "<IPython.core.display.Image object>"
      ]
     },
     "metadata": {},
     "output_type": "display_data"
    }
   ],
   "source": [
    "# Pasos 1 y 2\n",
    "graph_builder = StateGraph(State)\n",
    "\n",
    "\n",
    "# Paso 3\n",
    "llm = ChatOpenAI(model=\"gpt-4o-mini\")\n",
    "llm_with_tools = llm.bind_tools(tools)\n",
    "\n",
    "def chatbot(state: State):\n",
    "    print(state)\n",
    "    return {\"messages\": [llm_with_tools.invoke(state[\"messages\"])]}\n",
    "\n",
    "graph_builder.add_node(\"chatbot\", chatbot)\n",
    "graph_builder.add_node(\"tools\", ToolNode(tools=tools))\n",
    "\n",
    "# Paso 4\n",
    "graph_builder.add_conditional_edges( \"chatbot\", tools_condition, \"tools\")\n",
    "graph_builder.add_edge(\"tools\", \"chatbot\")\n",
    "graph_builder.add_edge(START, \"chatbot\")\n",
    "\n",
    "# Paso 5\n",
    "graph = graph_builder.compile(checkpointer=sql_memory)\n",
    "display(Image(graph.get_graph().draw_mermaid_png()))\n",
    " "
   ]
  },
  {
   "cell_type": "code",
   "execution_count": 14,
   "metadata": {},
   "outputs": [
    {
     "name": "stdout",
     "output_type": "stream",
     "text": [
      "* Running on local URL:  http://127.0.0.1:7862\n",
      "* To create a public link, set `share=True` in `launch()`.\n"
     ]
    },
    {
     "data": {
      "text/html": [
       "<div><iframe src=\"http://127.0.0.1:7862/\" width=\"100%\" height=\"500\" allow=\"autoplay; camera; microphone; clipboard-read; clipboard-write;\" frameborder=\"0\" allowfullscreen></iframe></div>"
      ],
      "text/plain": [
       "<IPython.core.display.HTML object>"
      ]
     },
     "metadata": {},
     "output_type": "display_data"
    },
    {
     "data": {
      "text/plain": []
     },
     "execution_count": 14,
     "metadata": {},
     "output_type": "execute_result"
    },
    {
     "name": "stdout",
     "output_type": "stream",
     "text": [
      "{'messages': [HumanMessage(content='hola', additional_kwargs={}, response_metadata={}, id='57fd15a9-8c82-42bf-820e-136492855f42'), AIMessage(content='¡Hola! ¿Cómo puedo ayudarte hoy?', additional_kwargs={'refusal': None}, response_metadata={'token_usage': {'completion_tokens': 10, 'prompt_tokens': 89, 'total_tokens': 99, 'completion_tokens_details': {'accepted_prediction_tokens': 0, 'audio_tokens': 0, 'reasoning_tokens': 0, 'rejected_prediction_tokens': 0}, 'prompt_tokens_details': {'audio_tokens': 0, 'cached_tokens': 0}}, 'model_name': 'gpt-4o-mini-2024-07-18', 'system_fingerprint': 'fp_34a54ae93c', 'id': 'chatcmpl-BoZ11xH1r7FcEwOY2r8Nmwe7I3OuH', 'service_tier': 'default', 'finish_reason': 'stop', 'logprobs': None}, id='run--9eda60d5-bcc2-48ca-a6c4-bebe0ebda90c-0', usage_metadata={'input_tokens': 89, 'output_tokens': 10, 'total_tokens': 99, 'input_token_details': {'audio': 0, 'cache_read': 0}, 'output_token_details': {'audio': 0, 'reasoning': 0}}), HumanMessage(content='cómo me llamo?', additional_kwargs={}, response_metadata={}, id='728d45e8-9800-4ffa-a2bc-0651a28098e7'), AIMessage(content='No tengo acceso a información personal sobre ti a menos que me la compartas. Si deseas, puedes decirme tu nombre o cualquier otra cosa en la que necesites ayuda.', additional_kwargs={'refusal': None}, response_metadata={'token_usage': {'completion_tokens': 36, 'prompt_tokens': 111, 'total_tokens': 147, 'completion_tokens_details': {'accepted_prediction_tokens': 0, 'audio_tokens': 0, 'reasoning_tokens': 0, 'rejected_prediction_tokens': 0}, 'prompt_tokens_details': {'audio_tokens': 0, 'cached_tokens': 0}}, 'model_name': 'gpt-4o-mini-2024-07-18', 'system_fingerprint': 'fp_34a54ae93c', 'id': 'chatcmpl-BoZ16SbdMmhPW6LfuHjX4zfMtxRxN', 'service_tier': 'default', 'finish_reason': 'stop', 'logprobs': None}, id='run--99c81f5b-f52b-41cd-b150-46ed30d14921-0', usage_metadata={'input_tokens': 111, 'output_tokens': 36, 'total_tokens': 147, 'input_token_details': {'audio': 0, 'cache_read': 0}, 'output_token_details': {'audio': 0, 'reasoning': 0}}), HumanMessage(content='mi nombre es juan gabriel', additional_kwargs={}, response_metadata={}, id='4993a3ab-5bc9-4cfd-8fe7-d0c51105299b'), AIMessage(content='¡Encantado de conocerte, Juan Gabriel! ¿En qué puedo ayudarte hoy?', additional_kwargs={'refusal': None}, response_metadata={'token_usage': {'completion_tokens': 19, 'prompt_tokens': 161, 'total_tokens': 180, 'completion_tokens_details': {'accepted_prediction_tokens': 0, 'audio_tokens': 0, 'reasoning_tokens': 0, 'rejected_prediction_tokens': 0}, 'prompt_tokens_details': {'audio_tokens': 0, 'cached_tokens': 0}}, 'model_name': 'gpt-4o-mini-2024-07-18', 'system_fingerprint': 'fp_34a54ae93c', 'id': 'chatcmpl-BoZ1KUY89KmVchwZI80LSj8lNohwn', 'service_tier': 'default', 'finish_reason': 'stop', 'logprobs': None}, id='run--6e49431d-183a-4c30-a193-c0de47add37e-0', usage_metadata={'input_tokens': 161, 'output_tokens': 19, 'total_tokens': 180, 'input_token_details': {'audio': 0, 'cache_read': 0}, 'output_token_details': {'audio': 0, 'reasoning': 0}}), HumanMessage(content='hola', additional_kwargs={}, response_metadata={}, id='951e657b-b515-4861-9d91-65eabafe8352')]}\n",
      "{'messages': [HumanMessage(content='hola', additional_kwargs={}, response_metadata={}, id='57fd15a9-8c82-42bf-820e-136492855f42'), AIMessage(content='¡Hola! ¿Cómo puedo ayudarte hoy?', additional_kwargs={'refusal': None}, response_metadata={'token_usage': {'completion_tokens': 10, 'prompt_tokens': 89, 'total_tokens': 99, 'completion_tokens_details': {'accepted_prediction_tokens': 0, 'audio_tokens': 0, 'reasoning_tokens': 0, 'rejected_prediction_tokens': 0}, 'prompt_tokens_details': {'audio_tokens': 0, 'cached_tokens': 0}}, 'model_name': 'gpt-4o-mini-2024-07-18', 'system_fingerprint': 'fp_34a54ae93c', 'id': 'chatcmpl-BoZ11xH1r7FcEwOY2r8Nmwe7I3OuH', 'service_tier': 'default', 'finish_reason': 'stop', 'logprobs': None}, id='run--9eda60d5-bcc2-48ca-a6c4-bebe0ebda90c-0', usage_metadata={'input_tokens': 89, 'output_tokens': 10, 'total_tokens': 99, 'input_token_details': {'audio': 0, 'cache_read': 0}, 'output_token_details': {'audio': 0, 'reasoning': 0}}), HumanMessage(content='cómo me llamo?', additional_kwargs={}, response_metadata={}, id='728d45e8-9800-4ffa-a2bc-0651a28098e7'), AIMessage(content='No tengo acceso a información personal sobre ti a menos que me la compartas. Si deseas, puedes decirme tu nombre o cualquier otra cosa en la que necesites ayuda.', additional_kwargs={'refusal': None}, response_metadata={'token_usage': {'completion_tokens': 36, 'prompt_tokens': 111, 'total_tokens': 147, 'completion_tokens_details': {'accepted_prediction_tokens': 0, 'audio_tokens': 0, 'reasoning_tokens': 0, 'rejected_prediction_tokens': 0}, 'prompt_tokens_details': {'audio_tokens': 0, 'cached_tokens': 0}}, 'model_name': 'gpt-4o-mini-2024-07-18', 'system_fingerprint': 'fp_34a54ae93c', 'id': 'chatcmpl-BoZ16SbdMmhPW6LfuHjX4zfMtxRxN', 'service_tier': 'default', 'finish_reason': 'stop', 'logprobs': None}, id='run--99c81f5b-f52b-41cd-b150-46ed30d14921-0', usage_metadata={'input_tokens': 111, 'output_tokens': 36, 'total_tokens': 147, 'input_token_details': {'audio': 0, 'cache_read': 0}, 'output_token_details': {'audio': 0, 'reasoning': 0}}), HumanMessage(content='mi nombre es juan gabriel', additional_kwargs={}, response_metadata={}, id='4993a3ab-5bc9-4cfd-8fe7-d0c51105299b'), AIMessage(content='¡Encantado de conocerte, Juan Gabriel! ¿En qué puedo ayudarte hoy?', additional_kwargs={'refusal': None}, response_metadata={'token_usage': {'completion_tokens': 19, 'prompt_tokens': 161, 'total_tokens': 180, 'completion_tokens_details': {'accepted_prediction_tokens': 0, 'audio_tokens': 0, 'reasoning_tokens': 0, 'rejected_prediction_tokens': 0}, 'prompt_tokens_details': {'audio_tokens': 0, 'cached_tokens': 0}}, 'model_name': 'gpt-4o-mini-2024-07-18', 'system_fingerprint': 'fp_34a54ae93c', 'id': 'chatcmpl-BoZ1KUY89KmVchwZI80LSj8lNohwn', 'service_tier': 'default', 'finish_reason': 'stop', 'logprobs': None}, id='run--6e49431d-183a-4c30-a193-c0de47add37e-0', usage_metadata={'input_tokens': 161, 'output_tokens': 19, 'total_tokens': 180, 'input_token_details': {'audio': 0, 'cache_read': 0}, 'output_token_details': {'audio': 0, 'reasoning': 0}}), HumanMessage(content='hola', additional_kwargs={}, response_metadata={}, id='951e657b-b515-4861-9d91-65eabafe8352'), AIMessage(content='¡Hola de nuevo, Juan Gabriel! ¿Cómo estás? ¿Hay algo en particular de lo que te gustaría hablar o preguntar?', additional_kwargs={'refusal': None}, response_metadata={'token_usage': {'completion_tokens': 27, 'prompt_tokens': 188, 'total_tokens': 215, 'completion_tokens_details': {'accepted_prediction_tokens': 0, 'audio_tokens': 0, 'reasoning_tokens': 0, 'rejected_prediction_tokens': 0}, 'prompt_tokens_details': {'audio_tokens': 0, 'cached_tokens': 0}}, 'model_name': 'gpt-4o-mini-2024-07-18', 'system_fingerprint': 'fp_34a54ae93c', 'id': 'chatcmpl-BoZ3JYua55Ts3BEJOsjVFjUb1iFTv', 'service_tier': 'default', 'finish_reason': 'stop', 'logprobs': None}, id='run--4d1119b8-ae44-4ab3-8ae9-0691f07a9d56-0', usage_metadata={'input_tokens': 188, 'output_tokens': 27, 'total_tokens': 215, 'input_token_details': {'audio': 0, 'cache_read': 0}, 'output_token_details': {'audio': 0, 'reasoning': 0}}), HumanMessage(content='Por favor, envíame una notificación push con la tasa de cambio actual USD/EUR a mi movil', additional_kwargs={}, response_metadata={}, id='5e3595b5-2cab-4220-8c86-60a201e21d25')]}\n",
      "{'messages': [HumanMessage(content='hola', additional_kwargs={}, response_metadata={}, id='57fd15a9-8c82-42bf-820e-136492855f42'), AIMessage(content='¡Hola! ¿Cómo puedo ayudarte hoy?', additional_kwargs={'refusal': None}, response_metadata={'token_usage': {'completion_tokens': 10, 'prompt_tokens': 89, 'total_tokens': 99, 'completion_tokens_details': {'accepted_prediction_tokens': 0, 'audio_tokens': 0, 'reasoning_tokens': 0, 'rejected_prediction_tokens': 0}, 'prompt_tokens_details': {'audio_tokens': 0, 'cached_tokens': 0}}, 'model_name': 'gpt-4o-mini-2024-07-18', 'system_fingerprint': 'fp_34a54ae93c', 'id': 'chatcmpl-BoZ11xH1r7FcEwOY2r8Nmwe7I3OuH', 'service_tier': 'default', 'finish_reason': 'stop', 'logprobs': None}, id='run--9eda60d5-bcc2-48ca-a6c4-bebe0ebda90c-0', usage_metadata={'input_tokens': 89, 'output_tokens': 10, 'total_tokens': 99, 'input_token_details': {'audio': 0, 'cache_read': 0}, 'output_token_details': {'audio': 0, 'reasoning': 0}}), HumanMessage(content='cómo me llamo?', additional_kwargs={}, response_metadata={}, id='728d45e8-9800-4ffa-a2bc-0651a28098e7'), AIMessage(content='No tengo acceso a información personal sobre ti a menos que me la compartas. Si deseas, puedes decirme tu nombre o cualquier otra cosa en la que necesites ayuda.', additional_kwargs={'refusal': None}, response_metadata={'token_usage': {'completion_tokens': 36, 'prompt_tokens': 111, 'total_tokens': 147, 'completion_tokens_details': {'accepted_prediction_tokens': 0, 'audio_tokens': 0, 'reasoning_tokens': 0, 'rejected_prediction_tokens': 0}, 'prompt_tokens_details': {'audio_tokens': 0, 'cached_tokens': 0}}, 'model_name': 'gpt-4o-mini-2024-07-18', 'system_fingerprint': 'fp_34a54ae93c', 'id': 'chatcmpl-BoZ16SbdMmhPW6LfuHjX4zfMtxRxN', 'service_tier': 'default', 'finish_reason': 'stop', 'logprobs': None}, id='run--99c81f5b-f52b-41cd-b150-46ed30d14921-0', usage_metadata={'input_tokens': 111, 'output_tokens': 36, 'total_tokens': 147, 'input_token_details': {'audio': 0, 'cache_read': 0}, 'output_token_details': {'audio': 0, 'reasoning': 0}}), HumanMessage(content='mi nombre es juan gabriel', additional_kwargs={}, response_metadata={}, id='4993a3ab-5bc9-4cfd-8fe7-d0c51105299b'), AIMessage(content='¡Encantado de conocerte, Juan Gabriel! ¿En qué puedo ayudarte hoy?', additional_kwargs={'refusal': None}, response_metadata={'token_usage': {'completion_tokens': 19, 'prompt_tokens': 161, 'total_tokens': 180, 'completion_tokens_details': {'accepted_prediction_tokens': 0, 'audio_tokens': 0, 'reasoning_tokens': 0, 'rejected_prediction_tokens': 0}, 'prompt_tokens_details': {'audio_tokens': 0, 'cached_tokens': 0}}, 'model_name': 'gpt-4o-mini-2024-07-18', 'system_fingerprint': 'fp_34a54ae93c', 'id': 'chatcmpl-BoZ1KUY89KmVchwZI80LSj8lNohwn', 'service_tier': 'default', 'finish_reason': 'stop', 'logprobs': None}, id='run--6e49431d-183a-4c30-a193-c0de47add37e-0', usage_metadata={'input_tokens': 161, 'output_tokens': 19, 'total_tokens': 180, 'input_token_details': {'audio': 0, 'cache_read': 0}, 'output_token_details': {'audio': 0, 'reasoning': 0}}), HumanMessage(content='hola', additional_kwargs={}, response_metadata={}, id='951e657b-b515-4861-9d91-65eabafe8352'), AIMessage(content='¡Hola de nuevo, Juan Gabriel! ¿Cómo estás? ¿Hay algo en particular de lo que te gustaría hablar o preguntar?', additional_kwargs={'refusal': None}, response_metadata={'token_usage': {'completion_tokens': 27, 'prompt_tokens': 188, 'total_tokens': 215, 'completion_tokens_details': {'accepted_prediction_tokens': 0, 'audio_tokens': 0, 'reasoning_tokens': 0, 'rejected_prediction_tokens': 0}, 'prompt_tokens_details': {'audio_tokens': 0, 'cached_tokens': 0}}, 'model_name': 'gpt-4o-mini-2024-07-18', 'system_fingerprint': 'fp_34a54ae93c', 'id': 'chatcmpl-BoZ3JYua55Ts3BEJOsjVFjUb1iFTv', 'service_tier': 'default', 'finish_reason': 'stop', 'logprobs': None}, id='run--4d1119b8-ae44-4ab3-8ae9-0691f07a9d56-0', usage_metadata={'input_tokens': 188, 'output_tokens': 27, 'total_tokens': 215, 'input_token_details': {'audio': 0, 'cache_read': 0}, 'output_token_details': {'audio': 0, 'reasoning': 0}}), HumanMessage(content='Por favor, envíame una notificación push con la tasa de cambio actual USD/EUR a mi movil', additional_kwargs={}, response_metadata={}, id='5e3595b5-2cab-4220-8c86-60a201e21d25'), AIMessage(content='', additional_kwargs={'tool_calls': [{'id': 'call_BQgBvQ5t3h5lq7CUgBSk2hcj', 'function': {'arguments': '{\"__arg1\":\"tasa de cambio actual USD a EUR\"}', 'name': 'search'}, 'type': 'function'}], 'refusal': None}, response_metadata={'token_usage': {'completion_tokens': 22, 'prompt_tokens': 244, 'total_tokens': 266, 'completion_tokens_details': {'accepted_prediction_tokens': 0, 'audio_tokens': 0, 'reasoning_tokens': 0, 'rejected_prediction_tokens': 0}, 'prompt_tokens_details': {'audio_tokens': 0, 'cached_tokens': 0}}, 'model_name': 'gpt-4o-mini-2024-07-18', 'system_fingerprint': 'fp_34a54ae93c', 'id': 'chatcmpl-BoZ4NsmtMgOVcdh3BEWNuVUcLJyQg', 'service_tier': 'default', 'finish_reason': 'tool_calls', 'logprobs': None}, id='run--9c7534e3-dd33-40b3-b537-38c4e3f15789-0', tool_calls=[{'name': 'search', 'args': {'__arg1': 'tasa de cambio actual USD a EUR'}, 'id': 'call_BQgBvQ5t3h5lq7CUgBSk2hcj', 'type': 'tool_call'}], usage_metadata={'input_tokens': 244, 'output_tokens': 22, 'total_tokens': 266, 'input_token_details': {'audio': 0, 'cache_read': 0}, 'output_token_details': {'audio': 0, 'reasoning': 0}}), ToolMessage(content='Convierte Dólar a Euro con el conversor de monedas de Western Union. Revisa los tipos de cambio de USD a EUR hoy ... FX: 1.00 USD – 0.8532 EUR Las tasas de cambio ... ... Convierte USD a EUR al tipo de cambio real. Cantidad. USD. Convertido a. EUR. 1,000 $ USD = 0,8476 € EUR. Tipo de cambio medio del mercado a las 14:25. Convertir US Dollar a Euro ; 1 USD. 0.852412 EUR ; 5 USD. 4.26206 EUR ; 10 USD. 8.52412 EUR ; 25 USD. 21.3103 EUR ; 50 USD. 42.6206 EUR. Nuestro conversor de moneda mostrará el tipo de cambio actual de USD a EUR y su evolución durante los últimos días, semanas o meses. Principales pares de ... 1 USD = 0,84930 EUR · 1. Usa nuestro conversor de divisas · 2. Consulta nuestros tipos de cambio · 3. Únete a Revolut y convierte divisas. Tipos en Tiempo Real. Nombre, Comprar, Venta. EUR/USD. 1,17. 78. 0. 1,17. 79. 4. USD/EUR. 0,84. 89. 4. 0,84. 90. 4. USD/JPY. 144,. 14. 2. 144,. 15. 8. JPY/USD. US dollar (USD). ECB euro reference exchange rate. 1 July 2025. EUR 1 = USD 1.181 0.0090 ... Cambio. 1 Dolar estadounidense = 0,8494 Euros. 1 Euro = 1,1773 Dolares. Precios. Precio de compra 1 Euro = 1,1773 Dolares. Precio de venta de 1 Euro = 1,1773 ... US dollar (USD). ECB euro reference exchange rate. 1 July 2025. EUR 1 = USD 1.181 0.0090(0.8%). Change from 1 July 2024 to 1 July 2025. Consulta información actualizada sobre la cotización en tiempo real, el historial de rendimiento, los gráficos y otros datos financieros del tipo de cambio ...', name='search', id='1d376160-11e5-4cca-8369-2727e962f942', tool_call_id='call_BQgBvQ5t3h5lq7CUgBSk2hcj')]}\n",
      "{'messages': [HumanMessage(content='hola', additional_kwargs={}, response_metadata={}, id='57fd15a9-8c82-42bf-820e-136492855f42'), AIMessage(content='¡Hola! ¿Cómo puedo ayudarte hoy?', additional_kwargs={'refusal': None}, response_metadata={'token_usage': {'completion_tokens': 10, 'prompt_tokens': 89, 'total_tokens': 99, 'completion_tokens_details': {'accepted_prediction_tokens': 0, 'audio_tokens': 0, 'reasoning_tokens': 0, 'rejected_prediction_tokens': 0}, 'prompt_tokens_details': {'audio_tokens': 0, 'cached_tokens': 0}}, 'model_name': 'gpt-4o-mini-2024-07-18', 'system_fingerprint': 'fp_34a54ae93c', 'id': 'chatcmpl-BoZ11xH1r7FcEwOY2r8Nmwe7I3OuH', 'service_tier': 'default', 'finish_reason': 'stop', 'logprobs': None}, id='run--9eda60d5-bcc2-48ca-a6c4-bebe0ebda90c-0', usage_metadata={'input_tokens': 89, 'output_tokens': 10, 'total_tokens': 99, 'input_token_details': {'audio': 0, 'cache_read': 0}, 'output_token_details': {'audio': 0, 'reasoning': 0}}), HumanMessage(content='cómo me llamo?', additional_kwargs={}, response_metadata={}, id='728d45e8-9800-4ffa-a2bc-0651a28098e7'), AIMessage(content='No tengo acceso a información personal sobre ti a menos que me la compartas. Si deseas, puedes decirme tu nombre o cualquier otra cosa en la que necesites ayuda.', additional_kwargs={'refusal': None}, response_metadata={'token_usage': {'completion_tokens': 36, 'prompt_tokens': 111, 'total_tokens': 147, 'completion_tokens_details': {'accepted_prediction_tokens': 0, 'audio_tokens': 0, 'reasoning_tokens': 0, 'rejected_prediction_tokens': 0}, 'prompt_tokens_details': {'audio_tokens': 0, 'cached_tokens': 0}}, 'model_name': 'gpt-4o-mini-2024-07-18', 'system_fingerprint': 'fp_34a54ae93c', 'id': 'chatcmpl-BoZ16SbdMmhPW6LfuHjX4zfMtxRxN', 'service_tier': 'default', 'finish_reason': 'stop', 'logprobs': None}, id='run--99c81f5b-f52b-41cd-b150-46ed30d14921-0', usage_metadata={'input_tokens': 111, 'output_tokens': 36, 'total_tokens': 147, 'input_token_details': {'audio': 0, 'cache_read': 0}, 'output_token_details': {'audio': 0, 'reasoning': 0}}), HumanMessage(content='mi nombre es juan gabriel', additional_kwargs={}, response_metadata={}, id='4993a3ab-5bc9-4cfd-8fe7-d0c51105299b'), AIMessage(content='¡Encantado de conocerte, Juan Gabriel! ¿En qué puedo ayudarte hoy?', additional_kwargs={'refusal': None}, response_metadata={'token_usage': {'completion_tokens': 19, 'prompt_tokens': 161, 'total_tokens': 180, 'completion_tokens_details': {'accepted_prediction_tokens': 0, 'audio_tokens': 0, 'reasoning_tokens': 0, 'rejected_prediction_tokens': 0}, 'prompt_tokens_details': {'audio_tokens': 0, 'cached_tokens': 0}}, 'model_name': 'gpt-4o-mini-2024-07-18', 'system_fingerprint': 'fp_34a54ae93c', 'id': 'chatcmpl-BoZ1KUY89KmVchwZI80LSj8lNohwn', 'service_tier': 'default', 'finish_reason': 'stop', 'logprobs': None}, id='run--6e49431d-183a-4c30-a193-c0de47add37e-0', usage_metadata={'input_tokens': 161, 'output_tokens': 19, 'total_tokens': 180, 'input_token_details': {'audio': 0, 'cache_read': 0}, 'output_token_details': {'audio': 0, 'reasoning': 0}}), HumanMessage(content='hola', additional_kwargs={}, response_metadata={}, id='951e657b-b515-4861-9d91-65eabafe8352'), AIMessage(content='¡Hola de nuevo, Juan Gabriel! ¿Cómo estás? ¿Hay algo en particular de lo que te gustaría hablar o preguntar?', additional_kwargs={'refusal': None}, response_metadata={'token_usage': {'completion_tokens': 27, 'prompt_tokens': 188, 'total_tokens': 215, 'completion_tokens_details': {'accepted_prediction_tokens': 0, 'audio_tokens': 0, 'reasoning_tokens': 0, 'rejected_prediction_tokens': 0}, 'prompt_tokens_details': {'audio_tokens': 0, 'cached_tokens': 0}}, 'model_name': 'gpt-4o-mini-2024-07-18', 'system_fingerprint': 'fp_34a54ae93c', 'id': 'chatcmpl-BoZ3JYua55Ts3BEJOsjVFjUb1iFTv', 'service_tier': 'default', 'finish_reason': 'stop', 'logprobs': None}, id='run--4d1119b8-ae44-4ab3-8ae9-0691f07a9d56-0', usage_metadata={'input_tokens': 188, 'output_tokens': 27, 'total_tokens': 215, 'input_token_details': {'audio': 0, 'cache_read': 0}, 'output_token_details': {'audio': 0, 'reasoning': 0}}), HumanMessage(content='Por favor, envíame una notificación push con la tasa de cambio actual USD/EUR a mi movil', additional_kwargs={}, response_metadata={}, id='5e3595b5-2cab-4220-8c86-60a201e21d25'), AIMessage(content='', additional_kwargs={'tool_calls': [{'id': 'call_BQgBvQ5t3h5lq7CUgBSk2hcj', 'function': {'arguments': '{\"__arg1\":\"tasa de cambio actual USD a EUR\"}', 'name': 'search'}, 'type': 'function'}], 'refusal': None}, response_metadata={'token_usage': {'completion_tokens': 22, 'prompt_tokens': 244, 'total_tokens': 266, 'completion_tokens_details': {'accepted_prediction_tokens': 0, 'audio_tokens': 0, 'reasoning_tokens': 0, 'rejected_prediction_tokens': 0}, 'prompt_tokens_details': {'audio_tokens': 0, 'cached_tokens': 0}}, 'model_name': 'gpt-4o-mini-2024-07-18', 'system_fingerprint': 'fp_34a54ae93c', 'id': 'chatcmpl-BoZ4NsmtMgOVcdh3BEWNuVUcLJyQg', 'service_tier': 'default', 'finish_reason': 'tool_calls', 'logprobs': None}, id='run--9c7534e3-dd33-40b3-b537-38c4e3f15789-0', tool_calls=[{'name': 'search', 'args': {'__arg1': 'tasa de cambio actual USD a EUR'}, 'id': 'call_BQgBvQ5t3h5lq7CUgBSk2hcj', 'type': 'tool_call'}], usage_metadata={'input_tokens': 244, 'output_tokens': 22, 'total_tokens': 266, 'input_token_details': {'audio': 0, 'cache_read': 0}, 'output_token_details': {'audio': 0, 'reasoning': 0}}), ToolMessage(content='Convierte Dólar a Euro con el conversor de monedas de Western Union. Revisa los tipos de cambio de USD a EUR hoy ... FX: 1.00 USD – 0.8532 EUR Las tasas de cambio ... ... Convierte USD a EUR al tipo de cambio real. Cantidad. USD. Convertido a. EUR. 1,000 $ USD = 0,8476 € EUR. Tipo de cambio medio del mercado a las 14:25. Convertir US Dollar a Euro ; 1 USD. 0.852412 EUR ; 5 USD. 4.26206 EUR ; 10 USD. 8.52412 EUR ; 25 USD. 21.3103 EUR ; 50 USD. 42.6206 EUR. Nuestro conversor de moneda mostrará el tipo de cambio actual de USD a EUR y su evolución durante los últimos días, semanas o meses. Principales pares de ... 1 USD = 0,84930 EUR · 1. Usa nuestro conversor de divisas · 2. Consulta nuestros tipos de cambio · 3. Únete a Revolut y convierte divisas. Tipos en Tiempo Real. Nombre, Comprar, Venta. EUR/USD. 1,17. 78. 0. 1,17. 79. 4. USD/EUR. 0,84. 89. 4. 0,84. 90. 4. USD/JPY. 144,. 14. 2. 144,. 15. 8. JPY/USD. US dollar (USD). ECB euro reference exchange rate. 1 July 2025. EUR 1 = USD 1.181 0.0090 ... Cambio. 1 Dolar estadounidense = 0,8494 Euros. 1 Euro = 1,1773 Dolares. Precios. Precio de compra 1 Euro = 1,1773 Dolares. Precio de venta de 1 Euro = 1,1773 ... US dollar (USD). ECB euro reference exchange rate. 1 July 2025. EUR 1 = USD 1.181 0.0090(0.8%). Change from 1 July 2024 to 1 July 2025. Consulta información actualizada sobre la cotización en tiempo real, el historial de rendimiento, los gráficos y otros datos financieros del tipo de cambio ...', name='search', id='1d376160-11e5-4cca-8369-2727e962f942', tool_call_id='call_BQgBvQ5t3h5lq7CUgBSk2hcj'), HumanMessage(content='enviame una notificacion push con la tasa de cambio USD/EUR actual', additional_kwargs={}, response_metadata={}, id='b989d2d4-1d36-43dc-afdb-98aee54e1515')]}\n",
      "{'messages': [HumanMessage(content='hola', additional_kwargs={}, response_metadata={}, id='57fd15a9-8c82-42bf-820e-136492855f42'), AIMessage(content='¡Hola! ¿Cómo puedo ayudarte hoy?', additional_kwargs={'refusal': None}, response_metadata={'token_usage': {'completion_tokens': 10, 'prompt_tokens': 89, 'total_tokens': 99, 'completion_tokens_details': {'accepted_prediction_tokens': 0, 'audio_tokens': 0, 'reasoning_tokens': 0, 'rejected_prediction_tokens': 0}, 'prompt_tokens_details': {'audio_tokens': 0, 'cached_tokens': 0}}, 'model_name': 'gpt-4o-mini-2024-07-18', 'system_fingerprint': 'fp_34a54ae93c', 'id': 'chatcmpl-BoZ11xH1r7FcEwOY2r8Nmwe7I3OuH', 'service_tier': 'default', 'finish_reason': 'stop', 'logprobs': None}, id='run--9eda60d5-bcc2-48ca-a6c4-bebe0ebda90c-0', usage_metadata={'input_tokens': 89, 'output_tokens': 10, 'total_tokens': 99, 'input_token_details': {'audio': 0, 'cache_read': 0}, 'output_token_details': {'audio': 0, 'reasoning': 0}}), HumanMessage(content='cómo me llamo?', additional_kwargs={}, response_metadata={}, id='728d45e8-9800-4ffa-a2bc-0651a28098e7'), AIMessage(content='No tengo acceso a información personal sobre ti a menos que me la compartas. Si deseas, puedes decirme tu nombre o cualquier otra cosa en la que necesites ayuda.', additional_kwargs={'refusal': None}, response_metadata={'token_usage': {'completion_tokens': 36, 'prompt_tokens': 111, 'total_tokens': 147, 'completion_tokens_details': {'accepted_prediction_tokens': 0, 'audio_tokens': 0, 'reasoning_tokens': 0, 'rejected_prediction_tokens': 0}, 'prompt_tokens_details': {'audio_tokens': 0, 'cached_tokens': 0}}, 'model_name': 'gpt-4o-mini-2024-07-18', 'system_fingerprint': 'fp_34a54ae93c', 'id': 'chatcmpl-BoZ16SbdMmhPW6LfuHjX4zfMtxRxN', 'service_tier': 'default', 'finish_reason': 'stop', 'logprobs': None}, id='run--99c81f5b-f52b-41cd-b150-46ed30d14921-0', usage_metadata={'input_tokens': 111, 'output_tokens': 36, 'total_tokens': 147, 'input_token_details': {'audio': 0, 'cache_read': 0}, 'output_token_details': {'audio': 0, 'reasoning': 0}}), HumanMessage(content='mi nombre es juan gabriel', additional_kwargs={}, response_metadata={}, id='4993a3ab-5bc9-4cfd-8fe7-d0c51105299b'), AIMessage(content='¡Encantado de conocerte, Juan Gabriel! ¿En qué puedo ayudarte hoy?', additional_kwargs={'refusal': None}, response_metadata={'token_usage': {'completion_tokens': 19, 'prompt_tokens': 161, 'total_tokens': 180, 'completion_tokens_details': {'accepted_prediction_tokens': 0, 'audio_tokens': 0, 'reasoning_tokens': 0, 'rejected_prediction_tokens': 0}, 'prompt_tokens_details': {'audio_tokens': 0, 'cached_tokens': 0}}, 'model_name': 'gpt-4o-mini-2024-07-18', 'system_fingerprint': 'fp_34a54ae93c', 'id': 'chatcmpl-BoZ1KUY89KmVchwZI80LSj8lNohwn', 'service_tier': 'default', 'finish_reason': 'stop', 'logprobs': None}, id='run--6e49431d-183a-4c30-a193-c0de47add37e-0', usage_metadata={'input_tokens': 161, 'output_tokens': 19, 'total_tokens': 180, 'input_token_details': {'audio': 0, 'cache_read': 0}, 'output_token_details': {'audio': 0, 'reasoning': 0}}), HumanMessage(content='hola', additional_kwargs={}, response_metadata={}, id='951e657b-b515-4861-9d91-65eabafe8352'), AIMessage(content='¡Hola de nuevo, Juan Gabriel! ¿Cómo estás? ¿Hay algo en particular de lo que te gustaría hablar o preguntar?', additional_kwargs={'refusal': None}, response_metadata={'token_usage': {'completion_tokens': 27, 'prompt_tokens': 188, 'total_tokens': 215, 'completion_tokens_details': {'accepted_prediction_tokens': 0, 'audio_tokens': 0, 'reasoning_tokens': 0, 'rejected_prediction_tokens': 0}, 'prompt_tokens_details': {'audio_tokens': 0, 'cached_tokens': 0}}, 'model_name': 'gpt-4o-mini-2024-07-18', 'system_fingerprint': 'fp_34a54ae93c', 'id': 'chatcmpl-BoZ3JYua55Ts3BEJOsjVFjUb1iFTv', 'service_tier': 'default', 'finish_reason': 'stop', 'logprobs': None}, id='run--4d1119b8-ae44-4ab3-8ae9-0691f07a9d56-0', usage_metadata={'input_tokens': 188, 'output_tokens': 27, 'total_tokens': 215, 'input_token_details': {'audio': 0, 'cache_read': 0}, 'output_token_details': {'audio': 0, 'reasoning': 0}}), HumanMessage(content='Por favor, envíame una notificación push con la tasa de cambio actual USD/EUR a mi movil', additional_kwargs={}, response_metadata={}, id='5e3595b5-2cab-4220-8c86-60a201e21d25'), AIMessage(content='', additional_kwargs={'tool_calls': [{'id': 'call_BQgBvQ5t3h5lq7CUgBSk2hcj', 'function': {'arguments': '{\"__arg1\":\"tasa de cambio actual USD a EUR\"}', 'name': 'search'}, 'type': 'function'}], 'refusal': None}, response_metadata={'token_usage': {'completion_tokens': 22, 'prompt_tokens': 244, 'total_tokens': 266, 'completion_tokens_details': {'accepted_prediction_tokens': 0, 'audio_tokens': 0, 'reasoning_tokens': 0, 'rejected_prediction_tokens': 0}, 'prompt_tokens_details': {'audio_tokens': 0, 'cached_tokens': 0}}, 'model_name': 'gpt-4o-mini-2024-07-18', 'system_fingerprint': 'fp_34a54ae93c', 'id': 'chatcmpl-BoZ4NsmtMgOVcdh3BEWNuVUcLJyQg', 'service_tier': 'default', 'finish_reason': 'tool_calls', 'logprobs': None}, id='run--9c7534e3-dd33-40b3-b537-38c4e3f15789-0', tool_calls=[{'name': 'search', 'args': {'__arg1': 'tasa de cambio actual USD a EUR'}, 'id': 'call_BQgBvQ5t3h5lq7CUgBSk2hcj', 'type': 'tool_call'}], usage_metadata={'input_tokens': 244, 'output_tokens': 22, 'total_tokens': 266, 'input_token_details': {'audio': 0, 'cache_read': 0}, 'output_token_details': {'audio': 0, 'reasoning': 0}}), ToolMessage(content='Convierte Dólar a Euro con el conversor de monedas de Western Union. Revisa los tipos de cambio de USD a EUR hoy ... FX: 1.00 USD – 0.8532 EUR Las tasas de cambio ... ... Convierte USD a EUR al tipo de cambio real. Cantidad. USD. Convertido a. EUR. 1,000 $ USD = 0,8476 € EUR. Tipo de cambio medio del mercado a las 14:25. Convertir US Dollar a Euro ; 1 USD. 0.852412 EUR ; 5 USD. 4.26206 EUR ; 10 USD. 8.52412 EUR ; 25 USD. 21.3103 EUR ; 50 USD. 42.6206 EUR. Nuestro conversor de moneda mostrará el tipo de cambio actual de USD a EUR y su evolución durante los últimos días, semanas o meses. Principales pares de ... 1 USD = 0,84930 EUR · 1. Usa nuestro conversor de divisas · 2. Consulta nuestros tipos de cambio · 3. Únete a Revolut y convierte divisas. Tipos en Tiempo Real. Nombre, Comprar, Venta. EUR/USD. 1,17. 78. 0. 1,17. 79. 4. USD/EUR. 0,84. 89. 4. 0,84. 90. 4. USD/JPY. 144,. 14. 2. 144,. 15. 8. JPY/USD. US dollar (USD). ECB euro reference exchange rate. 1 July 2025. EUR 1 = USD 1.181 0.0090 ... Cambio. 1 Dolar estadounidense = 0,8494 Euros. 1 Euro = 1,1773 Dolares. Precios. Precio de compra 1 Euro = 1,1773 Dolares. Precio de venta de 1 Euro = 1,1773 ... US dollar (USD). ECB euro reference exchange rate. 1 July 2025. EUR 1 = USD 1.181 0.0090(0.8%). Change from 1 July 2024 to 1 July 2025. Consulta información actualizada sobre la cotización en tiempo real, el historial de rendimiento, los gráficos y otros datos financieros del tipo de cambio ...', name='search', id='1d376160-11e5-4cca-8369-2727e962f942', tool_call_id='call_BQgBvQ5t3h5lq7CUgBSk2hcj'), HumanMessage(content='enviame una notificacion push con la tasa de cambio USD/EUR actual', additional_kwargs={}, response_metadata={}, id='b989d2d4-1d36-43dc-afdb-98aee54e1515'), AIMessage(content='', additional_kwargs={'tool_calls': [{'id': 'call_qL8YoWJTTRhhkBmzUOnQebkX', 'function': {'arguments': '{\"__arg1\":\"La tasa de cambio actual de 1 USD es igual a 0.8494 EUR.\"}', 'name': 'send_push_notification'}, 'type': 'function'}], 'refusal': None}, response_metadata={'token_usage': {'completion_tokens': 35, 'prompt_tokens': 795, 'total_tokens': 830, 'completion_tokens_details': {'accepted_prediction_tokens': 0, 'audio_tokens': 0, 'reasoning_tokens': 0, 'rejected_prediction_tokens': 0}, 'prompt_tokens_details': {'audio_tokens': 0, 'cached_tokens': 0}}, 'model_name': 'gpt-4o-mini-2024-07-18', 'system_fingerprint': 'fp_34a54ae93c', 'id': 'chatcmpl-BoZ5YK7dCxDVnQ0eiyPEjviIn9NYe', 'service_tier': 'default', 'finish_reason': 'tool_calls', 'logprobs': None}, id='run--395703cf-9244-424f-82ff-cf4716587c69-0', tool_calls=[{'name': 'send_push_notification', 'args': {'__arg1': 'La tasa de cambio actual de 1 USD es igual a 0.8494 EUR.'}, 'id': 'call_qL8YoWJTTRhhkBmzUOnQebkX', 'type': 'tool_call'}], usage_metadata={'input_tokens': 795, 'output_tokens': 35, 'total_tokens': 830, 'input_token_details': {'audio': 0, 'cache_read': 0}, 'output_token_details': {'audio': 0, 'reasoning': 0}}), ToolMessage(content='null', name='send_push_notification', id='19cdbb91-5ab0-46ab-b220-60a6b43e79cc', tool_call_id='call_qL8YoWJTTRhhkBmzUOnQebkX')]}\n",
      "{'messages': [HumanMessage(content='hola', additional_kwargs={}, response_metadata={}, id='57fd15a9-8c82-42bf-820e-136492855f42'), AIMessage(content='¡Hola! ¿Cómo puedo ayudarte hoy?', additional_kwargs={'refusal': None}, response_metadata={'token_usage': {'completion_tokens': 10, 'prompt_tokens': 89, 'total_tokens': 99, 'completion_tokens_details': {'accepted_prediction_tokens': 0, 'audio_tokens': 0, 'reasoning_tokens': 0, 'rejected_prediction_tokens': 0}, 'prompt_tokens_details': {'audio_tokens': 0, 'cached_tokens': 0}}, 'model_name': 'gpt-4o-mini-2024-07-18', 'system_fingerprint': 'fp_34a54ae93c', 'id': 'chatcmpl-BoZ11xH1r7FcEwOY2r8Nmwe7I3OuH', 'service_tier': 'default', 'finish_reason': 'stop', 'logprobs': None}, id='run--9eda60d5-bcc2-48ca-a6c4-bebe0ebda90c-0', usage_metadata={'input_tokens': 89, 'output_tokens': 10, 'total_tokens': 99, 'input_token_details': {'audio': 0, 'cache_read': 0}, 'output_token_details': {'audio': 0, 'reasoning': 0}}), HumanMessage(content='cómo me llamo?', additional_kwargs={}, response_metadata={}, id='728d45e8-9800-4ffa-a2bc-0651a28098e7'), AIMessage(content='No tengo acceso a información personal sobre ti a menos que me la compartas. Si deseas, puedes decirme tu nombre o cualquier otra cosa en la que necesites ayuda.', additional_kwargs={'refusal': None}, response_metadata={'token_usage': {'completion_tokens': 36, 'prompt_tokens': 111, 'total_tokens': 147, 'completion_tokens_details': {'accepted_prediction_tokens': 0, 'audio_tokens': 0, 'reasoning_tokens': 0, 'rejected_prediction_tokens': 0}, 'prompt_tokens_details': {'audio_tokens': 0, 'cached_tokens': 0}}, 'model_name': 'gpt-4o-mini-2024-07-18', 'system_fingerprint': 'fp_34a54ae93c', 'id': 'chatcmpl-BoZ16SbdMmhPW6LfuHjX4zfMtxRxN', 'service_tier': 'default', 'finish_reason': 'stop', 'logprobs': None}, id='run--99c81f5b-f52b-41cd-b150-46ed30d14921-0', usage_metadata={'input_tokens': 111, 'output_tokens': 36, 'total_tokens': 147, 'input_token_details': {'audio': 0, 'cache_read': 0}, 'output_token_details': {'audio': 0, 'reasoning': 0}}), HumanMessage(content='mi nombre es juan gabriel', additional_kwargs={}, response_metadata={}, id='4993a3ab-5bc9-4cfd-8fe7-d0c51105299b'), AIMessage(content='¡Encantado de conocerte, Juan Gabriel! ¿En qué puedo ayudarte hoy?', additional_kwargs={'refusal': None}, response_metadata={'token_usage': {'completion_tokens': 19, 'prompt_tokens': 161, 'total_tokens': 180, 'completion_tokens_details': {'accepted_prediction_tokens': 0, 'audio_tokens': 0, 'reasoning_tokens': 0, 'rejected_prediction_tokens': 0}, 'prompt_tokens_details': {'audio_tokens': 0, 'cached_tokens': 0}}, 'model_name': 'gpt-4o-mini-2024-07-18', 'system_fingerprint': 'fp_34a54ae93c', 'id': 'chatcmpl-BoZ1KUY89KmVchwZI80LSj8lNohwn', 'service_tier': 'default', 'finish_reason': 'stop', 'logprobs': None}, id='run--6e49431d-183a-4c30-a193-c0de47add37e-0', usage_metadata={'input_tokens': 161, 'output_tokens': 19, 'total_tokens': 180, 'input_token_details': {'audio': 0, 'cache_read': 0}, 'output_token_details': {'audio': 0, 'reasoning': 0}}), HumanMessage(content='hola', additional_kwargs={}, response_metadata={}, id='951e657b-b515-4861-9d91-65eabafe8352'), AIMessage(content='¡Hola de nuevo, Juan Gabriel! ¿Cómo estás? ¿Hay algo en particular de lo que te gustaría hablar o preguntar?', additional_kwargs={'refusal': None}, response_metadata={'token_usage': {'completion_tokens': 27, 'prompt_tokens': 188, 'total_tokens': 215, 'completion_tokens_details': {'accepted_prediction_tokens': 0, 'audio_tokens': 0, 'reasoning_tokens': 0, 'rejected_prediction_tokens': 0}, 'prompt_tokens_details': {'audio_tokens': 0, 'cached_tokens': 0}}, 'model_name': 'gpt-4o-mini-2024-07-18', 'system_fingerprint': 'fp_34a54ae93c', 'id': 'chatcmpl-BoZ3JYua55Ts3BEJOsjVFjUb1iFTv', 'service_tier': 'default', 'finish_reason': 'stop', 'logprobs': None}, id='run--4d1119b8-ae44-4ab3-8ae9-0691f07a9d56-0', usage_metadata={'input_tokens': 188, 'output_tokens': 27, 'total_tokens': 215, 'input_token_details': {'audio': 0, 'cache_read': 0}, 'output_token_details': {'audio': 0, 'reasoning': 0}}), HumanMessage(content='Por favor, envíame una notificación push con la tasa de cambio actual USD/EUR a mi movil', additional_kwargs={}, response_metadata={}, id='5e3595b5-2cab-4220-8c86-60a201e21d25'), AIMessage(content='', additional_kwargs={'tool_calls': [{'id': 'call_BQgBvQ5t3h5lq7CUgBSk2hcj', 'function': {'arguments': '{\"__arg1\":\"tasa de cambio actual USD a EUR\"}', 'name': 'search'}, 'type': 'function'}], 'refusal': None}, response_metadata={'token_usage': {'completion_tokens': 22, 'prompt_tokens': 244, 'total_tokens': 266, 'completion_tokens_details': {'accepted_prediction_tokens': 0, 'audio_tokens': 0, 'reasoning_tokens': 0, 'rejected_prediction_tokens': 0}, 'prompt_tokens_details': {'audio_tokens': 0, 'cached_tokens': 0}}, 'model_name': 'gpt-4o-mini-2024-07-18', 'system_fingerprint': 'fp_34a54ae93c', 'id': 'chatcmpl-BoZ4NsmtMgOVcdh3BEWNuVUcLJyQg', 'service_tier': 'default', 'finish_reason': 'tool_calls', 'logprobs': None}, id='run--9c7534e3-dd33-40b3-b537-38c4e3f15789-0', tool_calls=[{'name': 'search', 'args': {'__arg1': 'tasa de cambio actual USD a EUR'}, 'id': 'call_BQgBvQ5t3h5lq7CUgBSk2hcj', 'type': 'tool_call'}], usage_metadata={'input_tokens': 244, 'output_tokens': 22, 'total_tokens': 266, 'input_token_details': {'audio': 0, 'cache_read': 0}, 'output_token_details': {'audio': 0, 'reasoning': 0}}), ToolMessage(content='Convierte Dólar a Euro con el conversor de monedas de Western Union. Revisa los tipos de cambio de USD a EUR hoy ... FX: 1.00 USD – 0.8532 EUR Las tasas de cambio ... ... Convierte USD a EUR al tipo de cambio real. Cantidad. USD. Convertido a. EUR. 1,000 $ USD = 0,8476 € EUR. Tipo de cambio medio del mercado a las 14:25. Convertir US Dollar a Euro ; 1 USD. 0.852412 EUR ; 5 USD. 4.26206 EUR ; 10 USD. 8.52412 EUR ; 25 USD. 21.3103 EUR ; 50 USD. 42.6206 EUR. Nuestro conversor de moneda mostrará el tipo de cambio actual de USD a EUR y su evolución durante los últimos días, semanas o meses. Principales pares de ... 1 USD = 0,84930 EUR · 1. Usa nuestro conversor de divisas · 2. Consulta nuestros tipos de cambio · 3. Únete a Revolut y convierte divisas. Tipos en Tiempo Real. Nombre, Comprar, Venta. EUR/USD. 1,17. 78. 0. 1,17. 79. 4. USD/EUR. 0,84. 89. 4. 0,84. 90. 4. USD/JPY. 144,. 14. 2. 144,. 15. 8. JPY/USD. US dollar (USD). ECB euro reference exchange rate. 1 July 2025. EUR 1 = USD 1.181 0.0090 ... Cambio. 1 Dolar estadounidense = 0,8494 Euros. 1 Euro = 1,1773 Dolares. Precios. Precio de compra 1 Euro = 1,1773 Dolares. Precio de venta de 1 Euro = 1,1773 ... US dollar (USD). ECB euro reference exchange rate. 1 July 2025. EUR 1 = USD 1.181 0.0090(0.8%). Change from 1 July 2024 to 1 July 2025. Consulta información actualizada sobre la cotización en tiempo real, el historial de rendimiento, los gráficos y otros datos financieros del tipo de cambio ...', name='search', id='1d376160-11e5-4cca-8369-2727e962f942', tool_call_id='call_BQgBvQ5t3h5lq7CUgBSk2hcj'), AIMessage(content='', additional_kwargs={'tool_calls': [{'id': 'call_hdZ9Vhw9wH6jAnrNTSFxA6xZ', 'function': {'arguments': '{\"__arg1\":\"La tasa de cambio actual de USD a EUR es 1 USD = 0.8494 EUR.\"}', 'name': 'send_push_notification'}, 'type': 'function'}], 'refusal': None}, response_metadata={'token_usage': {'completion_tokens': 37, 'prompt_tokens': 775, 'total_tokens': 812, 'completion_tokens_details': {'accepted_prediction_tokens': 0, 'audio_tokens': 0, 'reasoning_tokens': 0, 'rejected_prediction_tokens': 0}, 'prompt_tokens_details': {'audio_tokens': 0, 'cached_tokens': 0}}, 'model_name': 'gpt-4o-mini-2024-07-18', 'system_fingerprint': 'fp_34a54ae93c', 'id': 'chatcmpl-BoZ5YIPkQVffX5FHX3PM1ibJcO6pc', 'service_tier': 'default', 'finish_reason': 'tool_calls', 'logprobs': None}, id='run--a42c5e61-6928-457f-84a0-c54b990b5f63-0', tool_calls=[{'name': 'send_push_notification', 'args': {'__arg1': 'La tasa de cambio actual de USD a EUR es 1 USD = 0.8494 EUR.'}, 'id': 'call_hdZ9Vhw9wH6jAnrNTSFxA6xZ', 'type': 'tool_call'}], usage_metadata={'input_tokens': 775, 'output_tokens': 37, 'total_tokens': 812, 'input_token_details': {'audio': 0, 'cache_read': 0}, 'output_token_details': {'audio': 0, 'reasoning': 0}}), ToolMessage(content='null', name='send_push_notification', id='7a9b6dd2-2f73-46e9-bf49-07c622afc94d', tool_call_id='call_hdZ9Vhw9wH6jAnrNTSFxA6xZ')]}\n",
      "{'messages': [HumanMessage(content='hola', additional_kwargs={}, response_metadata={}, id='57fd15a9-8c82-42bf-820e-136492855f42'), AIMessage(content='¡Hola! ¿Cómo puedo ayudarte hoy?', additional_kwargs={'refusal': None}, response_metadata={'token_usage': {'completion_tokens': 10, 'prompt_tokens': 89, 'total_tokens': 99, 'completion_tokens_details': {'accepted_prediction_tokens': 0, 'audio_tokens': 0, 'reasoning_tokens': 0, 'rejected_prediction_tokens': 0}, 'prompt_tokens_details': {'audio_tokens': 0, 'cached_tokens': 0}}, 'model_name': 'gpt-4o-mini-2024-07-18', 'system_fingerprint': 'fp_34a54ae93c', 'id': 'chatcmpl-BoZ11xH1r7FcEwOY2r8Nmwe7I3OuH', 'service_tier': 'default', 'finish_reason': 'stop', 'logprobs': None}, id='run--9eda60d5-bcc2-48ca-a6c4-bebe0ebda90c-0', usage_metadata={'input_tokens': 89, 'output_tokens': 10, 'total_tokens': 99, 'input_token_details': {'audio': 0, 'cache_read': 0}, 'output_token_details': {'audio': 0, 'reasoning': 0}}), HumanMessage(content='cómo me llamo?', additional_kwargs={}, response_metadata={}, id='728d45e8-9800-4ffa-a2bc-0651a28098e7'), AIMessage(content='No tengo acceso a información personal sobre ti a menos que me la compartas. Si deseas, puedes decirme tu nombre o cualquier otra cosa en la que necesites ayuda.', additional_kwargs={'refusal': None}, response_metadata={'token_usage': {'completion_tokens': 36, 'prompt_tokens': 111, 'total_tokens': 147, 'completion_tokens_details': {'accepted_prediction_tokens': 0, 'audio_tokens': 0, 'reasoning_tokens': 0, 'rejected_prediction_tokens': 0}, 'prompt_tokens_details': {'audio_tokens': 0, 'cached_tokens': 0}}, 'model_name': 'gpt-4o-mini-2024-07-18', 'system_fingerprint': 'fp_34a54ae93c', 'id': 'chatcmpl-BoZ16SbdMmhPW6LfuHjX4zfMtxRxN', 'service_tier': 'default', 'finish_reason': 'stop', 'logprobs': None}, id='run--99c81f5b-f52b-41cd-b150-46ed30d14921-0', usage_metadata={'input_tokens': 111, 'output_tokens': 36, 'total_tokens': 147, 'input_token_details': {'audio': 0, 'cache_read': 0}, 'output_token_details': {'audio': 0, 'reasoning': 0}}), HumanMessage(content='mi nombre es juan gabriel', additional_kwargs={}, response_metadata={}, id='4993a3ab-5bc9-4cfd-8fe7-d0c51105299b'), AIMessage(content='¡Encantado de conocerte, Juan Gabriel! ¿En qué puedo ayudarte hoy?', additional_kwargs={'refusal': None}, response_metadata={'token_usage': {'completion_tokens': 19, 'prompt_tokens': 161, 'total_tokens': 180, 'completion_tokens_details': {'accepted_prediction_tokens': 0, 'audio_tokens': 0, 'reasoning_tokens': 0, 'rejected_prediction_tokens': 0}, 'prompt_tokens_details': {'audio_tokens': 0, 'cached_tokens': 0}}, 'model_name': 'gpt-4o-mini-2024-07-18', 'system_fingerprint': 'fp_34a54ae93c', 'id': 'chatcmpl-BoZ1KUY89KmVchwZI80LSj8lNohwn', 'service_tier': 'default', 'finish_reason': 'stop', 'logprobs': None}, id='run--6e49431d-183a-4c30-a193-c0de47add37e-0', usage_metadata={'input_tokens': 161, 'output_tokens': 19, 'total_tokens': 180, 'input_token_details': {'audio': 0, 'cache_read': 0}, 'output_token_details': {'audio': 0, 'reasoning': 0}}), HumanMessage(content='hola', additional_kwargs={}, response_metadata={}, id='951e657b-b515-4861-9d91-65eabafe8352'), AIMessage(content='¡Hola de nuevo, Juan Gabriel! ¿Cómo estás? ¿Hay algo en particular de lo que te gustaría hablar o preguntar?', additional_kwargs={'refusal': None}, response_metadata={'token_usage': {'completion_tokens': 27, 'prompt_tokens': 188, 'total_tokens': 215, 'completion_tokens_details': {'accepted_prediction_tokens': 0, 'audio_tokens': 0, 'reasoning_tokens': 0, 'rejected_prediction_tokens': 0}, 'prompt_tokens_details': {'audio_tokens': 0, 'cached_tokens': 0}}, 'model_name': 'gpt-4o-mini-2024-07-18', 'system_fingerprint': 'fp_34a54ae93c', 'id': 'chatcmpl-BoZ3JYua55Ts3BEJOsjVFjUb1iFTv', 'service_tier': 'default', 'finish_reason': 'stop', 'logprobs': None}, id='run--4d1119b8-ae44-4ab3-8ae9-0691f07a9d56-0', usage_metadata={'input_tokens': 188, 'output_tokens': 27, 'total_tokens': 215, 'input_token_details': {'audio': 0, 'cache_read': 0}, 'output_token_details': {'audio': 0, 'reasoning': 0}}), HumanMessage(content='Por favor, envíame una notificación push con la tasa de cambio actual USD/EUR a mi movil', additional_kwargs={}, response_metadata={}, id='5e3595b5-2cab-4220-8c86-60a201e21d25'), AIMessage(content='', additional_kwargs={'tool_calls': [{'id': 'call_BQgBvQ5t3h5lq7CUgBSk2hcj', 'function': {'arguments': '{\"__arg1\":\"tasa de cambio actual USD a EUR\"}', 'name': 'search'}, 'type': 'function'}], 'refusal': None}, response_metadata={'token_usage': {'completion_tokens': 22, 'prompt_tokens': 244, 'total_tokens': 266, 'completion_tokens_details': {'accepted_prediction_tokens': 0, 'audio_tokens': 0, 'reasoning_tokens': 0, 'rejected_prediction_tokens': 0}, 'prompt_tokens_details': {'audio_tokens': 0, 'cached_tokens': 0}}, 'model_name': 'gpt-4o-mini-2024-07-18', 'system_fingerprint': 'fp_34a54ae93c', 'id': 'chatcmpl-BoZ4NsmtMgOVcdh3BEWNuVUcLJyQg', 'service_tier': 'default', 'finish_reason': 'tool_calls', 'logprobs': None}, id='run--9c7534e3-dd33-40b3-b537-38c4e3f15789-0', tool_calls=[{'name': 'search', 'args': {'__arg1': 'tasa de cambio actual USD a EUR'}, 'id': 'call_BQgBvQ5t3h5lq7CUgBSk2hcj', 'type': 'tool_call'}], usage_metadata={'input_tokens': 244, 'output_tokens': 22, 'total_tokens': 266, 'input_token_details': {'audio': 0, 'cache_read': 0}, 'output_token_details': {'audio': 0, 'reasoning': 0}}), ToolMessage(content='Convierte Dólar a Euro con el conversor de monedas de Western Union. Revisa los tipos de cambio de USD a EUR hoy ... FX: 1.00 USD – 0.8532 EUR Las tasas de cambio ... ... Convierte USD a EUR al tipo de cambio real. Cantidad. USD. Convertido a. EUR. 1,000 $ USD = 0,8476 € EUR. Tipo de cambio medio del mercado a las 14:25. Convertir US Dollar a Euro ; 1 USD. 0.852412 EUR ; 5 USD. 4.26206 EUR ; 10 USD. 8.52412 EUR ; 25 USD. 21.3103 EUR ; 50 USD. 42.6206 EUR. Nuestro conversor de moneda mostrará el tipo de cambio actual de USD a EUR y su evolución durante los últimos días, semanas o meses. Principales pares de ... 1 USD = 0,84930 EUR · 1. Usa nuestro conversor de divisas · 2. Consulta nuestros tipos de cambio · 3. Únete a Revolut y convierte divisas. Tipos en Tiempo Real. Nombre, Comprar, Venta. EUR/USD. 1,17. 78. 0. 1,17. 79. 4. USD/EUR. 0,84. 89. 4. 0,84. 90. 4. USD/JPY. 144,. 14. 2. 144,. 15. 8. JPY/USD. US dollar (USD). ECB euro reference exchange rate. 1 July 2025. EUR 1 = USD 1.181 0.0090 ... Cambio. 1 Dolar estadounidense = 0,8494 Euros. 1 Euro = 1,1773 Dolares. Precios. Precio de compra 1 Euro = 1,1773 Dolares. Precio de venta de 1 Euro = 1,1773 ... US dollar (USD). ECB euro reference exchange rate. 1 July 2025. EUR 1 = USD 1.181 0.0090(0.8%). Change from 1 July 2024 to 1 July 2025. Consulta información actualizada sobre la cotización en tiempo real, el historial de rendimiento, los gráficos y otros datos financieros del tipo de cambio ...', name='search', id='1d376160-11e5-4cca-8369-2727e962f942', tool_call_id='call_BQgBvQ5t3h5lq7CUgBSk2hcj'), AIMessage(content='', additional_kwargs={'tool_calls': [{'id': 'call_hdZ9Vhw9wH6jAnrNTSFxA6xZ', 'function': {'arguments': '{\"__arg1\":\"La tasa de cambio actual de USD a EUR es 1 USD = 0.8494 EUR.\"}', 'name': 'send_push_notification'}, 'type': 'function'}], 'refusal': None}, response_metadata={'token_usage': {'completion_tokens': 37, 'prompt_tokens': 775, 'total_tokens': 812, 'completion_tokens_details': {'accepted_prediction_tokens': 0, 'audio_tokens': 0, 'reasoning_tokens': 0, 'rejected_prediction_tokens': 0}, 'prompt_tokens_details': {'audio_tokens': 0, 'cached_tokens': 0}}, 'model_name': 'gpt-4o-mini-2024-07-18', 'system_fingerprint': 'fp_34a54ae93c', 'id': 'chatcmpl-BoZ5YIPkQVffX5FHX3PM1ibJcO6pc', 'service_tier': 'default', 'finish_reason': 'tool_calls', 'logprobs': None}, id='run--a42c5e61-6928-457f-84a0-c54b990b5f63-0', tool_calls=[{'name': 'send_push_notification', 'args': {'__arg1': 'La tasa de cambio actual de USD a EUR es 1 USD = 0.8494 EUR.'}, 'id': 'call_hdZ9Vhw9wH6jAnrNTSFxA6xZ', 'type': 'tool_call'}], usage_metadata={'input_tokens': 775, 'output_tokens': 37, 'total_tokens': 812, 'input_token_details': {'audio': 0, 'cache_read': 0}, 'output_token_details': {'audio': 0, 'reasoning': 0}}), ToolMessage(content='null', name='send_push_notification', id='7a9b6dd2-2f73-46e9-bf49-07c622afc94d', tool_call_id='call_hdZ9Vhw9wH6jAnrNTSFxA6xZ'), AIMessage(content='He enviado una notificación push a tu móvil con la tasa de cambio actual de USD a EUR: 1 USD = 0.8494 EUR. Si necesitas algo más, ¡no dudes en decirlo!', additional_kwargs={'refusal': None}, response_metadata={'token_usage': {'completion_tokens': 44, 'prompt_tokens': 822, 'total_tokens': 866, 'completion_tokens_details': {'accepted_prediction_tokens': 0, 'audio_tokens': 0, 'reasoning_tokens': 0, 'rejected_prediction_tokens': 0}, 'prompt_tokens_details': {'audio_tokens': 0, 'cached_tokens': 0}}, 'model_name': 'gpt-4o-mini-2024-07-18', 'system_fingerprint': 'fp_34a54ae93c', 'id': 'chatcmpl-BoZ5aV7zE9uMjIUFGFngTDZz1h4ap', 'service_tier': 'default', 'finish_reason': 'stop', 'logprobs': None}, id='run--d7fd78f3-1c9f-4bcc-90f1-7afd3ef2f16b-0', usage_metadata={'input_tokens': 822, 'output_tokens': 44, 'total_tokens': 866, 'input_token_details': {'audio': 0, 'cache_read': 0}, 'output_token_details': {'audio': 0, 'reasoning': 0}}), HumanMessage(content='vuelve a enviarme la notifacion un vez más', additional_kwargs={}, response_metadata={}, id='5db48963-f6b2-4c90-b75a-b7c964ad80a3')]}\n"
     ]
    }
   ],
   "source": [
    "config = {\"configurable\": {\"thread_id\": \"3\"}}\n",
    "\n",
    "def chat(user_input: str, history):\n",
    "    result = graph.invoke({\"messages\": [{\"role\": \"user\", \"content\": user_input}]}, config=config)\n",
    "    return result[\"messages\"][-1].content\n",
    "\n",
    "\n",
    "gr.ChatInterface(chat, type=\"messages\").launch()"
   ]
  },
  {
   "cell_type": "code",
   "execution_count": null,
   "metadata": {},
   "outputs": [],
   "source": []
  }
 ],
 "metadata": {
  "kernelspec": {
   "display_name": ".venv",
   "language": "python",
   "name": "python3"
  },
  "language_info": {
   "codemirror_mode": {
    "name": "ipython",
    "version": 3
   },
   "file_extension": ".py",
   "mimetype": "text/x-python",
   "name": "python",
   "nbconvert_exporter": "python",
   "pygments_lexer": "ipython3",
   "version": "3.12.11"
  }
 },
 "nbformat": 4,
 "nbformat_minor": 2
}
