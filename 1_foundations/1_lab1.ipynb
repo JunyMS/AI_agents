{
 "cells": [
  {
   "cell_type": "markdown",
   "metadata": {},
   "source": [
    "# Bienvenido al comienzo de tu aventura en Agentic AI"
   ]
  },
  {
   "cell_type": "markdown",
   "metadata": {},
   "source": [
    "<table style=\"margin: 0; text-align: left; width:100%\">\n",
    "<tr>\n",
    "<td style=\"width: 150px; height: 150px; vertical-align: middle;\">\n",
    "<img src=\"../assets/stop.png\" width=\"150\" height=\"150\" style=\"display: block;\" />\n",
    "</td>\n",
    "<td>\n",
    "<h2 style=\"color:#ff7800;\">¿Listo para la acción?</h2>\n",
    "<span style=\"color:#ff7800;\">¿Has completado todos los pasos de configuración en la carpeta <a href=\"../setup/\">setup</a>?<br/>\n",
    "\n",
    "¿Has consultado las guías en la carpeta <a href=\"../guides/01_intro.ipynb\">guides</a>?<br/>\n",
    "\n",
    "En ese caso, ¡estás listo! </span>\n",
    "</td>\n",
    "</tr>\n",
    "</table>"
   ]
  },
  {
   "cell_type": "markdown",
   "metadata": {},
   "source": [
    "<table style=\"margin: 0; text-align: left; width:100%\">\n",
    "<tr>\n",
    "<td style=\"width: 150px; height: 150px; vertical-align: middle;\">\n",
    "<img src=\"../assets/tools.png\" width=\"150\" height=\"150\" style=\"display: block;\" />\n",
    "</td>\n",
    "<td>\n",
    "<h2 style=\"color:#00bfff;\">Este código es un recurso activo; esté atento a mis actualizaciones</h2>\n",
    "<span style=\"color:#00bfff;\">Actualizo periódicamente. A medida que los usuarios hacen preguntas o tienen problemas, añado más ejemplos y mejoro las explicaciones. Por lo tanto, es posible que el código a continuación no sea idéntico al de los vídeos, ya que he añadido más pasos y mejores comentarios. Considérelo como un libro interactivo que acompaña a las clases.<br/><br/>\n",
    "Intento enviar correos electrónicos regularmente con actualizaciones importantes relacionadas con el curso. Puedes encontrarlo en la sección \"Anuncios\" de Udemy, en la barra lateral izquierda. También puedes optar por recibir mis correos electrónicos a través de la configuración de notificaciones en Udemy. Soy respetuoso con tu bandeja de entrada y siempre intento aportar valor con mis correos.\n",
    "\n",
    "</span>\n",
    "</td>\n",
    "</tr>\n",
    "</table>"
   ]
  },
  {
   "cell_type": "markdown",
   "metadata": {},
   "source": [
    "### Y por favor, recuerda contactarme si puedo ayudarte.\n",
    "\n",
    "Me encantaría conectar contigo: https://www.linkedin.com/in/juan-gabriel-gomila-salas/\n",
    "\n",
    "### ¿Eres nuevo en Notebooks como este? ¡Visita la carpeta de guías!\n",
    "\n",
    "Para comprobar que ya has añadido las extensiones de Python y Jupyter a Cursor, si aún no las tienes instaladas:\n",
    "- Abre Extensiones (Ver >> Extensiones).\n",
    "- Busca Python y, cuando aparezcan los resultados, haz clic en la de ms-python e instálala si aún no está instalada.\n",
    "- Busca Jupyter y, cuando aparezcan los resultados, haz clic en la de Microsoft e instálala si aún no está instalada.\n",
    "Luego, ve a Ver >> Explorador para volver al Explorador de archivos.\n",
    "\n",
    "Y luego:\n",
    "1. Haz clic donde dice \"Seleccionar Kernel\" cerca de la esquina superior derecha y selecciona la opción `.venv (Python 3.12.9)` o similar, que debería ser la primera opción o la más destacada. Quizás primero debas seleccionar \"Entornos de Python\".\n",
    "2. Haz clic en cada celda a continuación, comenzando por la celda inmediatamente inferior a este texto, y presiona Mayús+Intro para ejecutar.\n",
    "3. ¡Disfruta!\n",
    "\n",
    "Después de hacer clic en \"Seleccionar Kernel\", si no hay ninguna opción como `.venv (Python 3.12.9)`, haz lo siguiente:\n",
    "1. En Mac: En el menú Cursor, selecciona Configuración >> Configuración de VS Code (NOTA: asegúrate de seleccionar `Configuración de VSCode`, no `Configuración de Cursor`). En una PC con Windows: En el menú Archivo, seleccione Preferencias >> Configuración de VS Code (NOTA: asegúrate de seleccionar \"Configuración de VS Code\" y no \"Configuración de Cursor\").\n",
    "2. En la barra de búsqueda de Configuración, escriba \"venv\".\n",
    "3. En el campo \"Ruta a la carpeta con la lista de entornos virtuales\", introduzca la ruta a la raíz del proyecto, como C:\\Users\\username\\projects\\agents (en una PC con Windows) o /Users/username/projects/agents (en Mac o Linux).\n",
    "Inténtelo de nuevo.\n",
    "\n",
    "¿Tiene problemas porque faltan versiones de Python en la lista? ¿Ha usado Anaconda anteriormente? Podría estar interfiriendo. Salga de Cursor, abra una nueva línea de comandos y asegúrese de que su entorno de Anaconda esté desactivado: `conda deactivate`\n",
    "Si aún tiene problemas con las versiones de Conda y Python, es posible que también deba ejecutar esto: `conda config --set auto_activate_base false`\n",
    "Y luego, desde el directorio Agentes, debería poder ejecutar `uv python list` y ver la versión de Python 3.12."
   ]
  },
  {
   "cell_type": "code",
   "execution_count": 1,
   "metadata": {},
   "outputs": [],
   "source": [
    "# Empecemos por hacer un import\n",
    "from dotenv import load_dotenv\n"
   ]
  },
  {
   "cell_type": "code",
   "execution_count": 2,
   "metadata": {},
   "outputs": [
    {
     "data": {
      "text/plain": [
       "True"
      ]
     },
     "execution_count": 2,
     "metadata": {},
     "output_type": "execute_result"
    }
   ],
   "source": [
    "# A continuación, es el momento de cargar las claves API en las variables de entorno.\n",
    "\n",
    "load_dotenv(override=True)"
   ]
  },
  {
   "cell_type": "code",
   "execution_count": 3,
   "metadata": {},
   "outputs": [
    {
     "name": "stdout",
     "output_type": "stream",
     "text": [
      "La clave API de OpenAI existe y empieza por sk-proj-\n"
     ]
    }
   ],
   "source": [
    "# Comprobamos las claves\n",
    "\n",
    "import os\n",
    "openai_api_key = os.getenv('OPENAI_API_KEY')\n",
    "\n",
    "if openai_api_key:\n",
    "    print(f\"La clave API de OpenAI existe y empieza por {openai_api_key[:8]}\")\n",
    "else:\n",
    "    print(\"La clave API de OpenAI no existe - Dirígete a la guía de solución de problemas en la carpeta de configuración.\")\n",
    "    \n"
   ]
  },
  {
   "cell_type": "code",
   "execution_count": 4,
   "metadata": {},
   "outputs": [],
   "source": [
    "# Y ahora, la importante declaración de importación\n",
    "# Si recibes un error de importación, consulta la guía de solución de problemas\n",
    "\n",
    "from openai import OpenAI"
   ]
  },
  {
   "cell_type": "code",
   "execution_count": 5,
   "metadata": {},
   "outputs": [],
   "source": [
    "# Ahora crearemos una instancia de la clase OpenAI.\n",
    "# Si no estás seguro de lo que significa crear una instancia de una clase, ¡visita la carpeta de guías!\n",
    "# Si recibes un error de nombre, visita la carpeta de guías para obtener más información sobre los errores de nombre.\n",
    "\n",
    "openai = OpenAI()"
   ]
  },
  {
   "cell_type": "code",
   "execution_count": 6,
   "metadata": {},
   "outputs": [],
   "source": [
    "# Crea una lista de mensajes en el formato familiar de OpenAI\n",
    "\n",
    "messages = [{\"role\": \"user\", \"content\": \"¿Cuanto es 2+2?\"}]"
   ]
  },
  {
   "cell_type": "code",
   "execution_count": 7,
   "metadata": {},
   "outputs": [
    {
     "name": "stdout",
     "output_type": "stream",
     "text": [
      "2 + 2 es igual a 4.\n"
     ]
    }
   ],
   "source": [
    "# ¡Y ahora, a llamarlo! Si tienes algún problema, consulta la guía de solución de problemas.\n",
    "# Usa GPT 4.1 nano, el modelo increíblemente económico.\n",
    "\n",
    "response = openai.chat.completions.create(\n",
    "    model=\"gpt-4.1-nano\",\n",
    "    messages=messages\n",
    ")\n",
    "\n",
    "print(response.choices[0].message.content)\n"
   ]
  },
  {
   "cell_type": "code",
   "execution_count": 8,
   "metadata": {},
   "outputs": [],
   "source": [
    "# Y ahora, vamos a llamar a la API de OpenAI\n",
    "\n",
    "question = \"Proponga una pregunta difícil y desafiante para evaluar el coeficiente intelectual de alguien. Responde únicamente con la pregunta.\"\n",
    "messages = [{\"role\": \"user\", \"content\": question}]\n"
   ]
  },
  {
   "cell_type": "code",
   "execution_count": 9,
   "metadata": {},
   "outputs": [
    {
     "name": "stdout",
     "output_type": "stream",
     "text": [
      "Si cinco máquinas pueden fabricar cinco artículos en cinco minutos, ¿cuánto tiempo tardarán cien máquinas en fabricar cien artículos?\n"
     ]
    }
   ],
   "source": [
    "# Pregúntale: usa GPT 4.1 mini, aún barato pero más potente que nano\n",
    "\n",
    "response = openai.chat.completions.create(\n",
    "    model=\"gpt-4.1-mini\",\n",
    "    messages=messages\n",
    ")\n",
    "\n",
    "question = response.choices[0].message.content\n",
    "\n",
    "print(question)\n"
   ]
  },
  {
   "cell_type": "code",
   "execution_count": 10,
   "metadata": {},
   "outputs": [],
   "source": [
    "# una nueva lista de mensajes\n",
    "messages = [{\"role\": \"user\", \"content\": question}]\n"
   ]
  },
  {
   "cell_type": "code",
   "execution_count": 11,
   "metadata": {},
   "outputs": [
    {
     "name": "stdout",
     "output_type": "stream",
     "text": [
      "Vamos a analizar el problema paso a paso.\n",
      "\n",
      "**Datos del problema:**\n",
      "- 5 máquinas fabrican 5 artículos en 5 minutos.\n",
      "\n",
      "Queremos saber: **¿Cuánto tiempo tardarán 100 máquinas en fabricar 100 artículos?**\n",
      "\n",
      "---\n",
      "\n",
      "### Paso 1: Encontrar la tasa de trabajo por máquina\n",
      "\n",
      "Si 5 máquinas fabrican 5 artículos en 5 minutos, entonces:\n",
      "\n",
      "- En 5 minutos: 5 máquinas → 5 artículos\n",
      "- Por máquina: 1 máquina en 5 minutos → 1 artículo\n",
      "\n",
      "Esto indica que **cada máquina fabrica 1 artículo en 5 minutos**.\n",
      "\n",
      "---\n",
      "\n",
      "### Paso 2: Calcular el tiempo para 100 máquinas fabricando 100 artículos\n",
      "\n",
      "Dado que cada máquina produce 1 artículo en 5 minutos:\n",
      "\n",
      "- 100 máquinas trabajando al mismo tiempo fabricarán 100 artículos en **5 minutos**.\n",
      "\n",
      "---\n",
      "\n",
      "### **Respuesta:**\n",
      "\n",
      "Las 100 máquinas tardarán **5 minutos** en fabricar 100 artículos.\n"
     ]
    }
   ],
   "source": [
    "# Hacemos una nueva pregunta\n",
    "\n",
    "response = openai.chat.completions.create(\n",
    "    model=\"gpt-4.1-mini\",\n",
    "    messages=messages\n",
    ")\n",
    "\n",
    "answer = response.choices[0].message.content\n",
    "print(answer)\n"
   ]
  },
  {
   "cell_type": "code",
   "execution_count": 12,
   "metadata": {},
   "outputs": [
    {
     "data": {
      "text/markdown": [
       "Vamos a analizar el problema paso a paso.\n",
       "\n",
       "**Datos del problema:**\n",
       "- 5 máquinas fabrican 5 artículos en 5 minutos.\n",
       "\n",
       "Queremos saber: **¿Cuánto tiempo tardarán 100 máquinas en fabricar 100 artículos?**\n",
       "\n",
       "---\n",
       "\n",
       "### Paso 1: Encontrar la tasa de trabajo por máquina\n",
       "\n",
       "Si 5 máquinas fabrican 5 artículos en 5 minutos, entonces:\n",
       "\n",
       "- En 5 minutos: 5 máquinas → 5 artículos\n",
       "- Por máquina: 1 máquina en 5 minutos → 1 artículo\n",
       "\n",
       "Esto indica que **cada máquina fabrica 1 artículo en 5 minutos**.\n",
       "\n",
       "---\n",
       "\n",
       "### Paso 2: Calcular el tiempo para 100 máquinas fabricando 100 artículos\n",
       "\n",
       "Dado que cada máquina produce 1 artículo en 5 minutos:\n",
       "\n",
       "- 100 máquinas trabajando al mismo tiempo fabricarán 100 artículos en **5 minutos**.\n",
       "\n",
       "---\n",
       "\n",
       "### **Respuesta:**\n",
       "\n",
       "Las 100 máquinas tardarán **5 minutos** en fabricar 100 artículos."
      ],
      "text/plain": [
       "<IPython.core.display.Markdown object>"
      ]
     },
     "metadata": {},
     "output_type": "display_data"
    }
   ],
   "source": [
    "from IPython.display import Markdown, display\n",
    "\n",
    "display(Markdown(answer))\n",
    "\n"
   ]
  },
  {
   "cell_type": "markdown",
   "metadata": {},
   "source": [
    "# ¡Felicidades!\n",
    "\n",
    "¡Ese fue un pequeño y sencillo paso hacia la IA Agentic con tu nuevo entorno!\n",
    "\n",
    "La próxima vez que las cosas se pongan más interesantes..."
   ]
  },
  {
   "cell_type": "markdown",
   "metadata": {},
   "source": [
    "<table style=\"margin: 0; text-align: left; width:100%\">\n",
    "<tr>\n",
    "<td style=\"width: 150px; height: 150px; vertical-align: middle;\">\n",
    "<img src=\"../assets/exercise.png\" width=\"150\" height=\"150\" style=\"display: block;\" />\n",
    "</td>\n",
    "<td>\n",
    "<h2 style=\"color:#ff7800;\">Ejercicio</h2>\n",
    "<span style=\"color:#ff7800;\">Ahora, prueba esta aplicación comercial:<br/>\n",
    "Primero, pide al LLM que elija un área de negocio que valga la pena explorar para una oportunidad de IA con Agentic.<br/>\n",
    "Después, pide al LLM que presente un problema en esa industria, algo desafiante que pueda ser propicio para una solución con Agentic.<br/>\n",
    "Finalmente, pide a la tercera convocatoria del LLM que proponga la solución de IA con Agentic. </span>\n",
    "</td>\n",
    "</tr>\n",
    "</table>"
   ]
  },
  {
   "cell_type": "code",
   "execution_count": null,
   "metadata": {},
   "outputs": [],
   "source": [
    "# Priemro creamos el mensaje\n",
    "\n",
    "messages = [{\"role\": \"user\", \"content\": \"Algo por aquí\"}]\n",
    "\n",
    "# Hacemos la primera llamada:\n",
    "\n",
    "response =\n",
    "\n",
    "# Luego leemos la idea de negocio:\n",
    "\n",
    "business_idea = response.\n",
    "\n",
    "# Y repetimos!"
   ]
  },
  {
   "cell_type": "markdown",
   "metadata": {},
   "source": []
  }
 ],
 "metadata": {
  "kernelspec": {
   "display_name": ".venv",
   "language": "python",
   "name": "python3"
  },
  "language_info": {
   "codemirror_mode": {
    "name": "ipython",
    "version": 3
   },
   "file_extension": ".py",
   "mimetype": "text/x-python",
   "name": "python",
   "nbconvert_exporter": "python",
   "pygments_lexer": "ipython3",
   "version": "3.12.11"
  }
 },
 "nbformat": 4,
 "nbformat_minor": 2
}
