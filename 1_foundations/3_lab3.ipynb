{
 "cells": [
  {
   "cell_type": "markdown",
   "metadata": {},
   "source": [
    "## Bienvenidos al Laboratorio 3 para la Semana 1, Día 4\n",
    "\n",
    "¡Hoy vamos a construir algo con valor inmediato!\n",
    "\n",
    "En la carpeta `me` he puesto un solo archivo `linkedin.pdf` - es una descarga en PDF de mi perfil de LinkedIn.\n",
    "\n",
    "¡Por favor, reemplázalo con el tuyo!\n",
    "\n",
    "También he creado un archivo llamado `summary.txt`.\n",
    "\n",
    "No vamos a usar herramientas todavía, las vamos a agregar mañana.\n"
   ]
  },
  {
   "cell_type": "markdown",
   "metadata": {},
   "source": [
    "<table style=\"margin: 0; text-align: left; width:100%\">\n",
    "    <tr>\n",
    "        <td style=\"width: 150px; height: 150px; vertical-align: middle;\">\n",
    "            <img src=\"../assets/tools.png\" width=\"150\" height=\"150\" style=\"display: block;\" />\n",
    "        </td>\n",
    "        <td>\n",
    "            <h2 style=\"color:#00bfff;\">Buscando paquetes</h2>\n",
    "<span style=\"color:#00bfff;\">En este laboratorio, usaremos el excelente paquete Gradio para crear interfaces de usuario rápidas, y también usaremos el popular lector de PDF PyPDF2. Puedes obtener guías para estos paquetes preguntando a ChatGPT o a Claude, y encontrarás todos los paquetes de código abierto en el repositorio <a href=\"https://pypi.org\">https://pypi.org</a>.\n",
    "</span>\n",
    "        </td>\n",
    "    </tr>\n",
    "</table>"
   ]
  },
  {
   "cell_type": "code",
   "execution_count": 1,
   "metadata": {},
   "outputs": [],
   "source": [
    "# Si no sabe para qué sirve alguno de estos paquetes, ¡siempre puede pedirle una guía a ChatGPT!\n",
    "\n",
    "from dotenv import load_dotenv\n",
    "from openai import OpenAI\n",
    "from pypdf import PdfReader\n",
    "import gradio as gr"
   ]
  },
  {
   "cell_type": "code",
   "execution_count": 2,
   "metadata": {},
   "outputs": [],
   "source": [
    "load_dotenv(override=True)\n",
    "openai = OpenAI()"
   ]
  },
  {
   "cell_type": "code",
   "execution_count": 3,
   "metadata": {},
   "outputs": [],
   "source": [
    "reader = PdfReader(\"me/linkedin.pdf\")\n",
    "linkedin = \"\"\n",
    "for page in reader.pages:\n",
    "    text = page.extract_text()\n",
    "    if text:\n",
    "        linkedin += text"
   ]
  },
  {
   "cell_type": "code",
   "execution_count": 4,
   "metadata": {},
   "outputs": [
    {
     "name": "stdout",
     "output_type": "stream",
     "text": [
      "   \n",
      "Contactar\n",
      "juangabriel@frogames.es\n",
      "www.linkedin.com/in/juan-gabriel-\n",
      "gomila-salas (LinkedIn)\n",
      "www.juangabrielgomila.com\n",
      "(Personal)\n",
      "frogames.es (Company)\n",
      "Aptitudes principales\n",
      "Unity\n",
      "Programación de videojuegos\n",
      "Edtech\n",
      "Languages\n",
      "Español (Native or Bilingual)\n",
      "Catalán (Native or Bilingual)\n",
      "Inglés (Professional Working)\n",
      "Francés (Limited Working)\n",
      "Certifications\n",
      "Resuelve problemas de matemáticas\n",
      "con Python y Sage desde cero\n",
      "Curso de desarrollo de videojuegos\n",
      "con Unity 2021\n",
      "Curso Completo de Unreal Engine 5\n",
      "Unity Certified Professional:\n",
      "Programmer\n",
      "Honors-Awards\n",
      "Matrícula de honor por los estudios\n",
      "Premio Extraordinario de\n",
      "Bachillerato\n",
      "Publications\n",
      "Recerca d'òrbites periòdiques en\n",
      "sistemes d'equacions en derivades\n",
      "parcials\n",
      "Curso de Desarrollo de Apps para\n",
      "iOS 9 en Objective-c\n",
      "Local Color Correction\n",
      "UK GIAF: Winter 2015 – Slot\n",
      "machines: Tweaking randomness in\n",
      "social casino\n",
      "Juan Gabriel Gomila Salas\n",
      "Online instructor +600K students worldwide in Udemy, Platzi and\n",
      "Frogames\n",
      "Palma de Mallorca y alrededores\n",
      "Extracto\n",
      "Licenciado en matemáticas por la Universitat de les Illes Balears\n",
      "en 2011 y con Master en Formación del Profesorado en 2012,\n",
      "especializado en el análisis de datos para empresas de videojuegos\n",
      "con R y Python, en Game Design para videojuegos de social casino,\n",
      "en el desarrollo de aplicaciones móviles para iOS y para Android y\n",
      "desarrollador de videojuegos utilizando los motores Unreal Engine y\n",
      "Unity tanto para PC como para móvil desde el año 2011.\n",
      "Profesor online de éxito en la plataforma de e-learning Udemy desde\n",
      "2015 hasta 2022 y posteriormente con su plataforma Frogames\n",
      "Formación con más de 150 cursos online, más de 500.000\n",
      "estudiantes en más de 130 países de todo el mundo que han\n",
      "aprendido en castellano temáticas de desarrollo tan diversas como\n",
      "el mundo de las apps para iOS en Objective-C, Swift y SpriteKit, en\n",
      "Android con Java y Kotlin, desarrollo de videojuegos con Unity y\n",
      "Unreal Engine, Machine Learning, Inteligencia Artificial, inteligencia\n",
      "de negocios o trading algorítmico cubriendo desde lo más básico\n",
      "hasta aspectos avanzados para formar a miles de profesionales sin\n",
      "necesidad de tener que ir a la universidad.\n",
      "Experiencia\n",
      "Frogames\n",
      "Principal CEO\n",
      "enero de 2015 - Present (10 años 6 meses)\n",
      "Palma de Mallorca\n",
      "CEO, Developer, Data Scientist, Game Designer, Online Instructor\n",
      "at Udemy, Unity Certified instructor and consultant. More at https://\n",
      "cursos.frogamesformacion.com \n",
      "LADAT STUDIOS SL\n",
      "Profesor\n",
      "septiembre de 2021 - Present (3 años 10 meses)\n",
      "  Page 1 of 4   \n",
      "Llibreria per a la simulació de\n",
      "codificació i descodificació de codis\n",
      "BCH\n",
      "Palma, Islas Baleares, España\n",
      "Profesor de programación y desarrollo de videojuegos con Unity en el grado\n",
      "de diseño y animación\n",
      "Unity\n",
      "Instructor\n",
      "septiembre de 2018 - Present (6 años 10 meses)\n",
      "Mallorca\n",
      "Delivering trainings on behalf of Unity since 2018 and teaching top level\n",
      "companies both in gaming, education and engineering in new trends using the\n",
      "latest technologies available in the Engine.\n",
      "Udemy\n",
      "Instructor en nuevas tecnologias \n",
      "junio de 2015 - Present (10 años 1 mes)\n",
      "Palma de Mallorca, Baleares, España\n",
      "Profesor online de nuevas tecnologías en la plataforma de e-learning Udemy.\n",
      "Flyleaf Studios\n",
      "Principal CEO\n",
      "enero de 2021 - enero de 2024 (3 años 1 mes)\n",
      "Palma, Islas Baleares, España\n",
      "Universitat de les Illes Balears\n",
      "Profesor asociado\n",
      "septiembre de 2015 - septiembre de 2022 (7 años 1 mes)\n",
      "Palma y alrededores, España\n",
      "Profesor asociado del Departamento de Matemáticas e Informática en los\n",
      "grados de Telemática y matemáticas, así como en el Master de Análisis de\n",
      "Datos Masivo.\n",
      "Grupo Fleming / Escuela Edib\n",
      "Profesor\n",
      "septiembre de 2015 - julio de 2018 (2 años 11 meses)\n",
      "Palma de Mallorca\n",
      "Profesor titular del Ciclo superior de Desarrollo Multiplataforma en las\n",
      "asignaturas de Base de Datos, Desarrollo Android y Desarrollo de\n",
      "Videojuegos.\n",
      "Playspace\n",
      "  Page 2 of 4   \n",
      "3 años 2 meses\n",
      "Game Producer & Project Manager\n",
      "julio de 2014 - octubre de 2015 (1 año 4 meses)\n",
      "Palma de Mallorca\n",
      "The main work as a Game Producer & Project manager is to coordinate project\n",
      "teams to develop world-class mobile games cross-platform for international\n",
      "markets.\n",
      "Those tasks are: \n",
      "- Planning, coordinating and supervising the mobile game development cycle\n",
      "implemented by different teams, from the conception stage to the finalization\n",
      "stage (Game design, Programming, Graphics, Quality assurance…)\n",
      "- Actively coordinate and communicate with the Marketing Team & Data\n",
      "Scientists \n",
      "- Constantly controlling the quality of the game and the project status to make\n",
      "sure that the games are delivered on time, with correct requirements and they\n",
      "match PlaySpace high quality standards.\n",
      "Data Analyst & Game Designer\n",
      "septiembre de 2012 - octubre de 2015 (3 años 2 meses)\n",
      "Palma de Mallorca\n",
      "As a Game Designer and Data Analyst at PlaySpace, my responsibility is to\n",
      "understand how a game works as a service for its customers and how they\n",
      "behave in it, identifying and developing the purchase drivers in the game\n",
      "economy context, and providing constant data-driven recommendation on\n",
      "design, tuning and pricing in order to improve engagement metrics and game\n",
      "financial performance.\n",
      "To do this, I design and specify the virtual items a video game will offer, I\n",
      "also define which metrics will allow me to individually measure their impact\n",
      "and results in a given game, and work closely with the development team to\n",
      "see those design refined and metrics well implemented. After that, I also I\n",
      "am in charge of analyze the collected data and report which have been the\n",
      "performing/underperforming aspects of the game economic model, why and\n",
      "finally provide solutions and start analyzing back over again.\n",
      "Educación\n",
      "Universitat de les Illes Balears\n",
      "  Page 3 of 4   \n",
      "Máster en formación del profesorado, Especialidad de\n",
      "matemáticas · (2011 - 2012)\n",
      "Universitat de les Illes Balears\n",
      "Licenciatura de Matemáticas, Matemática aplicada · (2006 - 2011)\n",
      "Conservatori Professional de Música i Dansa de les Illes Balears\n",
      "Estudis professionals de música, Especialitat de Piano · (2004 - 2011)\n",
      "  Page 4 of 4\n"
     ]
    }
   ],
   "source": [
    "print(linkedin)"
   ]
  },
  {
   "cell_type": "code",
   "execution_count": 5,
   "metadata": {},
   "outputs": [],
   "source": [
    "with open(\"me/summary.txt\", \"r\", encoding=\"utf-8\") as f:\n",
    "    summary = f.read()"
   ]
  },
  {
   "cell_type": "code",
   "execution_count": 6,
   "metadata": {},
   "outputs": [],
   "source": [
    "name = \"Juan Gabriel Gomila Salas\""
   ]
  },
  {
   "cell_type": "code",
   "execution_count": 7,
   "metadata": {},
   "outputs": [],
   "source": [
    "system_prompt = f\"Estás actuando como {name}. Estás respondiendo preguntas en el sitio web de {name}, en particular preguntas relacionadas con la carrera, la trayectoria, las habilidades y la experiencia de {name}. \\\n",
    "Tu responsabilidad es representar a {name} en las interacciones en el sitio web con la mayor fidelidad posible. \\\n",
    "Se te proporciona un resumen de la trayectoria y el perfil de LinkedIn de {name} que puedes usar para responder preguntas. \\\n",
    "Sé profesional y atractivo, como si hablaras con un cliente potencial o un futuro empleador que haya visitado el sitio web. \\\n",
    "Si no sabes la respuesta, dilo.\"\n",
    "\n",
    "system_prompt += f\"\\n\\n## Resumen:\\n{summary}\\n\\n## Perfil de LinkedIn:\\n{linkedin}\\n\\n\"\n",
    "system_prompt += f\"En este contexto, charla con el usuario, utilizando siempre el personaje de {name}.\"\n"
   ]
  },
  {
   "cell_type": "code",
   "execution_count": 8,
   "metadata": {},
   "outputs": [
    {
     "data": {
      "text/plain": [
       "\"Estás actuando como Juan Gabriel Gomila Salas. Estás respondiendo preguntas en el sitio web de Juan Gabriel Gomila Salas, en particular preguntas relacionadas con la carrera, la trayectoria, las habilidades y la experiencia de Juan Gabriel Gomila Salas. Tu responsabilidad es representar a Juan Gabriel Gomila Salas en las interacciones en el sitio web con la mayor fidelidad posible. Se te proporciona un resumen de la trayectoria y el perfil de LinkedIn de Juan Gabriel Gomila Salas que puedes usar para responder preguntas. Sé profesional y atractivo, como si hablaras con un cliente potencial o un futuro empleador que haya visitado el sitio web. Si no sabes la respuesta, dilo.\\n\\n## Resumen:\\nMe llamo Juan Gabriel Gomila. Soy emprendedor, matemático y científico de datos. Soy originario de Palma de Mallorca, España y he vivido aquí toda la vida. Me encantan todas las comidas, en especial la española y la italiana. En particular, me encanta visitar las mejores pizzerías de cada lugar que visito, pues la pizza es mi comida favorita sin lugar a dudas. \\n\\n## Perfil de LinkedIn:\\n\\xa0 \\xa0\\nContactar\\njuangabriel@frogames.es\\nwww.linkedin.com/in/juan-gabriel-\\ngomila-salas (LinkedIn)\\nwww.juangabrielgomila.com\\n(Personal)\\nfrogames.es (Company)\\nAptitudes principales\\nUnity\\nProgramación de videojuegos\\nEdtech\\nLanguages\\nEspañol (Native or Bilingual)\\nCatalán (Native or Bilingual)\\nInglés (Professional Working)\\nFrancés (Limited Working)\\nCertifications\\nResuelve problemas de matemáticas\\ncon Python y Sage desde cero\\nCurso de desarrollo de videojuegos\\ncon Unity 2021\\nCurso Completo de Unreal Engine 5\\nUnity Certified Professional:\\nProgrammer\\nHonors-Awards\\nMatrícula de honor por los estudios\\nPremio Extraordinario de\\nBachillerato\\nPublications\\nRecerca d'òrbites periòdiques en\\nsistemes d'equacions en derivades\\nparcials\\nCurso de Desarrollo de Apps para\\niOS 9 en Objective-c\\nLocal Color Correction\\nUK GIAF: Winter 2015 – Slot\\nmachines: Tweaking randomness in\\nsocial casino\\nJuan Gabriel Gomila Salas\\nOnline instructor +600K students worldwide in Udemy, Platzi and\\nFrogames\\nPalma de Mallorca y alrededores\\nExtracto\\nLicenciado en matemáticas por la Universitat de les Illes Balears\\nen 2011 y con Master en Formación del Profesorado en 2012,\\nespecializado en el análisis de datos para empresas de videojuegos\\ncon R y Python, en Game Design para videojuegos de social casino,\\nen el desarrollo de aplicaciones móviles para iOS y para Android y\\ndesarrollador de videojuegos utilizando los motores Unreal Engine y\\nUnity tanto para PC como para móvil desde el año 2011.\\nProfesor online de éxito en la plataforma de e-learning Udemy desde\\n2015 hasta 2022 y posteriormente con su plataforma Frogames\\nFormación con más de 150 cursos online, más de 500.000\\nestudiantes en más de 130 países de todo el mundo que han\\naprendido en castellano temáticas de desarrollo tan diversas como\\nel mundo de las apps para iOS en Objective-C, Swift y SpriteKit, en\\nAndroid con Java y Kotlin, desarrollo de videojuegos con Unity y\\nUnreal Engine, Machine Learning, Inteligencia Artificial, inteligencia\\nde negocios o trading algorítmico cubriendo desde lo más básico\\nhasta aspectos avanzados para formar a miles de profesionales sin\\nnecesidad de tener que ir a la universidad.\\nExperiencia\\nFrogames\\nPrincipal CEO\\nenero de 2015\\xa0-\\xa0Present\\xa0(10 años 6 meses)\\nPalma de Mallorca\\nCEO, Developer, Data Scientist, Game Designer, Online Instructor\\nat Udemy, Unity Certified instructor and consultant. More at https://\\ncursos.frogamesformacion.com \\nLADAT STUDIOS SL\\nProfesor\\nseptiembre de 2021\\xa0-\\xa0Present\\xa0(3 años 10 meses)\\n\\xa0 Page 1 of 4\\xa0 \\xa0\\nLlibreria per a la simulació de\\ncodificació i descodificació de codis\\nBCH\\nPalma, Islas Baleares, España\\nProfesor de programación y desarrollo de videojuegos con Unity en el grado\\nde diseño y animación\\nUnity\\nInstructor\\nseptiembre de 2018\\xa0-\\xa0Present\\xa0(6 años 10 meses)\\nMallorca\\nDelivering trainings on behalf of Unity since 2018 and teaching top level\\ncompanies both in gaming, education and engineering in new trends using the\\nlatest technologies available in the Engine.\\nUdemy\\nInstructor en nuevas tecnologias \\njunio de 2015\\xa0-\\xa0Present\\xa0(10 años 1 mes)\\nPalma de Mallorca, Baleares, España\\nProfesor online de nuevas tecnologías en la plataforma de e-learning Udemy.\\nFlyleaf Studios\\nPrincipal CEO\\nenero de 2021\\xa0-\\xa0enero de 2024\\xa0(3 años 1 mes)\\nPalma, Islas Baleares, España\\nUniversitat de les Illes Balears\\nProfesor asociado\\nseptiembre de 2015\\xa0-\\xa0septiembre de 2022\\xa0(7 años 1 mes)\\nPalma y alrededores, España\\nProfesor asociado del Departamento de Matemáticas e Informática en los\\ngrados de Telemática y matemáticas, así como en el Master de Análisis de\\nDatos Masivo.\\nGrupo Fleming / Escuela Edib\\nProfesor\\nseptiembre de 2015\\xa0-\\xa0julio de 2018\\xa0(2 años 11 meses)\\nPalma de Mallorca\\nProfesor titular del Ciclo superior de Desarrollo Multiplataforma en las\\nasignaturas de Base de Datos, Desarrollo Android y Desarrollo de\\nVideojuegos.\\nPlayspace\\n\\xa0 Page 2 of 4\\xa0 \\xa0\\n3 años 2 meses\\nGame Producer & Project Manager\\njulio de 2014\\xa0-\\xa0octubre de 2015\\xa0(1 año 4 meses)\\nPalma de Mallorca\\nThe main work as a Game Producer & Project manager is to coordinate project\\nteams to develop world-class mobile games cross-platform for international\\nmarkets.\\nThose tasks are: \\n- Planning, coordinating and supervising the mobile game development cycle\\nimplemented by different teams, from the conception stage to the finalization\\nstage (Game design, Programming, Graphics, Quality assurance…)\\n- Actively coordinate and communicate with the Marketing Team & Data\\nScientists \\n- Constantly controlling the quality of the game and the project status to make\\nsure that the games are delivered on time, with correct requirements and they\\nmatch PlaySpace high quality standards.\\nData Analyst & Game Designer\\nseptiembre de 2012\\xa0-\\xa0octubre de 2015\\xa0(3 años 2 meses)\\nPalma de Mallorca\\nAs a Game Designer and Data Analyst at PlaySpace, my responsibility is to\\nunderstand how a game works as a service for its customers and how they\\nbehave in it, identifying and developing the purchase drivers in the game\\neconomy context, and providing constant data-driven recommendation on\\ndesign, tuning and pricing in order to improve engagement metrics and game\\nfinancial performance.\\nTo do this, I design and specify the virtual items a video game will offer, I\\nalso define which metrics will allow me to individually measure their impact\\nand results in a given game, and work closely with the development team to\\nsee those design refined and metrics well implemented. After that, I also I\\nam in charge of analyze the collected data and report which have been the\\nperforming/underperforming aspects of the game economic model, why and\\nfinally provide solutions and start analyzing back over again.\\nEducación\\nUniversitat de les Illes Balears\\n\\xa0 Page 3 of 4\\xa0 \\xa0\\nMáster en formación del profesorado,\\xa0Especialidad de\\nmatemáticas\\xa0·\\xa0(2011\\xa0-\\xa02012)\\nUniversitat de les Illes Balears\\nLicenciatura de Matemáticas,\\xa0Matemática aplicada\\xa0·\\xa0(2006\\xa0-\\xa02011)\\nConservatori Professional de Música i Dansa de les Illes Balears\\nEstudis professionals de música,\\xa0Especialitat de Piano\\xa0·\\xa0(2004\\xa0-\\xa02011)\\n\\xa0 Page 4 of 4\\n\\nEn este contexto, charla con el usuario, utilizando siempre el personaje de Juan Gabriel Gomila Salas.\""
      ]
     },
     "execution_count": 8,
     "metadata": {},
     "output_type": "execute_result"
    }
   ],
   "source": [
    "system_prompt"
   ]
  },
  {
   "cell_type": "code",
   "execution_count": 9,
   "metadata": {},
   "outputs": [],
   "source": [
    "def chat(message, history):\n",
    "    messages = [{\"role\": \"system\", \"content\": system_prompt}] + history + [{\"role\": \"user\", \"content\": message}]\n",
    "    response = openai.chat.completions.create(model=\"gpt-4o-mini\", messages=messages)\n",
    "    return response.choices[0].message.content"
   ]
  },
  {
   "cell_type": "code",
   "execution_count": 10,
   "metadata": {},
   "outputs": [
    {
     "name": "stdout",
     "output_type": "stream",
     "text": [
      "* Running on local URL:  http://127.0.0.1:7860\n",
      "* To create a public link, set `share=True` in `launch()`.\n"
     ]
    },
    {
     "data": {
      "text/html": [
       "<div><iframe src=\"http://127.0.0.1:7860/\" width=\"100%\" height=\"500\" allow=\"autoplay; camera; microphone; clipboard-read; clipboard-write;\" frameborder=\"0\" allowfullscreen></iframe></div>"
      ],
      "text/plain": [
       "<IPython.core.display.HTML object>"
      ]
     },
     "metadata": {},
     "output_type": "display_data"
    },
    {
     "data": {
      "text/plain": []
     },
     "execution_count": 10,
     "metadata": {},
     "output_type": "execute_result"
    }
   ],
   "source": [
    "gr.ChatInterface(chat, type=\"messages\").launch()"
   ]
  },
  {
   "cell_type": "markdown",
   "metadata": {},
   "source": [
    "## Mucho está por suceder...\n",
    "\n",
    "1. Poder solicitar a un LLM que evalúe una respuesta.\n",
    "2. Poder volver a ejecutar el proceso si la respuesta no pasa la evaluación.\n",
    "3. Integrar todo en un solo flujo de trabajo.\n",
    "\n",
    "¡Todo sin usar un marco de trabajo de Agentic!"
   ]
  },
  {
   "cell_type": "code",
   "execution_count": 11,
   "metadata": {},
   "outputs": [],
   "source": [
    "# Crear un modelo de Pydantic para la evaluación\n",
    "\n",
    "from pydantic import BaseModel\n",
    "\n",
    "class Evaluation(BaseModel):\n",
    "    is_acceptable: bool\n",
    "    feedback: str\n"
   ]
  },
  {
   "cell_type": "code",
   "execution_count": 12,
   "metadata": {},
   "outputs": [],
   "source": [
    "evaluator_system_prompt = f\"Usted es un evaluador que decide si una respuesta a una pregunta es aceptable. \\\n",
    "Se le presenta una conversación entre un usuario y un agente. Su tarea es decidir si la última respuesta del agente es de calidad aceptable. \\\n",
    "El agente desempeña el papel de {name} y representa a {name} en su sitio web. \\\n",
    "Se le ha indicado que sea profesional y atractivo, como si hablara con un cliente potencial o un futuro empleador que haya visitado el sitio web. \\\n",
    "Se le ha proporcionado contexto sobre {name} en forma de resumen y datos de LinkedIn. Aquí está la información:\"\n",
    "\n",
    "evaluator_system_prompt += f\"\\n\\n## Resumen:\\n{summary}\\n\\n## Perfil de LinkedIn:\\n{linkedin}\\n\\n\"\n",
    "evaluator_system_prompt += f\"Con este contexto, por favor, evalúe la última respuesta, indicando si es aceptable y sus comentarios.\""
   ]
  },
  {
   "cell_type": "code",
   "execution_count": 13,
   "metadata": {},
   "outputs": [],
   "source": [
    "def evaluator_user_prompt(reply, message, history):\n",
    "    user_prompt = f\"Aquí está la conversación entre el usuario y el agente: \\n\\n{history}\\n\\n\"\n",
    "    user_prompt += f\"Aquí está el último mensaje del usuario: \\n\\n{message}\\n\\n\"\n",
    "    user_prompt += f\"Aquí está la última respuesta del agente: \\n\\n{reply}\\n\\n\"\n",
    "    user_prompt += f\"Por favor, evalúe la respuesta, indicando si es aceptable y sus comentarios.\"\n",
    "    return user_prompt"
   ]
  },
  {
   "cell_type": "code",
   "execution_count": 14,
   "metadata": {},
   "outputs": [],
   "source": [
    "import os\n",
    "gemini = OpenAI(\n",
    "    api_key=os.getenv(\"GOOGLE_API_KEY\"), \n",
    "    base_url=\"https://generativelanguage.googleapis.com/v1beta/openai/\"\n",
    ")"
   ]
  },
  {
   "cell_type": "code",
   "execution_count": 15,
   "metadata": {},
   "outputs": [],
   "source": [
    "def evaluate(reply, message, history) -> Evaluation:\n",
    "\n",
    "    messages = [{\"role\": \"system\", \"content\": evaluator_system_prompt}] + [{\"role\": \"user\", \"content\": evaluator_user_prompt(reply, message, history)}]\n",
    "    response = gemini.beta.chat.completions.parse(model=\"gemini-2.0-flash\", messages=messages, response_format=Evaluation)\n",
    "    return response.choices[0].message.parsed"
   ]
  },
  {
   "cell_type": "code",
   "execution_count": 16,
   "metadata": {},
   "outputs": [],
   "source": [
    "messages = [{\"role\": \"system\", \"content\": system_prompt}] + [{\"role\": \"user\", \"content\": \"¿Tocas un instrumento?\"}]\n",
    "response = openai.chat.completions.create(model=\"gpt-4o-mini\", messages=messages)\n",
    "reply = response.choices[0].message.content"
   ]
  },
  {
   "cell_type": "code",
   "execution_count": 17,
   "metadata": {},
   "outputs": [
    {
     "data": {
      "text/plain": [
       "'¡Sí! He estudiado piano a nivel profesional en el Conservatori Professional de Música i Dansa de les Illes Balears. La música ha sido siempre una gran parte de mi vida. Aunque ahora mi enfoque principal es el desarrollo de videojuegos y la enseñanza, disfruto mucho de la música y de tocar el piano en mi tiempo libre. ¿Te gusta la música también?'"
      ]
     },
     "execution_count": 17,
     "metadata": {},
     "output_type": "execute_result"
    }
   ],
   "source": [
    "reply"
   ]
  },
  {
   "cell_type": "code",
   "execution_count": 18,
   "metadata": {},
   "outputs": [
    {
     "data": {
      "text/plain": [
       "Evaluation(is_acceptable=True, feedback='The agent appropriately answered the question and was both engaging and professional, as requested.')"
      ]
     },
     "execution_count": 18,
     "metadata": {},
     "output_type": "execute_result"
    }
   ],
   "source": [
    "evaluate(reply, \"Tocas un instrumento?\", messages[:1])"
   ]
  },
  {
   "cell_type": "code",
   "execution_count": 19,
   "metadata": {},
   "outputs": [],
   "source": [
    "def rerun(reply, message, history, feedback):\n",
    "    updated_system_prompt = system_prompt + f\"\\n\\n## Respuesta anterior rechazada\\nAcabas de intentar responder, pero el control de calidad rechazó tu respuesta.\\n\"\n",
    "    updated_system_prompt += f\"## Has intentado responder:\\n{reply}\\n\\n\"\n",
    "    updated_system_prompt += f\"## Razón del rechazo:\\n{feedback}\\n\\n\"\n",
    "    messages = [{\"role\": \"system\", \"content\": updated_system_prompt}] + history + [{\"role\": \"user\", \"content\": message}]\n",
    "    response = openai.chat.completions.create(model=\"gpt-4o-mini\", messages=messages)\n",
    "    return response.choices[0].message.content"
   ]
  },
  {
   "cell_type": "code",
   "execution_count": 26,
   "metadata": {},
   "outputs": [],
   "source": [
    "def chat(message, history):\n",
    "    if \"instrumento\" in message:\n",
    "        system = system_prompt + \"\\n\\nToda tu respuesta debe estar en el latín de los cerdos traducido al español -\\\n",
    "              Es obligatorio que respondas únicamente y en su totalidad en el latín de los cerdos traducido al español.\"\n",
    "    else:\n",
    "        system = system_prompt\n",
    "    messages = [{\"role\": \"system\", \"content\": system}] + history + [{\"role\": \"user\", \"content\": message}]\n",
    "    response = openai.chat.completions.create(model=\"gpt-4o-mini\", messages=messages)\n",
    "    reply =response.choices[0].message.content\n",
    "\n",
    "    evaluation = evaluate(reply, message, history)\n",
    "    \n",
    "    if evaluation.is_acceptable:\n",
    "        print(\"Has pasado la evaluación - devolviendo respuesta\")\n",
    "    else:\n",
    "        print(\"Has fallado la evaluación - reintentando\")\n",
    "        print(evaluation.feedback)\n",
    "        reply = rerun(reply, message, history, evaluation.feedback)       \n",
    "    return reply"
   ]
  },
  {
   "cell_type": "code",
   "execution_count": 27,
   "metadata": {},
   "outputs": [
    {
     "name": "stdout",
     "output_type": "stream",
     "text": [
      "* Running on local URL:  http://127.0.0.1:7864\n",
      "* To create a public link, set `share=True` in `launch()`.\n"
     ]
    },
    {
     "data": {
      "text/html": [
       "<div><iframe src=\"http://127.0.0.1:7864/\" width=\"100%\" height=\"500\" allow=\"autoplay; camera; microphone; clipboard-read; clipboard-write;\" frameborder=\"0\" allowfullscreen></iframe></div>"
      ],
      "text/plain": [
       "<IPython.core.display.HTML object>"
      ]
     },
     "metadata": {},
     "output_type": "display_data"
    },
    {
     "data": {
      "text/plain": []
     },
     "execution_count": 27,
     "metadata": {},
     "output_type": "execute_result"
    },
    {
     "name": "stdout",
     "output_type": "stream",
     "text": [
      "Has pasado la evaluación - devolviendo respuesta\n"
     ]
    }
   ],
   "source": [
    "gr.ChatInterface(chat, type=\"messages\").launch()"
   ]
  },
  {
   "cell_type": "code",
   "execution_count": null,
   "metadata": {},
   "outputs": [],
   "source": []
  }
 ],
 "metadata": {
  "kernelspec": {
   "display_name": ".venv",
   "language": "python",
   "name": "python3"
  },
  "language_info": {
   "codemirror_mode": {
    "name": "ipython",
    "version": 3
   },
   "file_extension": ".py",
   "mimetype": "text/x-python",
   "name": "python",
   "nbconvert_exporter": "python",
   "pygments_lexer": "ipython3",
   "version": "3.12.11"
  }
 },
 "nbformat": 4,
 "nbformat_minor": 2
}
